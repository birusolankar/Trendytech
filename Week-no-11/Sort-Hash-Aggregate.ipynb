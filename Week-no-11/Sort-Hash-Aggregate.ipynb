{
 "cells": [
  {
   "cell_type": "code",
   "execution_count": 1,
   "id": "1900b45f",
   "metadata": {},
   "outputs": [],
   "source": [
    "from pyspark.sql import SparkSession\n",
    "import getpass\n",
    "username = getpass.getuser()\n",
    "spark = SparkSession. \\\n",
    "builder. \\\n",
    "config('spark.shuffle.useOldFetchProtocol', 'true').\\\n",
    "config('spark.ui.port', '0'). \\\n",
    "config(\"spark.sql.warehouse.dir\", f\"/user/itv015970/warehouse\"). \\\n",
    "enableHiveSupport(). \\\n",
    "master('yarn'). \\\n",
    "getOrCreate()"
   ]
  },
  {
   "cell_type": "code",
   "execution_count": 2,
   "id": "94de93bc",
   "metadata": {},
   "outputs": [],
   "source": [
    "order_schema = \"order_id long, order_date string, customer_id long, order_status string\" "
   ]
  },
  {
   "cell_type": "code",
   "execution_count": 3,
   "id": "d641eac3",
   "metadata": {},
   "outputs": [],
   "source": [
    "orders_df = spark.read \\\n",
    ".format(\"csv\") \\\n",
    ".schema(order_schema) \\\n",
    ".load(\"/public/trendytech/retail_db/ordersnew\")"
   ]
  },
  {
   "cell_type": "code",
   "execution_count": 4,
   "id": "e29c496c",
   "metadata": {},
   "outputs": [
    {
     "name": "stdout",
     "output_type": "stream",
     "text": [
      "+--------+--------------------+-----------+------------+\n",
      "|order_id|          order_date|customer_id|order_status|\n",
      "+--------+--------------------+-----------+------------+\n",
      "|    2480|2013-08-07 00:00:...|       3807|    COMPLETE|\n",
      "|   30479|2014-01-30 00:00:...|       9265|    COMPLETE|\n",
      "|    2481|2013-08-07 00:00:...|       2476|    COMPLETE|\n",
      "|   30481|2014-01-30 00:00:...|       9240|    COMPLETE|\n",
      "|    2483|2013-08-07 00:00:...|      10453|    COMPLETE|\n",
      "|   30484|2014-01-30 00:00:...|       2876|    COMPLETE|\n",
      "|    2484|2013-08-07 00:00:...|       9256|    COMPLETE|\n",
      "|   30485|2014-01-30 00:00:...|       1069|    COMPLETE|\n",
      "|    2488|2013-08-07 00:00:...|       1255|    COMPLETE|\n",
      "|   30486|2014-01-30 00:00:...|       1151|    COMPLETE|\n",
      "|    2491|2013-08-07 00:00:...|        247|    COMPLETE|\n",
      "|   30487|2014-01-30 00:00:...|       6772|    COMPLETE|\n",
      "|    2495|2013-08-07 00:00:...|       9011|    COMPLETE|\n",
      "|   30489|2014-01-30 00:00:...|       5717|    COMPLETE|\n",
      "|    2498|2013-08-07 00:00:...|       1966|    COMPLETE|\n",
      "|   30490|2014-01-30 00:00:...|      12189|    COMPLETE|\n",
      "|    2511|2013-08-07 00:00:...|       8544|    COMPLETE|\n",
      "|   30492|2014-01-30 00:00:...|       3710|    COMPLETE|\n",
      "|    2515|2013-08-07 00:00:...|      12056|    COMPLETE|\n",
      "|   30494|2014-01-30 00:00:...|       2724|    COMPLETE|\n",
      "+--------+--------------------+-----------+------------+\n",
      "only showing top 20 rows\n",
      "\n"
     ]
    }
   ],
   "source": [
    "orders_df.show()"
   ]
  },
  {
   "cell_type": "code",
   "execution_count": 5,
   "id": "004c8580",
   "metadata": {},
   "outputs": [],
   "source": [
    "orders_df.createOrReplaceTempView(\"orders\")"
   ]
  },
  {
   "cell_type": "code",
   "execution_count": 9,
   "id": "1c0b5a69",
   "metadata": {},
   "outputs": [
    {
     "name": "stdout",
     "output_type": "stream",
     "text": [
      "+-----------+-----------+-----------+\n",
      "|customer_id|order_month|total_count|\n",
      "+-----------+-----------+-----------+\n",
      "|      11141|      April|       2007|\n",
      "|       3259|      April|       2007|\n",
      "|      10064|      April|       2007|\n",
      "|       8311|      April|       2385|\n",
      "|        820|      April|       2007|\n",
      "|       4538|      April|       2007|\n",
      "|       1354|      April|       2007|\n",
      "|      12396|      April|       2007|\n",
      "|      11018|      April|        375|\n",
      "|      10244|      April|        375|\n",
      "|       1562|      April|        750|\n",
      "|       2033|      April|        375|\n",
      "|      11659|      April|        375|\n",
      "|      10016|      April|        375|\n",
      "|       3266|      April|        375|\n",
      "|      12369|      April|        375|\n",
      "|         49|      April|        375|\n",
      "|       7185|      April|        375|\n",
      "|       9043|      April|        750|\n",
      "|       5677|      April|        375|\n",
      "+-----------+-----------+-----------+\n",
      "only showing top 20 rows\n",
      "\n"
     ]
    }
   ],
   "source": [
    "spark.sql(\"\"\"\n",
    "select customer_id, date_format(order_date, 'MMMM') as order_month,\n",
    "count(1) as total_count from orders\n",
    "group by customer_id, order_month order by order_month\"\"\").show()"
   ]
  },
  {
   "cell_type": "code",
   "execution_count": 7,
   "id": "42285a1c",
   "metadata": {},
   "outputs": [
    {
     "name": "stdout",
     "output_type": "stream",
     "text": [
      "+-----------+-----------+-----------+---------+\n",
      "|customer_id|order_month|total_count|month_num|\n",
      "+-----------+-----------+-----------+---------+\n",
      "|       2346|    January|       2010|       01|\n",
      "|       2335|    January|        375|       01|\n",
      "|         18|    January|       4020|       01|\n",
      "|       4249|    January|       2760|       01|\n",
      "|        440|    January|        375|       01|\n",
      "|       1182|    January|        375|       01|\n",
      "|       1606|    January|       2010|       01|\n",
      "|       2787|    January|       2010|       01|\n",
      "|       4318|    January|       2385|       01|\n",
      "|       1198|    January|        375|       01|\n",
      "|       9905|    January|       2010|       01|\n",
      "|      10148|    January|       2010|       01|\n",
      "|      10209|    January|        375|       01|\n",
      "|      10635|    January|       2010|       01|\n",
      "|      11156|    January|        375|       01|\n",
      "|      11347|    January|       2010|       01|\n",
      "|       4409|    January|       2010|       01|\n",
      "|       7268|    January|       2010|       01|\n",
      "|       4353|    January|       2010|       01|\n",
      "|       7955|    January|        375|       01|\n",
      "+-----------+-----------+-----------+---------+\n",
      "only showing top 20 rows\n",
      "\n"
     ]
    }
   ],
   "source": [
    "spark.sql(\"\"\"\n",
    "select customer_id, date_format(order_date, 'MMMM') as order_month,\n",
    "count(1) as total_count, first(date_format(order_date, 'MM')) as month_num from orders\n",
    "group by customer_id, order_month order by month_num\"\"\").show()"
   ]
  },
  {
   "cell_type": "code",
   "execution_count": 10,
   "id": "14079fbc",
   "metadata": {},
   "outputs": [],
   "source": [
    "# this code follows sort aggregate--> first sorts and then aggregates\n",
    "spark.sql(\"\"\"\n",
    "select customer_id, date_format(order_date, 'MMMM') as order_month,\n",
    "count(1) as total_count, first(date_format(order_date, 'MM')) as month_num from orders\n",
    "group by customer_id, order_month order by month_num\"\"\").write.format(\"noop\").mode(\"overwrite\").save()"
   ]
  },
  {
   "cell_type": "code",
   "execution_count": 11,
   "id": "5038acc3",
   "metadata": {},
   "outputs": [],
   "source": [
    "# This code follows hash aggregate-->\n",
    "spark.sql(\"\"\"\n",
    "select customer_id, date_format(order_date, 'MMMM') as order_month,\n",
    "count(1) as total_count, first(int(date_format(order_date, 'MM'))) as month_num from orders\n",
    "group by customer_id, order_month order by month_num\"\"\").write.format(\"noop\").mode(\"overwrite\").save()"
   ]
  },
  {
   "cell_type": "code",
   "execution_count": null,
   "id": "1c267124",
   "metadata": {},
   "outputs": [],
   "source": []
  },
  {
   "cell_type": "code",
   "execution_count": null,
   "id": "1839bc37",
   "metadata": {},
   "outputs": [],
   "source": []
  }
 ],
 "metadata": {
  "kernelspec": {
   "display_name": "Pyspark 3",
   "language": "python",
   "name": "pyspark3"
  },
  "language_info": {
   "codemirror_mode": {
    "name": "ipython",
    "version": 3
   },
   "file_extension": ".py",
   "mimetype": "text/x-python",
   "name": "python",
   "nbconvert_exporter": "python",
   "pygments_lexer": "ipython3",
   "version": "3.6.12"
  }
 },
 "nbformat": 4,
 "nbformat_minor": 5
}
