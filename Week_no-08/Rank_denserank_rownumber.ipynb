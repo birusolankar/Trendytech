{
 "cells": [
  {
   "cell_type": "code",
   "execution_count": 20,
   "id": "d480b0d3",
   "metadata": {},
   "outputs": [],
   "source": [
    "from pyspark.sql import SparkSession\n",
    "import getpass\n",
    "username = getpass.getuser()\n",
    "spark = SparkSession. \\\n",
    "builder. \\\n",
    "config('spark.ui.port', '0'). \\\n",
    "config(\"spark.sql.warehouse.dir\", f\"/user/itv015970/warehouse\"). \\\n",
    "enableHiveSupport(). \\\n",
    "master('yarn'). \\\n",
    "getOrCreate()"
   ]
  },
  {
   "cell_type": "code",
   "execution_count": 21,
   "id": "20f0d492",
   "metadata": {},
   "outputs": [],
   "source": [
    "orders_df = spark.read \\\n",
    ".format(\"csv\") \\\n",
    ".option(\"inferschema\", \"true\") \\\n",
    ".option(\"header\", \"true\") \\\n",
    ".load(\"/public/trendytech/datasets/windowdatamodified.csv\")"
   ]
  },
  {
   "cell_type": "code",
   "execution_count": 3,
   "id": "7e26cc4f",
   "metadata": {},
   "outputs": [
    {
     "name": "stdout",
     "output_type": "stream",
     "text": [
      "+--------------+-------+-----------+-------------+------------+\n",
      "|       country|weeknum|numinvoices|totalquantity|invoicevalue|\n",
      "+--------------+-------+-----------+-------------+------------+\n",
      "|         Spain|     49|          1|           67|      174.72|\n",
      "|       Germany|     48|         11|         1795|      1600.0|\n",
      "|     Lithuania|     48|          3|          622|     1598.06|\n",
      "|       Germany|     49|         12|         1852|      1800.0|\n",
      "|       Bahrain|     51|          1|           54|      205.74|\n",
      "|       Iceland|     49|          1|          319|      711.79|\n",
      "|         India|     51|          5|           95|       300.0|\n",
      "|     Australia|     50|          2|          133|      387.95|\n",
      "|         Italy|     49|          1|           -2|       -17.0|\n",
      "|         India|     49|          5|         1280|      3284.1|\n",
      "|         Spain|     50|          2|          400|     1049.01|\n",
      "|United Kingdom|     51|        200|        28782|    75103.46|\n",
      "|        Norway|     49|          1|         1730|     1867.98|\n",
      "|United Kingdom|     48|        478|        68865|   166116.72|\n",
      "|        France|     51|          5|          847|       500.0|\n",
      "|      Portugal|     49|          4|          726|     1844.67|\n",
      "|         Spain|     48|          1|          400|       620.0|\n",
      "|         India|     48|          7|         2822|       300.0|\n",
      "|       Germany|     50|         15|         1973|      1800.0|\n",
      "|         Italy|     51|          1|          131|       383.7|\n",
      "+--------------+-------+-----------+-------------+------------+\n",
      "only showing top 20 rows\n",
      "\n"
     ]
    }
   ],
   "source": [
    "orders_df.show()"
   ]
  },
  {
   "cell_type": "code",
   "execution_count": 22,
   "id": "ea85cafe",
   "metadata": {},
   "outputs": [],
   "source": [
    "from pyspark.sql import *\n",
    "from pyspark.sql.functions import *\n",
    "from pyspark.sql.window import Window"
   ]
  },
  {
   "cell_type": "code",
   "execution_count": 7,
   "id": "f234c9a1",
   "metadata": {},
   "outputs": [],
   "source": [
    "# find the running total of invoice value\n",
    "\n",
    "window_spec = Window.partitionBy(\"country\").orderBy(\"invoicevalue\").rowsBetween(Window.unboundedPreceding, Window.currentRow)"
   ]
  },
  {
   "cell_type": "code",
   "execution_count": 8,
   "id": "5366ee91",
   "metadata": {},
   "outputs": [
    {
     "name": "stdout",
     "output_type": "stream",
     "text": [
      "+-------+-------+-----------+-------------+------------+------------------+\n",
      "|country|weeknum|numinvoices|totalquantity|invoicevalue|     running_total|\n",
      "+-------+-------+-----------+-------------+------------+------------------+\n",
      "| Sweden|     50|          3|         3714|      2646.3|            2646.3|\n",
      "|Germany|     48|         11|         1795|      1600.0|            1600.0|\n",
      "|Germany|     51|          5|         1103|      1600.0|            3200.0|\n",
      "|Germany|     49|         12|         1852|      1800.0|            5000.0|\n",
      "|Germany|     50|         15|         1973|      1800.0|            6800.0|\n",
      "| France|     51|          5|          847|       500.0|             500.0|\n",
      "| France|     49|          9|         2303|       500.0|            1000.0|\n",
      "| France|     48|          4|         1299|       500.0|            1500.0|\n",
      "| France|     50|          6|          529|      537.32|2037.3200000000002|\n",
      "|Belgium|     50|          2|          285|      625.16|            625.16|\n",
      "|Belgium|     48|          1|          528|       800.0|1425.1599999999999|\n",
      "|Belgium|     51|          2|          942|       800.0|           2225.16|\n",
      "|Finland|     50|          1|         1254|       892.8|             892.8|\n",
      "|  India|     51|          5|           95|       300.0|             300.0|\n",
      "|  India|     48|          7|         2822|       300.0|             600.0|\n",
      "|  India|     50|          5|         1184|     2321.78|           2921.78|\n",
      "|  India|     49|          5|         1280|      3284.1|           6205.88|\n",
      "|  Italy|     49|          1|           -2|       -17.0|             -17.0|\n",
      "|  Italy|     51|          1|          131|       383.7|             366.7|\n",
      "|  Italy|     48|          1|          164|       427.8|             794.5|\n",
      "+-------+-------+-----------+-------------+------------+------------------+\n",
      "only showing top 20 rows\n",
      "\n"
     ]
    }
   ],
   "source": [
    "orders_df.withColumn(\"running_total\", sum(\"invoicevalue\").over(window_spec)).show()"
   ]
  },
  {
   "cell_type": "markdown",
   "id": "a66b3657",
   "metadata": {},
   "source": [
    "### RANK, DENSE_RANK, ROW_NUMBER"
   ]
  },
  {
   "cell_type": "code",
   "execution_count": 9,
   "id": "bf57a059",
   "metadata": {},
   "outputs": [],
   "source": [
    "my_window = Window.partitionBy(\"country\").orderBy(desc(\"invoicevalue\"))"
   ]
  },
  {
   "cell_type": "code",
   "execution_count": 11,
   "id": "1f845d61",
   "metadata": {},
   "outputs": [
    {
     "name": "stdout",
     "output_type": "stream",
     "text": [
      "+-------+-------+-----------+-------------+------------+----+\n",
      "|country|weeknum|numinvoices|totalquantity|invoicevalue|rank|\n",
      "+-------+-------+-----------+-------------+------------+----+\n",
      "| Sweden|     50|          3|         3714|      2646.3|   1|\n",
      "|Germany|     49|         12|         1852|      1800.0|   1|\n",
      "|Germany|     50|         15|         1973|      1800.0|   1|\n",
      "|Germany|     48|         11|         1795|      1600.0|   3|\n",
      "|Germany|     51|          5|         1103|      1600.0|   3|\n",
      "| France|     50|          6|          529|      537.32|   1|\n",
      "| France|     51|          5|          847|       500.0|   2|\n",
      "| France|     49|          9|         2303|       500.0|   2|\n",
      "| France|     48|          4|         1299|       500.0|   2|\n",
      "|Belgium|     48|          1|          528|       800.0|   1|\n",
      "|Belgium|     51|          2|          942|       800.0|   1|\n",
      "|Belgium|     50|          2|          285|      625.16|   3|\n",
      "|Finland|     50|          1|         1254|       892.8|   1|\n",
      "|  India|     49|          5|         1280|      3284.1|   1|\n",
      "|  India|     50|          5|         1184|     2321.78|   2|\n",
      "|  India|     51|          5|           95|       300.0|   3|\n",
      "|  India|     48|          7|         2822|       300.0|   3|\n",
      "|  Italy|     48|          1|          164|       427.8|   1|\n",
      "|  Italy|     51|          1|          131|       383.7|   2|\n",
      "|  Italy|     49|          1|           -2|       -17.0|   3|\n",
      "+-------+-------+-----------+-------------+------------+----+\n",
      "only showing top 20 rows\n",
      "\n"
     ]
    }
   ],
   "source": [
    "#rank\n",
    "\n",
    "orders_df.withColumn(\"rank\", rank().over(my_window)).show()"
   ]
  },
  {
   "cell_type": "code",
   "execution_count": 12,
   "id": "881e2e45",
   "metadata": {},
   "outputs": [
    {
     "name": "stdout",
     "output_type": "stream",
     "text": [
      "+-------+-------+-----------+-------------+------------+----------+\n",
      "|country|weeknum|numinvoices|totalquantity|invoicevalue|dense_rank|\n",
      "+-------+-------+-----------+-------------+------------+----------+\n",
      "| Sweden|     50|          3|         3714|      2646.3|         1|\n",
      "|Germany|     49|         12|         1852|      1800.0|         1|\n",
      "|Germany|     50|         15|         1973|      1800.0|         1|\n",
      "|Germany|     48|         11|         1795|      1600.0|         2|\n",
      "|Germany|     51|          5|         1103|      1600.0|         2|\n",
      "| France|     50|          6|          529|      537.32|         1|\n",
      "| France|     51|          5|          847|       500.0|         2|\n",
      "| France|     49|          9|         2303|       500.0|         2|\n",
      "| France|     48|          4|         1299|       500.0|         2|\n",
      "|Belgium|     48|          1|          528|       800.0|         1|\n",
      "|Belgium|     51|          2|          942|       800.0|         1|\n",
      "|Belgium|     50|          2|          285|      625.16|         2|\n",
      "|Finland|     50|          1|         1254|       892.8|         1|\n",
      "|  India|     49|          5|         1280|      3284.1|         1|\n",
      "|  India|     50|          5|         1184|     2321.78|         2|\n",
      "|  India|     51|          5|           95|       300.0|         3|\n",
      "|  India|     48|          7|         2822|       300.0|         3|\n",
      "|  Italy|     48|          1|          164|       427.8|         1|\n",
      "|  Italy|     51|          1|          131|       383.7|         2|\n",
      "|  Italy|     49|          1|           -2|       -17.0|         3|\n",
      "+-------+-------+-----------+-------------+------------+----------+\n",
      "only showing top 20 rows\n",
      "\n"
     ]
    }
   ],
   "source": [
    "# dense_rank\n",
    "orders_df.withColumn(\"dense_rank\", dense_rank().over(my_window)).show()"
   ]
  },
  {
   "cell_type": "code",
   "execution_count": 13,
   "id": "b25137b6",
   "metadata": {},
   "outputs": [
    {
     "name": "stdout",
     "output_type": "stream",
     "text": [
      "+-------+-------+-----------+-------------+------------+----------+\n",
      "|country|weeknum|numinvoices|totalquantity|invoicevalue|row_number|\n",
      "+-------+-------+-----------+-------------+------------+----------+\n",
      "| Sweden|     50|          3|         3714|      2646.3|         1|\n",
      "|Germany|     49|         12|         1852|      1800.0|         1|\n",
      "|Germany|     50|         15|         1973|      1800.0|         2|\n",
      "|Germany|     48|         11|         1795|      1600.0|         3|\n",
      "|Germany|     51|          5|         1103|      1600.0|         4|\n",
      "| France|     50|          6|          529|      537.32|         1|\n",
      "| France|     51|          5|          847|       500.0|         2|\n",
      "| France|     49|          9|         2303|       500.0|         3|\n",
      "| France|     48|          4|         1299|       500.0|         4|\n",
      "|Belgium|     48|          1|          528|       800.0|         1|\n",
      "|Belgium|     51|          2|          942|       800.0|         2|\n",
      "|Belgium|     50|          2|          285|      625.16|         3|\n",
      "|Finland|     50|          1|         1254|       892.8|         1|\n",
      "|  India|     49|          5|         1280|      3284.1|         1|\n",
      "|  India|     50|          5|         1184|     2321.78|         2|\n",
      "|  India|     51|          5|           95|       300.0|         3|\n",
      "|  India|     48|          7|         2822|       300.0|         4|\n",
      "|  Italy|     48|          1|          164|       427.8|         1|\n",
      "|  Italy|     51|          1|          131|       383.7|         2|\n",
      "|  Italy|     49|          1|           -2|       -17.0|         3|\n",
      "+-------+-------+-----------+-------------+------------+----------+\n",
      "only showing top 20 rows\n",
      "\n"
     ]
    }
   ],
   "source": [
    "# row_number\n",
    "orders_df.withColumn(\"row_number\", row_number().over(my_window)).show()"
   ]
  },
  {
   "cell_type": "code",
   "execution_count": 14,
   "id": "d57f394c",
   "metadata": {},
   "outputs": [
    {
     "name": "stdout",
     "output_type": "stream",
     "text": [
      "+-------+-------+-----------+-------------+------------+----+----------+----------+\n",
      "|country|weeknum|numinvoices|totalquantity|invoicevalue|rank|dense_rank|row_number|\n",
      "+-------+-------+-----------+-------------+------------+----+----------+----------+\n",
      "| Sweden|     50|          3|         3714|      2646.3|   1|         1|         1|\n",
      "|Germany|     49|         12|         1852|      1800.0|   1|         1|         1|\n",
      "|Germany|     50|         15|         1973|      1800.0|   1|         1|         2|\n",
      "|Germany|     48|         11|         1795|      1600.0|   3|         2|         3|\n",
      "|Germany|     51|          5|         1103|      1600.0|   3|         2|         4|\n",
      "| France|     50|          6|          529|      537.32|   1|         1|         1|\n",
      "| France|     51|          5|          847|       500.0|   2|         2|         2|\n",
      "| France|     49|          9|         2303|       500.0|   2|         2|         3|\n",
      "| France|     48|          4|         1299|       500.0|   2|         2|         4|\n",
      "|Belgium|     48|          1|          528|       800.0|   1|         1|         1|\n",
      "|Belgium|     51|          2|          942|       800.0|   1|         1|         2|\n",
      "|Belgium|     50|          2|          285|      625.16|   3|         2|         3|\n",
      "|Finland|     50|          1|         1254|       892.8|   1|         1|         1|\n",
      "|  India|     49|          5|         1280|      3284.1|   1|         1|         1|\n",
      "|  India|     50|          5|         1184|     2321.78|   2|         2|         2|\n",
      "|  India|     51|          5|           95|       300.0|   3|         3|         3|\n",
      "|  India|     48|          7|         2822|       300.0|   3|         3|         4|\n",
      "|  Italy|     48|          1|          164|       427.8|   1|         1|         1|\n",
      "|  Italy|     51|          1|          131|       383.7|   2|         2|         2|\n",
      "|  Italy|     49|          1|           -2|       -17.0|   3|         3|         3|\n",
      "+-------+-------+-----------+-------------+------------+----+----------+----------+\n",
      "only showing top 20 rows\n",
      "\n"
     ]
    }
   ],
   "source": [
    "# all in one\n",
    "\n",
    "orders_df.withColumn(\"rank\", rank().over(my_window)) \\\n",
    ".withColumn(\"dense_rank\", dense_rank().over(my_window)) \\\n",
    ".withColumn(\"row_number\", row_number().over(my_window)) \\\n",
    ".show()"
   ]
  },
  {
   "cell_type": "markdown",
   "id": "b83ea89d",
   "metadata": {},
   "source": [
    "### LEAD, LAG"
   ]
  },
  {
   "cell_type": "code",
   "execution_count": 23,
   "id": "7503acf8",
   "metadata": {},
   "outputs": [
    {
     "name": "stdout",
     "output_type": "stream",
     "text": [
      "+---------+-------+-----------+-------------+------------+\n",
      "|  country|weeknum|numinvoices|totalquantity|invoicevalue|\n",
      "+---------+-------+-----------+-------------+------------+\n",
      "|    Spain|     49|          1|           67|      174.72|\n",
      "|  Germany|     48|         11|         1795|      1600.0|\n",
      "|Lithuania|     48|          3|          622|     1598.06|\n",
      "|  Germany|     49|         12|         1852|      1800.0|\n",
      "|  Bahrain|     51|          1|           54|      205.74|\n",
      "+---------+-------+-----------+-------------+------------+\n",
      "only showing top 5 rows\n",
      "\n"
     ]
    }
   ],
   "source": [
    "#Lag\n",
    "\n",
    "orders_df.show(5)"
   ]
  },
  {
   "cell_type": "code",
   "execution_count": 24,
   "id": "90c5e2bb",
   "metadata": {},
   "outputs": [],
   "source": [
    "mywindow = Window.partitionBy(\"country\").orderBy(\"weeknum\")"
   ]
  },
  {
   "cell_type": "code",
   "execution_count": 25,
   "id": "3dccd990",
   "metadata": {},
   "outputs": [
    {
     "name": "stdout",
     "output_type": "stream",
     "text": [
      "+-------+-------+-----------+-------------+------------+-------------+\n",
      "|country|weeknum|numinvoices|totalquantity|invoicevalue|previous_week|\n",
      "+-------+-------+-----------+-------------+------------+-------------+\n",
      "| Sweden|     50|          3|         3714|      2646.3|         null|\n",
      "|Germany|     48|         11|         1795|      1600.0|         null|\n",
      "|Germany|     49|         12|         1852|      1800.0|       1600.0|\n",
      "|Germany|     50|         15|         1973|      1800.0|       1800.0|\n",
      "|Germany|     51|          5|         1103|      1600.0|       1800.0|\n",
      "| France|     48|          4|         1299|       500.0|         null|\n",
      "| France|     49|          9|         2303|       500.0|        500.0|\n",
      "| France|     50|          6|          529|      537.32|        500.0|\n",
      "| France|     51|          5|          847|       500.0|       537.32|\n",
      "|Belgium|     48|          1|          528|       800.0|         null|\n",
      "|Belgium|     50|          2|          285|      625.16|        800.0|\n",
      "|Belgium|     51|          2|          942|       800.0|       625.16|\n",
      "|Finland|     50|          1|         1254|       892.8|         null|\n",
      "|  India|     48|          7|         2822|       300.0|         null|\n",
      "|  India|     49|          5|         1280|      3284.1|        300.0|\n",
      "|  India|     50|          5|         1184|     2321.78|       3284.1|\n",
      "|  India|     51|          5|           95|       300.0|      2321.78|\n",
      "|  Italy|     48|          1|          164|       427.8|         null|\n",
      "|  Italy|     49|          1|           -2|       -17.0|        427.8|\n",
      "|  Italy|     51|          1|          131|       383.7|        -17.0|\n",
      "+-------+-------+-----------+-------------+------------+-------------+\n",
      "only showing top 20 rows\n",
      "\n"
     ]
    }
   ],
   "source": [
    "#lag\n",
    "\n",
    "orders_df.withColumn(\"previous_week\", lag(\"invoicevalue\").over(mywindow)).show()"
   ]
  },
  {
   "cell_type": "code",
   "execution_count": 28,
   "id": "0535ea3c",
   "metadata": {},
   "outputs": [
    {
     "name": "stdout",
     "output_type": "stream",
     "text": [
      "+-------+-------+-----------+-------------+------------+-------------+-------------------+\n",
      "|country|weeknum|numinvoices|totalquantity|invoicevalue|previous_week|          net_value|\n",
      "+-------+-------+-----------+-------------+------------+-------------+-------------------+\n",
      "| Sweden|     50|          3|         3714|      2646.3|         null|               null|\n",
      "|Germany|     48|         11|         1795|      1600.0|         null|               null|\n",
      "|Germany|     49|         12|         1852|      1800.0|       1600.0|              200.0|\n",
      "|Germany|     50|         15|         1973|      1800.0|       1800.0|                0.0|\n",
      "|Germany|     51|          5|         1103|      1600.0|       1800.0|             -200.0|\n",
      "| France|     48|          4|         1299|       500.0|         null|               null|\n",
      "| France|     49|          9|         2303|       500.0|        500.0|                0.0|\n",
      "| France|     50|          6|          529|      537.32|        500.0|  37.32000000000005|\n",
      "| France|     51|          5|          847|       500.0|       537.32| -37.32000000000005|\n",
      "|Belgium|     48|          1|          528|       800.0|         null|               null|\n",
      "|Belgium|     50|          2|          285|      625.16|        800.0|-174.84000000000003|\n",
      "|Belgium|     51|          2|          942|       800.0|       625.16| 174.84000000000003|\n",
      "|Finland|     50|          1|         1254|       892.8|         null|               null|\n",
      "|  India|     48|          7|         2822|       300.0|         null|               null|\n",
      "|  India|     49|          5|         1280|      3284.1|        300.0|             2984.1|\n",
      "|  India|     50|          5|         1184|     2321.78|       3284.1| -962.3199999999997|\n",
      "|  India|     51|          5|           95|       300.0|      2321.78|-2021.7800000000002|\n",
      "|  Italy|     48|          1|          164|       427.8|         null|               null|\n",
      "|  Italy|     49|          1|           -2|       -17.0|        427.8|             -444.8|\n",
      "|  Italy|     51|          1|          131|       383.7|        -17.0|              400.7|\n",
      "+-------+-------+-----------+-------------+------------+-------------+-------------------+\n",
      "only showing top 20 rows\n",
      "\n"
     ]
    }
   ],
   "source": [
    "#lag\n",
    "\n",
    "orders_df \\\n",
    ".withColumn(\"previous_week\", lag(\"invoicevalue\").over(mywindow)) \\\n",
    ".withColumn(\"net_value\", expr(\"invoicevalue - previous_week\")) \\\n",
    ".show()"
   ]
  },
  {
   "cell_type": "code",
   "execution_count": 29,
   "id": "8cd3ddf7",
   "metadata": {},
   "outputs": [
    {
     "name": "stdout",
     "output_type": "stream",
     "text": [
      "+-------+-------+-----------+-------------+------------+---------+\n",
      "|country|weeknum|numinvoices|totalquantity|invoicevalue|next_week|\n",
      "+-------+-------+-----------+-------------+------------+---------+\n",
      "| Sweden|     50|          3|         3714|      2646.3|     null|\n",
      "|Germany|     48|         11|         1795|      1600.0|   1800.0|\n",
      "|Germany|     49|         12|         1852|      1800.0|   1800.0|\n",
      "|Germany|     50|         15|         1973|      1800.0|   1600.0|\n",
      "|Germany|     51|          5|         1103|      1600.0|     null|\n",
      "| France|     48|          4|         1299|       500.0|    500.0|\n",
      "| France|     49|          9|         2303|       500.0|   537.32|\n",
      "| France|     50|          6|          529|      537.32|    500.0|\n",
      "| France|     51|          5|          847|       500.0|     null|\n",
      "|Belgium|     48|          1|          528|       800.0|   625.16|\n",
      "|Belgium|     50|          2|          285|      625.16|    800.0|\n",
      "|Belgium|     51|          2|          942|       800.0|     null|\n",
      "|Finland|     50|          1|         1254|       892.8|     null|\n",
      "|  India|     48|          7|         2822|       300.0|   3284.1|\n",
      "|  India|     49|          5|         1280|      3284.1|  2321.78|\n",
      "|  India|     50|          5|         1184|     2321.78|    300.0|\n",
      "|  India|     51|          5|           95|       300.0|     null|\n",
      "|  Italy|     48|          1|          164|       427.8|    -17.0|\n",
      "|  Italy|     49|          1|           -2|       -17.0|    383.7|\n",
      "|  Italy|     51|          1|          131|       383.7|     null|\n",
      "+-------+-------+-----------+-------------+------------+---------+\n",
      "only showing top 20 rows\n",
      "\n"
     ]
    }
   ],
   "source": [
    "#lead\n",
    "\n",
    "orders_df.withColumn(\"next_week\", lead(\"invoicevalue\").over(mywindow)).show()"
   ]
  },
  {
   "cell_type": "code",
   "execution_count": null,
   "id": "5597ccd2",
   "metadata": {},
   "outputs": [],
   "source": []
  }
 ],
 "metadata": {
  "kernelspec": {
   "display_name": "Pyspark 3",
   "language": "python",
   "name": "pyspark3"
  },
  "language_info": {
   "codemirror_mode": {
    "name": "ipython",
    "version": 3
   },
   "file_extension": ".py",
   "mimetype": "text/x-python",
   "name": "python",
   "nbconvert_exporter": "python",
   "pygments_lexer": "ipython3",
   "version": "3.6.12"
  }
 },
 "nbformat": 4,
 "nbformat_minor": 5
}
