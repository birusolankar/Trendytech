{
 "cells": [
  {
   "cell_type": "code",
   "execution_count": 21,
   "id": "ec74cbe7",
   "metadata": {},
   "outputs": [],
   "source": [
    "from pyspark.sql import SparkSession\n",
    "import getpass\n",
    "username = getpass.getuser()\n",
    "spark = SparkSession. \\\n",
    "builder. \\\n",
    "config('spark.ui.port', '0'). \\\n",
    "config(\"spark.sql.warehouse.dir\", f\"/user/itv015970/warehouse\"). \\\n",
    "enableHiveSupport(). \\\n",
    "master('yarn'). \\\n",
    "getOrCreate()"
   ]
  },
  {
   "cell_type": "code",
   "execution_count": 22,
   "id": "f8ad9ecb",
   "metadata": {},
   "outputs": [],
   "source": [
    "order_schema = \"order_id long, order_date string, customer_id long, order_status string\" "
   ]
  },
  {
   "cell_type": "code",
   "execution_count": 23,
   "id": "b5c18c8e",
   "metadata": {},
   "outputs": [],
   "source": [
    "orders_new_df = spark.read \\\n",
    ".format(\"csv\") \\\n",
    ".schema(order_schema) \\\n",
    ".load(\"/public/trendytech/retail_db/ordersnew\")"
   ]
  },
  {
   "cell_type": "code",
   "execution_count": 24,
   "id": "4124bde0",
   "metadata": {},
   "outputs": [
    {
     "name": "stdout",
     "output_type": "stream",
     "text": [
      "+--------+--------------------+-----------+------------+\n",
      "|order_id|          order_date|customer_id|order_status|\n",
      "+--------+--------------------+-----------+------------+\n",
      "|    2480|2013-08-07 00:00:...|       3807|    COMPLETE|\n",
      "|   30479|2014-01-30 00:00:...|       9265|    COMPLETE|\n",
      "|    2481|2013-08-07 00:00:...|       2476|    COMPLETE|\n",
      "|   30481|2014-01-30 00:00:...|       9240|    COMPLETE|\n",
      "|    2483|2013-08-07 00:00:...|      10453|    COMPLETE|\n",
      "|   30484|2014-01-30 00:00:...|       2876|    COMPLETE|\n",
      "|    2484|2013-08-07 00:00:...|       9256|    COMPLETE|\n",
      "|   30485|2014-01-30 00:00:...|       1069|    COMPLETE|\n",
      "|    2488|2013-08-07 00:00:...|       1255|    COMPLETE|\n",
      "|   30486|2014-01-30 00:00:...|       1151|    COMPLETE|\n",
      "|    2491|2013-08-07 00:00:...|        247|    COMPLETE|\n",
      "|   30487|2014-01-30 00:00:...|       6772|    COMPLETE|\n",
      "|    2495|2013-08-07 00:00:...|       9011|    COMPLETE|\n",
      "|   30489|2014-01-30 00:00:...|       5717|    COMPLETE|\n",
      "|    2498|2013-08-07 00:00:...|       1966|    COMPLETE|\n",
      "|   30490|2014-01-30 00:00:...|      12189|    COMPLETE|\n",
      "|    2511|2013-08-07 00:00:...|       8544|    COMPLETE|\n",
      "|   30492|2014-01-30 00:00:...|       3710|    COMPLETE|\n",
      "|    2515|2013-08-07 00:00:...|      12056|    COMPLETE|\n",
      "|   30494|2014-01-30 00:00:...|       2724|    COMPLETE|\n",
      "+--------+--------------------+-----------+------------+\n",
      "only showing top 20 rows\n",
      "\n"
     ]
    }
   ],
   "source": [
    " orders_new_df.show()"
   ]
  },
  {
   "cell_type": "code",
   "execution_count": 25,
   "id": "a32d90dc",
   "metadata": {},
   "outputs": [
    {
     "data": {
      "text/plain": [
       "[Row(order_status='PENDING_PAYMENT', count=5636250),\n",
       " Row(order_status='COMPLETE', count=46008801),\n",
       " Row(order_status='ON_HOLD', count=1424250),\n",
       " Row(order_status='PAYMENT_REVIEW', count=273375),\n",
       " Row(order_status='PROCESSING', count=3103125),\n",
       " Row(order_status='CLOSED', count=2833500),\n",
       " Row(order_status='SUSPECTED_FRAUD', count=584250),\n",
       " Row(order_status='PENDING', count=2853750),\n",
       " Row(order_status='CANCELED', count=535500)]"
      ]
     },
     "execution_count": 25,
     "metadata": {},
     "output_type": "execute_result"
    }
   ],
   "source": [
    "orders_new_df.groupBy(\"order_status\").count().collect()"
   ]
  },
  {
   "cell_type": "code",
   "execution_count": 26,
   "id": "24056795",
   "metadata": {},
   "outputs": [],
   "source": [
    "customers_schema = \"customerid long, customer_fname string, customer_lname string, username string, password string, address string, city string, state string, pincode long\""
   ]
  },
  {
   "cell_type": "code",
   "execution_count": 27,
   "id": "1390ed3d",
   "metadata": {},
   "outputs": [],
   "source": [
    "customers_df = spark.read \\\n",
    ".format(\"csv\") \\\n",
    ".schema(customers_schema) \\\n",
    ".load(\"/public/trendytech/retail_db/customers\")"
   ]
  },
  {
   "cell_type": "code",
   "execution_count": 28,
   "id": "c09676b9",
   "metadata": {},
   "outputs": [
    {
     "name": "stdout",
     "output_type": "stream",
     "text": [
      "+----------+--------------+--------------+---------+---------+--------------------+-------------+-----+-------+\n",
      "|customerid|customer_fname|customer_lname| username| password|             address|         city|state|pincode|\n",
      "+----------+--------------+--------------+---------+---------+--------------------+-------------+-----+-------+\n",
      "|         1|       Richard|     Hernandez|XXXXXXXXX|XXXXXXXXX|  6303 Heather Plaza|  Brownsville|   TX|  78521|\n",
      "|         2|          Mary|       Barrett|XXXXXXXXX|XXXXXXXXX|9526 Noble Embers...|    Littleton|   CO|  80126|\n",
      "|         3|           Ann|         Smith|XXXXXXXXX|XXXXXXXXX|3422 Blue Pioneer...|       Caguas|   PR|    725|\n",
      "|         4|          Mary|         Jones|XXXXXXXXX|XXXXXXXXX|  8324 Little Common|   San Marcos|   CA|  92069|\n",
      "|         5|        Robert|        Hudson|XXXXXXXXX|XXXXXXXXX|10 Crystal River ...|       Caguas|   PR|    725|\n",
      "|         6|          Mary|         Smith|XXXXXXXXX|XXXXXXXXX|3151 Sleepy Quail...|      Passaic|   NJ|   7055|\n",
      "|         7|       Melissa|        Wilcox|XXXXXXXXX|XXXXXXXXX|9453 High Concession|       Caguas|   PR|    725|\n",
      "|         8|         Megan|         Smith|XXXXXXXXX|XXXXXXXXX|3047 Foggy Forest...|     Lawrence|   MA|   1841|\n",
      "|         9|          Mary|         Perez|XXXXXXXXX|XXXXXXXXX| 3616 Quaking Street|       Caguas|   PR|    725|\n",
      "|        10|       Melissa|         Smith|XXXXXXXXX|XXXXXXXXX|8598 Harvest Beac...|     Stafford|   VA|  22554|\n",
      "|        11|          Mary|       Huffman|XXXXXXXXX|XXXXXXXXX|    3169 Stony Woods|       Caguas|   PR|    725|\n",
      "|        12|   Christopher|         Smith|XXXXXXXXX|XXXXXXXXX|5594 Jagged Ember...|  San Antonio|   TX|  78227|\n",
      "|        13|          Mary|       Baldwin|XXXXXXXXX|XXXXXXXXX|7922 Iron Oak Gar...|       Caguas|   PR|    725|\n",
      "|        14|     Katherine|         Smith|XXXXXXXXX|XXXXXXXXX|5666 Hazy Pony Sq...|  Pico Rivera|   CA|  90660|\n",
      "|        15|          Jane|          Luna|XXXXXXXXX|XXXXXXXXX|    673 Burning Glen|      Fontana|   CA|  92336|\n",
      "|        16|       Tiffany|         Smith|XXXXXXXXX|XXXXXXXXX|      6651 Iron Port|       Caguas|   PR|    725|\n",
      "|        17|          Mary|      Robinson|XXXXXXXXX|XXXXXXXXX|     1325 Noble Pike|       Taylor|   MI|  48180|\n",
      "|        18|        Robert|         Smith|XXXXXXXXX|XXXXXXXXX|2734 Hazy Butterf...|     Martinez|   CA|  94553|\n",
      "|        19|     Stephanie|      Mitchell|XXXXXXXXX|XXXXXXXXX|3543 Red Treasure...|       Caguas|   PR|    725|\n",
      "|        20|          Mary|         Ellis|XXXXXXXXX|XXXXXXXXX|      4703 Old Route|West New York|   NJ|   7093|\n",
      "+----------+--------------+--------------+---------+---------+--------------------+-------------+-----+-------+\n",
      "only showing top 20 rows\n",
      "\n"
     ]
    }
   ],
   "source": [
    "customers_df.show()"
   ]
  },
  {
   "cell_type": "code",
   "execution_count": 29,
   "id": "91e5d829",
   "metadata": {},
   "outputs": [],
   "source": [
    "mapping_schema = \"status string, code int\""
   ]
  },
  {
   "cell_type": "code",
   "execution_count": 30,
   "id": "638eff8f",
   "metadata": {},
   "outputs": [],
   "source": [
    "mapping_df = spark.read \\\n",
    ".format(\"csv\") \\\n",
    ".option(\"delimiter\", \"|\") \\\n",
    ".schema(mapping_schema) \\\n",
    ".load(\"/public/trendytech/datasets/mapping_data\")"
   ]
  },
  {
   "cell_type": "code",
   "execution_count": 31,
   "id": "d228cb95",
   "metadata": {},
   "outputs": [
    {
     "name": "stdout",
     "output_type": "stream",
     "text": [
      "+---------------+----+\n",
      "|         status|code|\n",
      "+---------------+----+\n",
      "|PENDING_PAYMENT|   1|\n",
      "|       COMPLETE|   2|\n",
      "|        ON_HOLD|   3|\n",
      "| PAYMENT_REVIEW|   4|\n",
      "|     PROCESSING|   5|\n",
      "|         CLOSED|   6|\n",
      "|SUSPECTED_FRAUD|   7|\n",
      "|        PENDING|   8|\n",
      "|       CANCELED|   9|\n",
      "+---------------+----+\n",
      "\n"
     ]
    }
   ],
   "source": [
    "mapping_df.show()"
   ]
  },
  {
   "cell_type": "code",
   "execution_count": 32,
   "id": "ffed5f02",
   "metadata": {},
   "outputs": [],
   "source": [
    "# disable broadcast join\n",
    "spark.conf.set(\"spark.sql.autoBroadcastJoinThreshold\", \"-1\")"
   ]
  },
  {
   "cell_type": "code",
   "execution_count": 34,
   "id": "fe00ddb6",
   "metadata": {},
   "outputs": [],
   "source": [
    "orders_new_df.join(mapping_df, orders_new_df.order_status == mapping_df.status).write.format(\"noop\").mode(\"overwrite\").save()"
   ]
  },
  {
   "cell_type": "code",
   "execution_count": null,
   "id": "ffe657b2",
   "metadata": {},
   "outputs": [],
   "source": []
  },
  {
   "cell_type": "code",
   "execution_count": null,
   "id": "c43a29fd",
   "metadata": {},
   "outputs": [],
   "source": []
  },
  {
   "cell_type": "code",
   "execution_count": null,
   "id": "7728d6ad",
   "metadata": {},
   "outputs": [],
   "source": []
  }
 ],
 "metadata": {
  "kernelspec": {
   "display_name": "Pyspark 3",
   "language": "python",
   "name": "pyspark3"
  },
  "language_info": {
   "codemirror_mode": {
    "name": "ipython",
    "version": 3
   },
   "file_extension": ".py",
   "mimetype": "text/x-python",
   "name": "python",
   "nbconvert_exporter": "python",
   "pygments_lexer": "ipython3",
   "version": "3.6.12"
  }
 },
 "nbformat": 4,
 "nbformat_minor": 5
}
