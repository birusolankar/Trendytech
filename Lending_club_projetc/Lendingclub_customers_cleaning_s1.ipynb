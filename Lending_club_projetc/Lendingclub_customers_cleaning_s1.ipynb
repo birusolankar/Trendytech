{
 "cells": [
  {
   "cell_type": "code",
   "execution_count": 71,
   "id": "51ada4fe",
   "metadata": {},
   "outputs": [],
   "source": [
    "from pyspark.sql import SparkSession\n",
    "import getpass\n",
    "username = getpass.getuser()\n",
    "spark = SparkSession. \\\n",
    "builder. \\\n",
    "config('spark.ui.port', '0'). \\\n",
    "config(\"spark.shuffle.useOldFetchProtocol\", \"true\"). \\\n",
    "config(\"spark.sql.warehouse.dir\", f\"/user/{username}/warehouse\"). \\\n",
    "enableHiveSupport(). \\\n",
    "master('yarn'). \\\n",
    "getOrCreate()"
   ]
  },
  {
   "cell_type": "code",
   "execution_count": 72,
   "id": "ed7bd3ef",
   "metadata": {},
   "outputs": [],
   "source": [
    "customers_schema = \"member_id string, emp_title string, emp_length string, home_ownership string, annual_inc float, addr_state string, zip_code string, country string, grade string, sub_grade string, verification_status string, tot_hi_cred_lim float, application_type string, annual_inc_joint float, verification_status_joint string\""
   ]
  },
  {
   "cell_type": "code",
   "execution_count": 73,
   "id": "2357358a",
   "metadata": {},
   "outputs": [],
   "source": [
    "customers_raw_df = spark.read \\\n",
    ".format(\"csv\") \\\n",
    ".option(\"header\", \"true\") \\\n",
    ".schema(customers_schema) \\\n",
    ".load(\"/user/itv015970/lendingclubproject/raw/customers_data_csv\")"
   ]
  },
  {
   "cell_type": "code",
   "execution_count": 74,
   "id": "748432b9",
   "metadata": {},
   "outputs": [
    {
     "data": {
      "text/html": [
       "<table border='1'>\n",
       "<tr><th>member_id</th><th>emp_title</th><th>emp_length</th><th>home_ownership</th><th>annual_inc</th><th>addr_state</th><th>zip_code</th><th>country</th><th>grade</th><th>sub_grade</th><th>verification_status</th><th>tot_hi_cred_lim</th><th>application_type</th><th>annual_inc_joint</th><th>verification_status_joint</th></tr>\n",
       "<tr><td>707271898dcabc8b2...</td><td>Physician Service...</td><td>3 years</td><td>RENT</td><td>40400.0</td><td>CO</td><td>801xx</td><td>USA</td><td>A</td><td>A2</td><td>Not Verified</td><td>68759.0</td><td>Individual</td><td>null</td><td>null</td></tr>\n",
       "<tr><td>8e1ea10aca3c4ad8f...</td><td>Operations</td><td>10+ years</td><td>MORTGAGE</td><td>53000.0</td><td>AR</td><td>720xx</td><td>USA</td><td>B</td><td>B2</td><td>Source Verified</td><td>63143.0</td><td>Individual</td><td>null</td><td>null</td></tr>\n",
       "<tr><td>1d6546a2cbc1fd240...</td><td>Underwriter</td><td>2 years</td><td>RENT</td><td>65000.0</td><td>ME</td><td>040xx</td><td>USA</td><td>B</td><td>B4</td><td>Not Verified</td><td>66695.0</td><td>Individual</td><td>null</td><td>null</td></tr>\n",
       "<tr><td>d6208beced388988f...</td><td>Crome restorer sp...</td><td>10+ years</td><td>MORTGAGE</td><td>60000.0</td><td>IL</td><td>606xx</td><td>USA</td><td>C</td><td>C1</td><td>Not Verified</td><td>68900.0</td><td>Individual</td><td>null</td><td>null</td></tr>\n",
       "<tr><td>b4af936688c28c165...</td><td>Program Coordinator</td><td>1 year</td><td>RENT</td><td>38000.0</td><td>FL</td><td>322xx</td><td>USA</td><td>A</td><td>A5</td><td>Not Verified</td><td>76877.0</td><td>Individual</td><td>null</td><td>null</td></tr>\n",
       "<tr><td>2c04e047879ada04e...</td><td>Executive Director</td><td>10+ years</td><td>MORTGAGE</td><td>166000.0</td><td>IL</td><td>601xx</td><td>USA</td><td>C</td><td>C2</td><td>Not Verified</td><td>217868.0</td><td>Individual</td><td>null</td><td>null</td></tr>\n",
       "<tr><td>39dfcd293cb7b2c17...</td><td>Emergency Managme...</td><td>4 years</td><td>MORTGAGE</td><td>81000.0</td><td>TX</td><td>761xx</td><td>USA</td><td>C</td><td>C4</td><td>Not Verified</td><td>293276.0</td><td>Individual</td><td>null</td><td>null</td></tr>\n",
       "<tr><td>5e6e1f8ad59c71a0b...</td><td>Clinical Applicat...</td><td>3 years</td><td>MORTGAGE</td><td>82000.0</td><td>CO</td><td>801xx</td><td>USA</td><td>A</td><td>A1</td><td>Not Verified</td><td>393500.0</td><td>Individual</td><td>null</td><td>null</td></tr>\n",
       "<tr><td>afd3b57e55eb95ed8...</td><td>Systems Analyst 3</td><td>4 years</td><td>OWN</td><td>118030.0</td><td>MI</td><td>482xx</td><td>USA</td><td>A</td><td>A3</td><td>Not Verified</td><td>82137.0</td><td>Individual</td><td>null</td><td>null</td></tr>\n",
       "<tr><td>8b5eed45ac53a0238...</td><td>Director of Front...</td><td>4 years</td><td>RENT</td><td>62000.0</td><td>NY</td><td>110xx</td><td>USA</td><td>A</td><td>A5</td><td>Not Verified</td><td>17400.0</td><td>Individual</td><td>null</td><td>null</td></tr>\n",
       "<tr><td>f9b1d34c3edcb893e...</td><td>Program Finance M...</td><td>10+ years</td><td>RENT</td><td>135000.0</td><td>VA</td><td>223xx</td><td>USA</td><td>D</td><td>D4</td><td>Not Verified</td><td>55592.0</td><td>Individual</td><td>null</td><td>null</td></tr>\n",
       "<tr><td>1ad9eaf0cd017b07b...</td><td>French Teacher</td><td>10+ years</td><td>RENT</td><td>65000.0</td><td>ME</td><td>040xx</td><td>USA</td><td>B</td><td>B3</td><td>Not Verified</td><td>31980.0</td><td>Individual</td><td>null</td><td>null</td></tr>\n",
       "<tr><td>319d1b9f0f8262a44...</td><td>Physician Assistant</td><td>10+ years</td><td>MORTGAGE</td><td>168000.0</td><td>VA</td><td>234xx</td><td>USA</td><td>B</td><td>B5</td><td>Not Verified</td><td>524367.0</td><td>Individual</td><td>null</td><td>null</td></tr>\n",
       "<tr><td>f8d7c9355352667eb...</td><td>Police Officer</td><td>10+ years</td><td>OWN</td><td>120000.0</td><td>NY</td><td>117xx</td><td>USA</td><td>B</td><td>B2</td><td>Not Verified</td><td>248815.0</td><td>Individual</td><td>null</td><td>null</td></tr>\n",
       "<tr><td>e599af63f1a06e96d...</td><td>Investigator</td><td>10+ years</td><td>MORTGAGE</td><td>120092.0</td><td>VA</td><td>220xx</td><td>USA</td><td>C</td><td>C4</td><td>Verified</td><td>502718.0</td><td>Individual</td><td>null</td><td>null</td></tr>\n",
       "<tr><td>d7f76105042a35af5...</td><td>Detective</td><td>10+ years</td><td>MORTGAGE</td><td>100000.0</td><td>TX</td><td>752xx</td><td>USA</td><td>D</td><td>D4</td><td>Not Verified</td><td>70678.0</td><td>Individual</td><td>null</td><td>null</td></tr>\n",
       "<tr><td>d7b8a3478590b59c6...</td><td>Truck Driver</td><td>1 year</td><td>OWN</td><td>36400.0</td><td>SC</td><td>291xx</td><td>USA</td><td>C</td><td>C3</td><td>Not Verified</td><td>41204.0</td><td>Individual</td><td>null</td><td>null</td></tr>\n",
       "<tr><td>4885a59f1ae5534c3...</td><td>IT Manager</td><td>10+ years</td><td>OWN</td><td>115000.0</td><td>NY</td><td>103xx</td><td>USA</td><td>B</td><td>B4</td><td>Not Verified</td><td>379479.0</td><td>Individual</td><td>null</td><td>null</td></tr>\n",
       "<tr><td>4558ee1fa31903d33...</td><td>service advisor</td><td>10+ years</td><td>MORTGAGE</td><td>63000.0</td><td>MN</td><td>563xx</td><td>USA</td><td>A</td><td>A3</td><td>Not Verified</td><td>260220.0</td><td>Individual</td><td>null</td><td>null</td></tr>\n",
       "<tr><td>619b3b7101cf2aeb7...</td><td>Secretary2</td><td>10+ years</td><td>MORTGAGE</td><td>60000.0</td><td>CT</td><td>064xx</td><td>USA</td><td>A</td><td>A5</td><td>Not Verified</td><td>144940.0</td><td>Individual</td><td>null</td><td>null</td></tr>\n",
       "</table>\n",
       "only showing top 20 rows\n"
      ],
      "text/plain": [
       "+--------------------+--------------------+----------+--------------+----------+----------+--------+-------+-----+---------+-------------------+---------------+----------------+----------------+-------------------------+\n",
       "|           member_id|           emp_title|emp_length|home_ownership|annual_inc|addr_state|zip_code|country|grade|sub_grade|verification_status|tot_hi_cred_lim|application_type|annual_inc_joint|verification_status_joint|\n",
       "+--------------------+--------------------+----------+--------------+----------+----------+--------+-------+-----+---------+-------------------+---------------+----------------+----------------+-------------------------+\n",
       "|707271898dcabc8b2...|Physician Service...|   3 years|          RENT|   40400.0|        CO|   801xx|    USA|    A|       A2|       Not Verified|        68759.0|      Individual|            null|                     null|\n",
       "|8e1ea10aca3c4ad8f...|          Operations| 10+ years|      MORTGAGE|   53000.0|        AR|   720xx|    USA|    B|       B2|    Source Verified|        63143.0|      Individual|            null|                     null|\n",
       "|1d6546a2cbc1fd240...|         Underwriter|   2 years|          RENT|   65000.0|        ME|   040xx|    USA|    B|       B4|       Not Verified|        66695.0|      Individual|            null|                     null|\n",
       "|d6208beced388988f...|Crome restorer sp...| 10+ years|      MORTGAGE|   60000.0|        IL|   606xx|    USA|    C|       C1|       Not Verified|        68900.0|      Individual|            null|                     null|\n",
       "|b4af936688c28c165...| Program Coordinator|    1 year|          RENT|   38000.0|        FL|   322xx|    USA|    A|       A5|       Not Verified|        76877.0|      Individual|            null|                     null|\n",
       "|2c04e047879ada04e...|  Executive Director| 10+ years|      MORTGAGE|  166000.0|        IL|   601xx|    USA|    C|       C2|       Not Verified|       217868.0|      Individual|            null|                     null|\n",
       "|39dfcd293cb7b2c17...|Emergency Managme...|   4 years|      MORTGAGE|   81000.0|        TX|   761xx|    USA|    C|       C4|       Not Verified|       293276.0|      Individual|            null|                     null|\n",
       "|5e6e1f8ad59c71a0b...|Clinical Applicat...|   3 years|      MORTGAGE|   82000.0|        CO|   801xx|    USA|    A|       A1|       Not Verified|       393500.0|      Individual|            null|                     null|\n",
       "|afd3b57e55eb95ed8...|   Systems Analyst 3|   4 years|           OWN|  118030.0|        MI|   482xx|    USA|    A|       A3|       Not Verified|        82137.0|      Individual|            null|                     null|\n",
       "|8b5eed45ac53a0238...|Director of Front...|   4 years|          RENT|   62000.0|        NY|   110xx|    USA|    A|       A5|       Not Verified|        17400.0|      Individual|            null|                     null|\n",
       "|f9b1d34c3edcb893e...|Program Finance M...| 10+ years|          RENT|  135000.0|        VA|   223xx|    USA|    D|       D4|       Not Verified|        55592.0|      Individual|            null|                     null|\n",
       "|1ad9eaf0cd017b07b...|      French Teacher| 10+ years|          RENT|   65000.0|        ME|   040xx|    USA|    B|       B3|       Not Verified|        31980.0|      Individual|            null|                     null|\n",
       "|319d1b9f0f8262a44...| Physician Assistant| 10+ years|      MORTGAGE|  168000.0|        VA|   234xx|    USA|    B|       B5|       Not Verified|       524367.0|      Individual|            null|                     null|\n",
       "|f8d7c9355352667eb...|      Police Officer| 10+ years|           OWN|  120000.0|        NY|   117xx|    USA|    B|       B2|       Not Verified|       248815.0|      Individual|            null|                     null|\n",
       "|e599af63f1a06e96d...|        Investigator| 10+ years|      MORTGAGE|  120092.0|        VA|   220xx|    USA|    C|       C4|           Verified|       502718.0|      Individual|            null|                     null|\n",
       "|d7f76105042a35af5...|           Detective| 10+ years|      MORTGAGE|  100000.0|        TX|   752xx|    USA|    D|       D4|       Not Verified|        70678.0|      Individual|            null|                     null|\n",
       "|d7b8a3478590b59c6...|        Truck Driver|    1 year|           OWN|   36400.0|        SC|   291xx|    USA|    C|       C3|       Not Verified|        41204.0|      Individual|            null|                     null|\n",
       "|4885a59f1ae5534c3...|          IT Manager| 10+ years|           OWN|  115000.0|        NY|   103xx|    USA|    B|       B4|       Not Verified|       379479.0|      Individual|            null|                     null|\n",
       "|4558ee1fa31903d33...|     service advisor| 10+ years|      MORTGAGE|   63000.0|        MN|   563xx|    USA|    A|       A3|       Not Verified|       260220.0|      Individual|            null|                     null|\n",
       "|619b3b7101cf2aeb7...|          Secretary2| 10+ years|      MORTGAGE|   60000.0|        CT|   064xx|    USA|    A|       A5|       Not Verified|       144940.0|      Individual|            null|                     null|\n",
       "+--------------------+--------------------+----------+--------------+----------+----------+--------+-------+-----+---------+-------------------+---------------+----------------+----------------+-------------------------+\n",
       "only showing top 20 rows"
      ]
     },
     "execution_count": 74,
     "metadata": {},
     "output_type": "execute_result"
    }
   ],
   "source": [
    "customers_raw_df"
   ]
  },
  {
   "cell_type": "code",
   "execution_count": 75,
   "id": "bf98efe9",
   "metadata": {},
   "outputs": [
    {
     "name": "stdout",
     "output_type": "stream",
     "text": [
      "root\n",
      " |-- member_id: string (nullable = true)\n",
      " |-- emp_title: string (nullable = true)\n",
      " |-- emp_length: string (nullable = true)\n",
      " |-- home_ownership: string (nullable = true)\n",
      " |-- annual_inc: float (nullable = true)\n",
      " |-- addr_state: string (nullable = true)\n",
      " |-- zip_code: string (nullable = true)\n",
      " |-- country: string (nullable = true)\n",
      " |-- grade: string (nullable = true)\n",
      " |-- sub_grade: string (nullable = true)\n",
      " |-- verification_status: string (nullable = true)\n",
      " |-- tot_hi_cred_lim: float (nullable = true)\n",
      " |-- application_type: string (nullable = true)\n",
      " |-- annual_inc_joint: float (nullable = true)\n",
      " |-- verification_status_joint: string (nullable = true)\n",
      "\n"
     ]
    }
   ],
   "source": [
    "customers_raw_df.printSchema()"
   ]
  },
  {
   "cell_type": "code",
   "execution_count": 76,
   "id": "1c114d36",
   "metadata": {},
   "outputs": [],
   "source": [
    "# renaming column\n",
    "\n",
    "customers_df_renamed = customers_raw_df.withColumnRenamed(\"annual_inc\", \"annual_income\") \\\n",
    ".withColumnRenamed(\"addr_state\", \"address_state\") \\\n",
    ".withColumnRenamed(\"zip_code\", \"address_zipcode\") \\\n",
    ".withColumnRenamed(\"country\", \"address_country\") \\\n",
    ".withColumnRenamed(\"tot_hi_cred_lim\", \"total_high_credit_limit\") \\\n",
    ".withColumnRenamed(\"annaul_in_joint\", \"join_annaul_income\")\n"
   ]
  },
  {
   "cell_type": "code",
   "execution_count": 77,
   "id": "6e846117",
   "metadata": {},
   "outputs": [
    {
     "data": {
      "text/html": [
       "<table border='1'>\n",
       "<tr><th>member_id</th><th>emp_title</th><th>emp_length</th><th>home_ownership</th><th>annual_income</th><th>address_state</th><th>address_zipcode</th><th>address_country</th><th>grade</th><th>sub_grade</th><th>verification_status</th><th>total_high_credit_limit</th><th>application_type</th><th>annual_inc_joint</th><th>verification_status_joint</th></tr>\n",
       "<tr><td>707271898dcabc8b2...</td><td>Physician Service...</td><td>3 years</td><td>RENT</td><td>40400.0</td><td>CO</td><td>801xx</td><td>USA</td><td>A</td><td>A2</td><td>Not Verified</td><td>68759.0</td><td>Individual</td><td>null</td><td>null</td></tr>\n",
       "<tr><td>8e1ea10aca3c4ad8f...</td><td>Operations</td><td>10+ years</td><td>MORTGAGE</td><td>53000.0</td><td>AR</td><td>720xx</td><td>USA</td><td>B</td><td>B2</td><td>Source Verified</td><td>63143.0</td><td>Individual</td><td>null</td><td>null</td></tr>\n",
       "<tr><td>1d6546a2cbc1fd240...</td><td>Underwriter</td><td>2 years</td><td>RENT</td><td>65000.0</td><td>ME</td><td>040xx</td><td>USA</td><td>B</td><td>B4</td><td>Not Verified</td><td>66695.0</td><td>Individual</td><td>null</td><td>null</td></tr>\n",
       "<tr><td>d6208beced388988f...</td><td>Crome restorer sp...</td><td>10+ years</td><td>MORTGAGE</td><td>60000.0</td><td>IL</td><td>606xx</td><td>USA</td><td>C</td><td>C1</td><td>Not Verified</td><td>68900.0</td><td>Individual</td><td>null</td><td>null</td></tr>\n",
       "<tr><td>b4af936688c28c165...</td><td>Program Coordinator</td><td>1 year</td><td>RENT</td><td>38000.0</td><td>FL</td><td>322xx</td><td>USA</td><td>A</td><td>A5</td><td>Not Verified</td><td>76877.0</td><td>Individual</td><td>null</td><td>null</td></tr>\n",
       "<tr><td>2c04e047879ada04e...</td><td>Executive Director</td><td>10+ years</td><td>MORTGAGE</td><td>166000.0</td><td>IL</td><td>601xx</td><td>USA</td><td>C</td><td>C2</td><td>Not Verified</td><td>217868.0</td><td>Individual</td><td>null</td><td>null</td></tr>\n",
       "<tr><td>39dfcd293cb7b2c17...</td><td>Emergency Managme...</td><td>4 years</td><td>MORTGAGE</td><td>81000.0</td><td>TX</td><td>761xx</td><td>USA</td><td>C</td><td>C4</td><td>Not Verified</td><td>293276.0</td><td>Individual</td><td>null</td><td>null</td></tr>\n",
       "<tr><td>5e6e1f8ad59c71a0b...</td><td>Clinical Applicat...</td><td>3 years</td><td>MORTGAGE</td><td>82000.0</td><td>CO</td><td>801xx</td><td>USA</td><td>A</td><td>A1</td><td>Not Verified</td><td>393500.0</td><td>Individual</td><td>null</td><td>null</td></tr>\n",
       "<tr><td>afd3b57e55eb95ed8...</td><td>Systems Analyst 3</td><td>4 years</td><td>OWN</td><td>118030.0</td><td>MI</td><td>482xx</td><td>USA</td><td>A</td><td>A3</td><td>Not Verified</td><td>82137.0</td><td>Individual</td><td>null</td><td>null</td></tr>\n",
       "<tr><td>8b5eed45ac53a0238...</td><td>Director of Front...</td><td>4 years</td><td>RENT</td><td>62000.0</td><td>NY</td><td>110xx</td><td>USA</td><td>A</td><td>A5</td><td>Not Verified</td><td>17400.0</td><td>Individual</td><td>null</td><td>null</td></tr>\n",
       "<tr><td>f9b1d34c3edcb893e...</td><td>Program Finance M...</td><td>10+ years</td><td>RENT</td><td>135000.0</td><td>VA</td><td>223xx</td><td>USA</td><td>D</td><td>D4</td><td>Not Verified</td><td>55592.0</td><td>Individual</td><td>null</td><td>null</td></tr>\n",
       "<tr><td>1ad9eaf0cd017b07b...</td><td>French Teacher</td><td>10+ years</td><td>RENT</td><td>65000.0</td><td>ME</td><td>040xx</td><td>USA</td><td>B</td><td>B3</td><td>Not Verified</td><td>31980.0</td><td>Individual</td><td>null</td><td>null</td></tr>\n",
       "<tr><td>319d1b9f0f8262a44...</td><td>Physician Assistant</td><td>10+ years</td><td>MORTGAGE</td><td>168000.0</td><td>VA</td><td>234xx</td><td>USA</td><td>B</td><td>B5</td><td>Not Verified</td><td>524367.0</td><td>Individual</td><td>null</td><td>null</td></tr>\n",
       "<tr><td>f8d7c9355352667eb...</td><td>Police Officer</td><td>10+ years</td><td>OWN</td><td>120000.0</td><td>NY</td><td>117xx</td><td>USA</td><td>B</td><td>B2</td><td>Not Verified</td><td>248815.0</td><td>Individual</td><td>null</td><td>null</td></tr>\n",
       "<tr><td>e599af63f1a06e96d...</td><td>Investigator</td><td>10+ years</td><td>MORTGAGE</td><td>120092.0</td><td>VA</td><td>220xx</td><td>USA</td><td>C</td><td>C4</td><td>Verified</td><td>502718.0</td><td>Individual</td><td>null</td><td>null</td></tr>\n",
       "<tr><td>d7f76105042a35af5...</td><td>Detective</td><td>10+ years</td><td>MORTGAGE</td><td>100000.0</td><td>TX</td><td>752xx</td><td>USA</td><td>D</td><td>D4</td><td>Not Verified</td><td>70678.0</td><td>Individual</td><td>null</td><td>null</td></tr>\n",
       "<tr><td>d7b8a3478590b59c6...</td><td>Truck Driver</td><td>1 year</td><td>OWN</td><td>36400.0</td><td>SC</td><td>291xx</td><td>USA</td><td>C</td><td>C3</td><td>Not Verified</td><td>41204.0</td><td>Individual</td><td>null</td><td>null</td></tr>\n",
       "<tr><td>4885a59f1ae5534c3...</td><td>IT Manager</td><td>10+ years</td><td>OWN</td><td>115000.0</td><td>NY</td><td>103xx</td><td>USA</td><td>B</td><td>B4</td><td>Not Verified</td><td>379479.0</td><td>Individual</td><td>null</td><td>null</td></tr>\n",
       "<tr><td>4558ee1fa31903d33...</td><td>service advisor</td><td>10+ years</td><td>MORTGAGE</td><td>63000.0</td><td>MN</td><td>563xx</td><td>USA</td><td>A</td><td>A3</td><td>Not Verified</td><td>260220.0</td><td>Individual</td><td>null</td><td>null</td></tr>\n",
       "<tr><td>619b3b7101cf2aeb7...</td><td>Secretary2</td><td>10+ years</td><td>MORTGAGE</td><td>60000.0</td><td>CT</td><td>064xx</td><td>USA</td><td>A</td><td>A5</td><td>Not Verified</td><td>144940.0</td><td>Individual</td><td>null</td><td>null</td></tr>\n",
       "</table>\n",
       "only showing top 20 rows\n"
      ],
      "text/plain": [
       "+--------------------+--------------------+----------+--------------+-------------+-------------+---------------+---------------+-----+---------+-------------------+-----------------------+----------------+----------------+-------------------------+\n",
       "|           member_id|           emp_title|emp_length|home_ownership|annual_income|address_state|address_zipcode|address_country|grade|sub_grade|verification_status|total_high_credit_limit|application_type|annual_inc_joint|verification_status_joint|\n",
       "+--------------------+--------------------+----------+--------------+-------------+-------------+---------------+---------------+-----+---------+-------------------+-----------------------+----------------+----------------+-------------------------+\n",
       "|707271898dcabc8b2...|Physician Service...|   3 years|          RENT|      40400.0|           CO|          801xx|            USA|    A|       A2|       Not Verified|                68759.0|      Individual|            null|                     null|\n",
       "|8e1ea10aca3c4ad8f...|          Operations| 10+ years|      MORTGAGE|      53000.0|           AR|          720xx|            USA|    B|       B2|    Source Verified|                63143.0|      Individual|            null|                     null|\n",
       "|1d6546a2cbc1fd240...|         Underwriter|   2 years|          RENT|      65000.0|           ME|          040xx|            USA|    B|       B4|       Not Verified|                66695.0|      Individual|            null|                     null|\n",
       "|d6208beced388988f...|Crome restorer sp...| 10+ years|      MORTGAGE|      60000.0|           IL|          606xx|            USA|    C|       C1|       Not Verified|                68900.0|      Individual|            null|                     null|\n",
       "|b4af936688c28c165...| Program Coordinator|    1 year|          RENT|      38000.0|           FL|          322xx|            USA|    A|       A5|       Not Verified|                76877.0|      Individual|            null|                     null|\n",
       "|2c04e047879ada04e...|  Executive Director| 10+ years|      MORTGAGE|     166000.0|           IL|          601xx|            USA|    C|       C2|       Not Verified|               217868.0|      Individual|            null|                     null|\n",
       "|39dfcd293cb7b2c17...|Emergency Managme...|   4 years|      MORTGAGE|      81000.0|           TX|          761xx|            USA|    C|       C4|       Not Verified|               293276.0|      Individual|            null|                     null|\n",
       "|5e6e1f8ad59c71a0b...|Clinical Applicat...|   3 years|      MORTGAGE|      82000.0|           CO|          801xx|            USA|    A|       A1|       Not Verified|               393500.0|      Individual|            null|                     null|\n",
       "|afd3b57e55eb95ed8...|   Systems Analyst 3|   4 years|           OWN|     118030.0|           MI|          482xx|            USA|    A|       A3|       Not Verified|                82137.0|      Individual|            null|                     null|\n",
       "|8b5eed45ac53a0238...|Director of Front...|   4 years|          RENT|      62000.0|           NY|          110xx|            USA|    A|       A5|       Not Verified|                17400.0|      Individual|            null|                     null|\n",
       "|f9b1d34c3edcb893e...|Program Finance M...| 10+ years|          RENT|     135000.0|           VA|          223xx|            USA|    D|       D4|       Not Verified|                55592.0|      Individual|            null|                     null|\n",
       "|1ad9eaf0cd017b07b...|      French Teacher| 10+ years|          RENT|      65000.0|           ME|          040xx|            USA|    B|       B3|       Not Verified|                31980.0|      Individual|            null|                     null|\n",
       "|319d1b9f0f8262a44...| Physician Assistant| 10+ years|      MORTGAGE|     168000.0|           VA|          234xx|            USA|    B|       B5|       Not Verified|               524367.0|      Individual|            null|                     null|\n",
       "|f8d7c9355352667eb...|      Police Officer| 10+ years|           OWN|     120000.0|           NY|          117xx|            USA|    B|       B2|       Not Verified|               248815.0|      Individual|            null|                     null|\n",
       "|e599af63f1a06e96d...|        Investigator| 10+ years|      MORTGAGE|     120092.0|           VA|          220xx|            USA|    C|       C4|           Verified|               502718.0|      Individual|            null|                     null|\n",
       "|d7f76105042a35af5...|           Detective| 10+ years|      MORTGAGE|     100000.0|           TX|          752xx|            USA|    D|       D4|       Not Verified|                70678.0|      Individual|            null|                     null|\n",
       "|d7b8a3478590b59c6...|        Truck Driver|    1 year|           OWN|      36400.0|           SC|          291xx|            USA|    C|       C3|       Not Verified|                41204.0|      Individual|            null|                     null|\n",
       "|4885a59f1ae5534c3...|          IT Manager| 10+ years|           OWN|     115000.0|           NY|          103xx|            USA|    B|       B4|       Not Verified|               379479.0|      Individual|            null|                     null|\n",
       "|4558ee1fa31903d33...|     service advisor| 10+ years|      MORTGAGE|      63000.0|           MN|          563xx|            USA|    A|       A3|       Not Verified|               260220.0|      Individual|            null|                     null|\n",
       "|619b3b7101cf2aeb7...|          Secretary2| 10+ years|      MORTGAGE|      60000.0|           CT|          064xx|            USA|    A|       A5|       Not Verified|               144940.0|      Individual|            null|                     null|\n",
       "+--------------------+--------------------+----------+--------------+-------------+-------------+---------------+---------------+-----+---------+-------------------+-----------------------+----------------+----------------+-------------------------+\n",
       "only showing top 20 rows"
      ]
     },
     "execution_count": 77,
     "metadata": {},
     "output_type": "execute_result"
    }
   ],
   "source": [
    "customers_df_renamed"
   ]
  },
  {
   "cell_type": "code",
   "execution_count": 78,
   "id": "a228566a",
   "metadata": {},
   "outputs": [],
   "source": [
    "# ingest current timestamp inside the data frame\n",
    "from pyspark.sql.functions import current_timestamp"
   ]
  },
  {
   "cell_type": "code",
   "execution_count": 79,
   "id": "4d9f52ab",
   "metadata": {},
   "outputs": [],
   "source": [
    "customers_df_ingestd = customers_df_renamed.withColumn(\"ingest_date\", current_timestamp())"
   ]
  },
  {
   "cell_type": "code",
   "execution_count": 80,
   "id": "07c8d461",
   "metadata": {},
   "outputs": [
    {
     "data": {
      "text/html": [
       "<table border='1'>\n",
       "<tr><th>member_id</th><th>emp_title</th><th>emp_length</th><th>home_ownership</th><th>annual_income</th><th>address_state</th><th>address_zipcode</th><th>address_country</th><th>grade</th><th>sub_grade</th><th>verification_status</th><th>total_high_credit_limit</th><th>application_type</th><th>annual_inc_joint</th><th>verification_status_joint</th><th>ingest_date</th></tr>\n",
       "<tr><td>707271898dcabc8b2...</td><td>Physician Service...</td><td>3 years</td><td>RENT</td><td>40400.0</td><td>CO</td><td>801xx</td><td>USA</td><td>A</td><td>A2</td><td>Not Verified</td><td>68759.0</td><td>Individual</td><td>null</td><td>null</td><td>2025-05-25 14:07:...</td></tr>\n",
       "<tr><td>8e1ea10aca3c4ad8f...</td><td>Operations</td><td>10+ years</td><td>MORTGAGE</td><td>53000.0</td><td>AR</td><td>720xx</td><td>USA</td><td>B</td><td>B2</td><td>Source Verified</td><td>63143.0</td><td>Individual</td><td>null</td><td>null</td><td>2025-05-25 14:07:...</td></tr>\n",
       "<tr><td>1d6546a2cbc1fd240...</td><td>Underwriter</td><td>2 years</td><td>RENT</td><td>65000.0</td><td>ME</td><td>040xx</td><td>USA</td><td>B</td><td>B4</td><td>Not Verified</td><td>66695.0</td><td>Individual</td><td>null</td><td>null</td><td>2025-05-25 14:07:...</td></tr>\n",
       "<tr><td>d6208beced388988f...</td><td>Crome restorer sp...</td><td>10+ years</td><td>MORTGAGE</td><td>60000.0</td><td>IL</td><td>606xx</td><td>USA</td><td>C</td><td>C1</td><td>Not Verified</td><td>68900.0</td><td>Individual</td><td>null</td><td>null</td><td>2025-05-25 14:07:...</td></tr>\n",
       "<tr><td>b4af936688c28c165...</td><td>Program Coordinator</td><td>1 year</td><td>RENT</td><td>38000.0</td><td>FL</td><td>322xx</td><td>USA</td><td>A</td><td>A5</td><td>Not Verified</td><td>76877.0</td><td>Individual</td><td>null</td><td>null</td><td>2025-05-25 14:07:...</td></tr>\n",
       "<tr><td>2c04e047879ada04e...</td><td>Executive Director</td><td>10+ years</td><td>MORTGAGE</td><td>166000.0</td><td>IL</td><td>601xx</td><td>USA</td><td>C</td><td>C2</td><td>Not Verified</td><td>217868.0</td><td>Individual</td><td>null</td><td>null</td><td>2025-05-25 14:07:...</td></tr>\n",
       "<tr><td>39dfcd293cb7b2c17...</td><td>Emergency Managme...</td><td>4 years</td><td>MORTGAGE</td><td>81000.0</td><td>TX</td><td>761xx</td><td>USA</td><td>C</td><td>C4</td><td>Not Verified</td><td>293276.0</td><td>Individual</td><td>null</td><td>null</td><td>2025-05-25 14:07:...</td></tr>\n",
       "<tr><td>5e6e1f8ad59c71a0b...</td><td>Clinical Applicat...</td><td>3 years</td><td>MORTGAGE</td><td>82000.0</td><td>CO</td><td>801xx</td><td>USA</td><td>A</td><td>A1</td><td>Not Verified</td><td>393500.0</td><td>Individual</td><td>null</td><td>null</td><td>2025-05-25 14:07:...</td></tr>\n",
       "<tr><td>afd3b57e55eb95ed8...</td><td>Systems Analyst 3</td><td>4 years</td><td>OWN</td><td>118030.0</td><td>MI</td><td>482xx</td><td>USA</td><td>A</td><td>A3</td><td>Not Verified</td><td>82137.0</td><td>Individual</td><td>null</td><td>null</td><td>2025-05-25 14:07:...</td></tr>\n",
       "<tr><td>8b5eed45ac53a0238...</td><td>Director of Front...</td><td>4 years</td><td>RENT</td><td>62000.0</td><td>NY</td><td>110xx</td><td>USA</td><td>A</td><td>A5</td><td>Not Verified</td><td>17400.0</td><td>Individual</td><td>null</td><td>null</td><td>2025-05-25 14:07:...</td></tr>\n",
       "<tr><td>f9b1d34c3edcb893e...</td><td>Program Finance M...</td><td>10+ years</td><td>RENT</td><td>135000.0</td><td>VA</td><td>223xx</td><td>USA</td><td>D</td><td>D4</td><td>Not Verified</td><td>55592.0</td><td>Individual</td><td>null</td><td>null</td><td>2025-05-25 14:07:...</td></tr>\n",
       "<tr><td>1ad9eaf0cd017b07b...</td><td>French Teacher</td><td>10+ years</td><td>RENT</td><td>65000.0</td><td>ME</td><td>040xx</td><td>USA</td><td>B</td><td>B3</td><td>Not Verified</td><td>31980.0</td><td>Individual</td><td>null</td><td>null</td><td>2025-05-25 14:07:...</td></tr>\n",
       "<tr><td>319d1b9f0f8262a44...</td><td>Physician Assistant</td><td>10+ years</td><td>MORTGAGE</td><td>168000.0</td><td>VA</td><td>234xx</td><td>USA</td><td>B</td><td>B5</td><td>Not Verified</td><td>524367.0</td><td>Individual</td><td>null</td><td>null</td><td>2025-05-25 14:07:...</td></tr>\n",
       "<tr><td>f8d7c9355352667eb...</td><td>Police Officer</td><td>10+ years</td><td>OWN</td><td>120000.0</td><td>NY</td><td>117xx</td><td>USA</td><td>B</td><td>B2</td><td>Not Verified</td><td>248815.0</td><td>Individual</td><td>null</td><td>null</td><td>2025-05-25 14:07:...</td></tr>\n",
       "<tr><td>e599af63f1a06e96d...</td><td>Investigator</td><td>10+ years</td><td>MORTGAGE</td><td>120092.0</td><td>VA</td><td>220xx</td><td>USA</td><td>C</td><td>C4</td><td>Verified</td><td>502718.0</td><td>Individual</td><td>null</td><td>null</td><td>2025-05-25 14:07:...</td></tr>\n",
       "<tr><td>d7f76105042a35af5...</td><td>Detective</td><td>10+ years</td><td>MORTGAGE</td><td>100000.0</td><td>TX</td><td>752xx</td><td>USA</td><td>D</td><td>D4</td><td>Not Verified</td><td>70678.0</td><td>Individual</td><td>null</td><td>null</td><td>2025-05-25 14:07:...</td></tr>\n",
       "<tr><td>d7b8a3478590b59c6...</td><td>Truck Driver</td><td>1 year</td><td>OWN</td><td>36400.0</td><td>SC</td><td>291xx</td><td>USA</td><td>C</td><td>C3</td><td>Not Verified</td><td>41204.0</td><td>Individual</td><td>null</td><td>null</td><td>2025-05-25 14:07:...</td></tr>\n",
       "<tr><td>4885a59f1ae5534c3...</td><td>IT Manager</td><td>10+ years</td><td>OWN</td><td>115000.0</td><td>NY</td><td>103xx</td><td>USA</td><td>B</td><td>B4</td><td>Not Verified</td><td>379479.0</td><td>Individual</td><td>null</td><td>null</td><td>2025-05-25 14:07:...</td></tr>\n",
       "<tr><td>4558ee1fa31903d33...</td><td>service advisor</td><td>10+ years</td><td>MORTGAGE</td><td>63000.0</td><td>MN</td><td>563xx</td><td>USA</td><td>A</td><td>A3</td><td>Not Verified</td><td>260220.0</td><td>Individual</td><td>null</td><td>null</td><td>2025-05-25 14:07:...</td></tr>\n",
       "<tr><td>619b3b7101cf2aeb7...</td><td>Secretary2</td><td>10+ years</td><td>MORTGAGE</td><td>60000.0</td><td>CT</td><td>064xx</td><td>USA</td><td>A</td><td>A5</td><td>Not Verified</td><td>144940.0</td><td>Individual</td><td>null</td><td>null</td><td>2025-05-25 14:07:...</td></tr>\n",
       "</table>\n",
       "only showing top 20 rows\n"
      ],
      "text/plain": [
       "+--------------------+--------------------+----------+--------------+-------------+-------------+---------------+---------------+-----+---------+-------------------+-----------------------+----------------+----------------+-------------------------+--------------------+\n",
       "|           member_id|           emp_title|emp_length|home_ownership|annual_income|address_state|address_zipcode|address_country|grade|sub_grade|verification_status|total_high_credit_limit|application_type|annual_inc_joint|verification_status_joint|         ingest_date|\n",
       "+--------------------+--------------------+----------+--------------+-------------+-------------+---------------+---------------+-----+---------+-------------------+-----------------------+----------------+----------------+-------------------------+--------------------+\n",
       "|707271898dcabc8b2...|Physician Service...|   3 years|          RENT|      40400.0|           CO|          801xx|            USA|    A|       A2|       Not Verified|                68759.0|      Individual|            null|                     null|2025-05-25 14:07:...|\n",
       "|8e1ea10aca3c4ad8f...|          Operations| 10+ years|      MORTGAGE|      53000.0|           AR|          720xx|            USA|    B|       B2|    Source Verified|                63143.0|      Individual|            null|                     null|2025-05-25 14:07:...|\n",
       "|1d6546a2cbc1fd240...|         Underwriter|   2 years|          RENT|      65000.0|           ME|          040xx|            USA|    B|       B4|       Not Verified|                66695.0|      Individual|            null|                     null|2025-05-25 14:07:...|\n",
       "|d6208beced388988f...|Crome restorer sp...| 10+ years|      MORTGAGE|      60000.0|           IL|          606xx|            USA|    C|       C1|       Not Verified|                68900.0|      Individual|            null|                     null|2025-05-25 14:07:...|\n",
       "|b4af936688c28c165...| Program Coordinator|    1 year|          RENT|      38000.0|           FL|          322xx|            USA|    A|       A5|       Not Verified|                76877.0|      Individual|            null|                     null|2025-05-25 14:07:...|\n",
       "|2c04e047879ada04e...|  Executive Director| 10+ years|      MORTGAGE|     166000.0|           IL|          601xx|            USA|    C|       C2|       Not Verified|               217868.0|      Individual|            null|                     null|2025-05-25 14:07:...|\n",
       "|39dfcd293cb7b2c17...|Emergency Managme...|   4 years|      MORTGAGE|      81000.0|           TX|          761xx|            USA|    C|       C4|       Not Verified|               293276.0|      Individual|            null|                     null|2025-05-25 14:07:...|\n",
       "|5e6e1f8ad59c71a0b...|Clinical Applicat...|   3 years|      MORTGAGE|      82000.0|           CO|          801xx|            USA|    A|       A1|       Not Verified|               393500.0|      Individual|            null|                     null|2025-05-25 14:07:...|\n",
       "|afd3b57e55eb95ed8...|   Systems Analyst 3|   4 years|           OWN|     118030.0|           MI|          482xx|            USA|    A|       A3|       Not Verified|                82137.0|      Individual|            null|                     null|2025-05-25 14:07:...|\n",
       "|8b5eed45ac53a0238...|Director of Front...|   4 years|          RENT|      62000.0|           NY|          110xx|            USA|    A|       A5|       Not Verified|                17400.0|      Individual|            null|                     null|2025-05-25 14:07:...|\n",
       "|f9b1d34c3edcb893e...|Program Finance M...| 10+ years|          RENT|     135000.0|           VA|          223xx|            USA|    D|       D4|       Not Verified|                55592.0|      Individual|            null|                     null|2025-05-25 14:07:...|\n",
       "|1ad9eaf0cd017b07b...|      French Teacher| 10+ years|          RENT|      65000.0|           ME|          040xx|            USA|    B|       B3|       Not Verified|                31980.0|      Individual|            null|                     null|2025-05-25 14:07:...|\n",
       "|319d1b9f0f8262a44...| Physician Assistant| 10+ years|      MORTGAGE|     168000.0|           VA|          234xx|            USA|    B|       B5|       Not Verified|               524367.0|      Individual|            null|                     null|2025-05-25 14:07:...|\n",
       "|f8d7c9355352667eb...|      Police Officer| 10+ years|           OWN|     120000.0|           NY|          117xx|            USA|    B|       B2|       Not Verified|               248815.0|      Individual|            null|                     null|2025-05-25 14:07:...|\n",
       "|e599af63f1a06e96d...|        Investigator| 10+ years|      MORTGAGE|     120092.0|           VA|          220xx|            USA|    C|       C4|           Verified|               502718.0|      Individual|            null|                     null|2025-05-25 14:07:...|\n",
       "|d7f76105042a35af5...|           Detective| 10+ years|      MORTGAGE|     100000.0|           TX|          752xx|            USA|    D|       D4|       Not Verified|                70678.0|      Individual|            null|                     null|2025-05-25 14:07:...|\n",
       "|d7b8a3478590b59c6...|        Truck Driver|    1 year|           OWN|      36400.0|           SC|          291xx|            USA|    C|       C3|       Not Verified|                41204.0|      Individual|            null|                     null|2025-05-25 14:07:...|\n",
       "|4885a59f1ae5534c3...|          IT Manager| 10+ years|           OWN|     115000.0|           NY|          103xx|            USA|    B|       B4|       Not Verified|               379479.0|      Individual|            null|                     null|2025-05-25 14:07:...|\n",
       "|4558ee1fa31903d33...|     service advisor| 10+ years|      MORTGAGE|      63000.0|           MN|          563xx|            USA|    A|       A3|       Not Verified|               260220.0|      Individual|            null|                     null|2025-05-25 14:07:...|\n",
       "|619b3b7101cf2aeb7...|          Secretary2| 10+ years|      MORTGAGE|      60000.0|           CT|          064xx|            USA|    A|       A5|       Not Verified|               144940.0|      Individual|            null|                     null|2025-05-25 14:07:...|\n",
       "+--------------------+--------------------+----------+--------------+-------------+-------------+---------------+---------------+-----+---------+-------------------+-----------------------+----------------+----------------+-------------------------+--------------------+\n",
       "only showing top 20 rows"
      ]
     },
     "execution_count": 80,
     "metadata": {},
     "output_type": "execute_result"
    }
   ],
   "source": [
    "customers_df_ingestd"
   ]
  },
  {
   "cell_type": "code",
   "execution_count": 81,
   "id": "1028d937",
   "metadata": {},
   "outputs": [
    {
     "data": {
      "text/plain": [
       "2260701"
      ]
     },
     "execution_count": 81,
     "metadata": {},
     "output_type": "execute_result"
    }
   ],
   "source": [
    "# remove duplicate\n",
    "customers_df_ingestd.count()"
   ]
  },
  {
   "cell_type": "code",
   "execution_count": 82,
   "id": "1d4d1f59",
   "metadata": {},
   "outputs": [],
   "source": [
    "customers_distinct = customers_df_ingestd.distinct()"
   ]
  },
  {
   "cell_type": "code",
   "execution_count": 83,
   "id": "e4dbe549",
   "metadata": {},
   "outputs": [
    {
     "data": {
      "text/plain": [
       "2260638"
      ]
     },
     "execution_count": 83,
     "metadata": {},
     "output_type": "execute_result"
    }
   ],
   "source": [
    "customers_distinct.count()"
   ]
  },
  {
   "cell_type": "code",
   "execution_count": 84,
   "id": "6cc49924",
   "metadata": {},
   "outputs": [],
   "source": [
    "customers_distinct.createOrReplaceTempView(\"customers\")"
   ]
  },
  {
   "cell_type": "code",
   "execution_count": 85,
   "id": "18ec5ca9",
   "metadata": {},
   "outputs": [
    {
     "data": {
      "text/html": [
       "<table border='1'>\n",
       "<tr><th>member_id</th><th>emp_title</th><th>emp_length</th><th>home_ownership</th><th>annual_income</th><th>address_state</th><th>address_zipcode</th><th>address_country</th><th>grade</th><th>sub_grade</th><th>verification_status</th><th>total_high_credit_limit</th><th>application_type</th><th>annual_inc_joint</th><th>verification_status_joint</th><th>ingest_date</th></tr>\n",
       "<tr><td>ccd8c24c89fc03167...</td><td>pca</td><td>6 years</td><td>RENT</td><td>33000.0</td><td>NY</td><td>134xx</td><td>USA</td><td>C</td><td>C4</td><td>Source Verified</td><td>19200.0</td><td>Individual</td><td>null</td><td>null</td><td>2025-05-25 14:07:...</td></tr>\n",
       "<tr><td>fc686ab48dead233e...</td><td>Graphic Design/Pr...</td><td>10+ years</td><td>MORTGAGE</td><td>67925.0</td><td>CT</td><td>064xx</td><td>USA</td><td>A</td><td>A2</td><td>Verified</td><td>527314.0</td><td>Joint App</td><td>132425.0</td><td>null</td><td>2025-05-25 14:07:...</td></tr>\n",
       "<tr><td>f7237afa33700d087...</td><td>Pick up/ driver m...</td><td>8 years</td><td>RENT</td><td>35000.0</td><td>NJ</td><td>070xx</td><td>USA</td><td>D</td><td>D4</td><td>Verified</td><td>38216.0</td><td>Individual</td><td>null</td><td>null</td><td>2025-05-25 14:07:...</td></tr>\n",
       "<tr><td>68262cc2ce7494729...</td><td>Sr. Program Director</td><td>10+ years</td><td>RENT</td><td>55000.0</td><td>KS</td><td>675xx</td><td>USA</td><td>B</td><td>B2</td><td>Not Verified</td><td>48900.0</td><td>Individual</td><td>null</td><td>null</td><td>2025-05-25 14:07:...</td></tr>\n",
       "<tr><td>061a0c8db21c788e9...</td><td>Technology manager</td><td>2 years</td><td>MORTGAGE</td><td>57500.0</td><td>NE</td><td>685xx</td><td>USA</td><td>A</td><td>A3</td><td>Source Verified</td><td>173830.0</td><td>Individual</td><td>null</td><td>null</td><td>2025-05-25 14:07:...</td></tr>\n",
       "<tr><td>0ed23313b791df8fd...</td><td>null</td><td>null</td><td>MORTGAGE</td><td>22000.0</td><td>FL</td><td>322xx</td><td>USA</td><td>B</td><td>B2</td><td>Not Verified</td><td>176200.0</td><td>Individual</td><td>null</td><td>null</td><td>2025-05-25 14:07:...</td></tr>\n",
       "<tr><td>c5ff3314a7e32977a...</td><td>Manager</td><td>3 years</td><td>OWN</td><td>73000.0</td><td>NY</td><td>115xx</td><td>USA</td><td>B</td><td>B2</td><td>Source Verified</td><td>54859.0</td><td>Individual</td><td>null</td><td>null</td><td>2025-05-25 14:07:...</td></tr>\n",
       "<tr><td>d328ec19fe4bf1f15...</td><td>Accounting Manager</td><td>5 years</td><td>MORTGAGE</td><td>66361.0</td><td>OR</td><td>970xx</td><td>USA</td><td>A</td><td>A1</td><td>Source Verified</td><td>103775.0</td><td>Individual</td><td>null</td><td>null</td><td>2025-05-25 14:07:...</td></tr>\n",
       "<tr><td>1060b546e93e7a34d...</td><td>Supervisor</td><td>10+ years</td><td>MORTGAGE</td><td>64000.0</td><td>CA</td><td>952xx</td><td>USA</td><td>D</td><td>D1</td><td>Verified</td><td>248293.0</td><td>Individual</td><td>null</td><td>null</td><td>2025-05-25 14:07:...</td></tr>\n",
       "<tr><td>0d74158f85a6cccf8...</td><td>Sales</td><td>5 years</td><td>OWN</td><td>52000.0</td><td>IL</td><td>600xx</td><td>USA</td><td>C</td><td>C1</td><td>Source Verified</td><td>100824.0</td><td>Individual</td><td>null</td><td>null</td><td>2025-05-25 14:07:...</td></tr>\n",
       "<tr><td>d1a97ed861079872a...</td><td>Consultant</td><td>3 years</td><td>RENT</td><td>76875.0</td><td>DC</td><td>200xx</td><td>USA</td><td>B</td><td>B3</td><td>Verified</td><td>121378.0</td><td>Joint App</td><td>136875.0</td><td>null</td><td>2025-05-25 14:07:...</td></tr>\n",
       "<tr><td>30c2c4e2228a45619...</td><td>truck driver</td><td>10+ years</td><td>OWN</td><td>40000.0</td><td>TX</td><td>774xx</td><td>USA</td><td>A</td><td>A3</td><td>Not Verified</td><td>75400.0</td><td>Individual</td><td>null</td><td>null</td><td>2025-05-25 14:07:...</td></tr>\n",
       "<tr><td>d008918aa9f8c3379...</td><td>Global &amp; Coding S...</td><td>3 years</td><td>MORTGAGE</td><td>85000.0</td><td>FL</td><td>327xx</td><td>USA</td><td>D</td><td>D1</td><td>Not Verified</td><td>301285.0</td><td>Individual</td><td>null</td><td>null</td><td>2025-05-25 14:07:...</td></tr>\n",
       "<tr><td>2057ff7db16094d34...</td><td>Teacher</td><td>10+ years</td><td>MORTGAGE</td><td>90000.0</td><td>CA</td><td>945xx</td><td>USA</td><td>B</td><td>B1</td><td>Not Verified</td><td>474582.0</td><td>Joint App</td><td>220000.0</td><td>Not Verified</td><td>2025-05-25 14:07:...</td></tr>\n",
       "<tr><td>24a25b0b91df64348...</td><td>null</td><td>null</td><td>RENT</td><td>53000.0</td><td>TX</td><td>785xx</td><td>USA</td><td>D</td><td>D5</td><td>Verified</td><td>25440.0</td><td>Individual</td><td>null</td><td>null</td><td>2025-05-25 14:07:...</td></tr>\n",
       "<tr><td>b7c7eb41cd8c5e40d...</td><td>null</td><td>null</td><td>MORTGAGE</td><td>90000.0</td><td>MT</td><td>596xx</td><td>USA</td><td>B</td><td>B1</td><td>Not Verified</td><td>402177.0</td><td>Individual</td><td>null</td><td>null</td><td>2025-05-25 14:07:...</td></tr>\n",
       "<tr><td>2b1cb894fedef5775...</td><td>Manager</td><td>2 years</td><td>RENT</td><td>50000.0</td><td>MD</td><td>211xx</td><td>USA</td><td>B</td><td>B2</td><td>Source Verified</td><td>30894.0</td><td>Individual</td><td>null</td><td>null</td><td>2025-05-25 14:07:...</td></tr>\n",
       "<tr><td>73121c9131f29c40d...</td><td>Fire Technician 2</td><td>10+ years</td><td>MORTGAGE</td><td>50000.0</td><td>UT</td><td>840xx</td><td>USA</td><td>B</td><td>B4</td><td>Source Verified</td><td>204500.0</td><td>Individual</td><td>null</td><td>null</td><td>2025-05-25 14:07:...</td></tr>\n",
       "<tr><td>baa9f395b98acfe58...</td><td>null</td><td>null</td><td>RENT</td><td>108000.0</td><td>HI</td><td>967xx</td><td>USA</td><td>C</td><td>C1</td><td>Not Verified</td><td>448633.0</td><td>Individual</td><td>null</td><td>null</td><td>2025-05-25 14:07:...</td></tr>\n",
       "<tr><td>50d37b9e3451bb3d4...</td><td>Technical represe...</td><td>2 years</td><td>OWN</td><td>72500.0</td><td>CA</td><td>923xx</td><td>USA</td><td>B</td><td>B1</td><td>Source Verified</td><td>49705.0</td><td>Individual</td><td>null</td><td>null</td><td>2025-05-25 14:07:...</td></tr>\n",
       "</table>\n",
       "only showing top 20 rows\n"
      ],
      "text/plain": [
       "+--------------------+--------------------+----------+--------------+-------------+-------------+---------------+---------------+-----+---------+-------------------+-----------------------+----------------+----------------+-------------------------+--------------------+\n",
       "|           member_id|           emp_title|emp_length|home_ownership|annual_income|address_state|address_zipcode|address_country|grade|sub_grade|verification_status|total_high_credit_limit|application_type|annual_inc_joint|verification_status_joint|         ingest_date|\n",
       "+--------------------+--------------------+----------+--------------+-------------+-------------+---------------+---------------+-----+---------+-------------------+-----------------------+----------------+----------------+-------------------------+--------------------+\n",
       "|51a0c31b35571aeaa...| Sr. System Engineer|  < 1 year|      MORTGAGE|      95000.0|           MI|          494xx|            USA|    D|       D3|       Not Verified|               122787.0|      Individual|            null|                     null|2025-05-25 14:07:...|\n",
       "|1f5eca7fccad9ed75...| Property Accountant|   7 years|      MORTGAGE|      55000.0|           CA|          925xx|            USA|    D|       D1|    Source Verified|               240560.0|      Individual|            null|                     null|2025-05-25 14:07:...|\n",
       "|d2d563b3e133250d4...|Recruitment Assoc...|    1 year|          RENT|      44720.0|           DC|          200xx|            USA|    B|       B3|    Source Verified|               145461.0|      Individual|            null|                     null|2025-05-25 14:07:...|\n",
       "|74e2f2702396e7fff...|Purchasing Techni...|   7 years|          RENT|      58000.0|           CA|          937xx|            USA|    B|       B5|       Not Verified|                51764.0|      Individual|            null|                     null|2025-05-25 14:07:...|\n",
       "|19a4da75def76cc2e...|       CNC Machinist|   2 years|           OWN|      30000.0|           MA|          015xx|            USA|    B|       B5|    Source Verified|                45647.0|      Individual|            null|                     null|2025-05-25 14:07:...|\n",
       "|7ad7868f5424193cf...|           Carpenter|    1 year|          RENT|      60000.0|           MA|          021xx|            USA|    B|       B1|    Source Verified|                33136.0|      Individual|            null|                     null|2025-05-25 14:07:...|\n",
       "|f833b37cc063fa974...|        housekeeping| 10+ years|          RENT|      39000.0|           MA|          010xx|            USA|    E|       E4|    Source Verified|                34067.0|      Individual|            null|                     null|2025-05-25 14:07:...|\n",
       "|a42a30fbbe44310de...|     Legal Secretary| 10+ years|      MORTGAGE|      68000.0|           PA|          191xx|            USA|    E|       E4|    Source Verified|                38921.0|      Individual|            null|                     null|2025-05-25 14:07:...|\n",
       "|0a52cc9b1acf07ad6...|                 CFO| 10+ years|      MORTGAGE|     154000.0|           TX|          774xx|            USA|    C|       C4|           Verified|               385342.0|      Individual|            null|                     null|2025-05-25 14:07:...|\n",
       "|4b9130a7f69098d25...|       Senior editor|   3 years|          RENT|      55000.0|           DC|          200xx|            USA|    B|       B2|    Source Verified|                70159.0|      Individual|            null|                     null|2025-05-25 14:07:...|\n",
       "|568f31a61aea65883...|eligiblity specia...|   3 years|          RENT|      50000.0|           NY|          112xx|            USA|    E|       E2|    Source Verified|                40310.0|      Individual|            null|                     null|2025-05-25 14:07:...|\n",
       "|406fc081a304956ed...|           Associate|    1 year|          RENT|      75000.0|           TX|          752xx|            USA|    B|       B4|       Not Verified|                50522.0|      Individual|            null|                     null|2025-05-25 14:07:...|\n",
       "|31e7af0513f873994...|Digital Media Buy...|    1 year|          RENT|      48000.0|           AZ|          850xx|            USA|    A|       A5|    Source Verified|                54739.0|      Individual|            null|                     null|2025-05-25 14:07:...|\n",
       "|717e5b9ec0c7e2903...|Registered Nurse ...|  < 1 year|          RENT|     120000.0|           CA|          953xx|            USA|    D|       D1|    Source Verified|                28836.0|      Individual|            null|                     null|2025-05-25 14:07:...|\n",
       "|9939a22ba2952d7f1...| Locomotive engineer| 10+ years|          RENT|      93000.0|           NY|          116xx|            USA|    B|       B3|       Not Verified|               109955.0|      Individual|            null|                     null|2025-05-25 14:07:...|\n",
       "|6ad383909380d63f8...|Hospitality Assis...| 10+ years|      MORTGAGE|      39250.0|           PA|          191xx|            USA|    E|       E2|       Not Verified|               149512.0|      Individual|            null|                     null|2025-05-25 14:07:...|\n",
       "|7786568c1f49a6de9...|          Fabracator|   7 years|          RENT|      50000.0|           RI|          028xx|            USA|    B|       B5|    Source Verified|                72347.0|      Individual|            null|                     null|2025-05-25 14:07:...|\n",
       "|23a37091966880098...|       Teacher/coach|   3 years|          RENT|      55000.0|           OK|          730xx|            USA|    A|       A1|       Not Verified|                67608.0|      Individual|            null|                     null|2025-05-25 14:07:...|\n",
       "|4e2720c7ea9cf6b89...|       House Manager|   4 years|          RENT|      45600.0|           CA|          926xx|            USA|    C|       C3|       Not Verified|                42771.0|      Individual|            null|                     null|2025-05-25 14:07:...|\n",
       "|5eb92ff909720d5e7...|    Legal Assistance|   2 years|          RENT|      82000.0|           CA|          945xx|            USA|    A|       A4|    Source Verified|                86212.0|      Individual|            null|                     null|2025-05-25 14:07:...|\n",
       "+--------------------+--------------------+----------+--------------+-------------+-------------+---------------+---------------+-----+---------+-------------------+-----------------------+----------------+----------------+-------------------------+--------------------+\n",
       "only showing top 20 rows"
      ]
     },
     "execution_count": 85,
     "metadata": {},
     "output_type": "execute_result"
    }
   ],
   "source": [
    "spark.sql(\"select * from customers\")"
   ]
  },
  {
   "cell_type": "code",
   "execution_count": 86,
   "id": "4e3a38d9",
   "metadata": {},
   "outputs": [
    {
     "data": {
      "text/html": [
       "<table border='1'>\n",
       "<tr><th>count(1)</th></tr>\n",
       "<tr><td>5</td></tr>\n",
       "</table>\n"
      ],
      "text/plain": [
       "+--------+\n",
       "|count(1)|\n",
       "+--------+\n",
       "|       5|\n",
       "+--------+"
      ]
     },
     "execution_count": 86,
     "metadata": {},
     "output_type": "execute_result"
    }
   ],
   "source": [
    "spark.sql(\"select count(*) from customers where annual_income is null\")"
   ]
  },
  {
   "cell_type": "code",
   "execution_count": 87,
   "id": "5f59e5dc",
   "metadata": {},
   "outputs": [],
   "source": [
    "customers_income_filtered = spark.sql(\"select * from customers where annual_income is not null\")"
   ]
  },
  {
   "cell_type": "code",
   "execution_count": 88,
   "id": "fd604428",
   "metadata": {},
   "outputs": [],
   "source": [
    "customers_income_filtered.createOrReplaceTempView(\"customers\")"
   ]
  },
  {
   "cell_type": "code",
   "execution_count": 89,
   "id": "b14fc147",
   "metadata": {},
   "outputs": [
    {
     "data": {
      "text/html": [
       "<table border='1'>\n",
       "<tr><th>count(1)</th></tr>\n",
       "<tr><td>0</td></tr>\n",
       "</table>\n"
      ],
      "text/plain": [
       "+--------+\n",
       "|count(1)|\n",
       "+--------+\n",
       "|       0|\n",
       "+--------+"
      ]
     },
     "execution_count": 89,
     "metadata": {},
     "output_type": "execute_result"
    }
   ],
   "source": [
    "spark.sql(\"select count(*) from customers where annual_income is null\")"
   ]
  },
  {
   "cell_type": "code",
   "execution_count": 90,
   "id": "719b0739",
   "metadata": {},
   "outputs": [
    {
     "name": "stdout",
     "output_type": "stream",
     "text": [
      "+----------+\n",
      "|emp_length|\n",
      "+----------+\n",
      "|   5 years|\n",
      "|   9 years|\n",
      "|      null|\n",
      "|    1 year|\n",
      "|   2 years|\n",
      "|   7 years|\n",
      "|   8 years|\n",
      "|   4 years|\n",
      "|   6 years|\n",
      "|   3 years|\n",
      "| 10+ years|\n",
      "|  < 1 year|\n",
      "+----------+\n",
      "\n"
     ]
    }
   ],
   "source": [
    "spark.sql(\"select distinct(emp_length) from customers\").show()"
   ]
  },
  {
   "cell_type": "code",
   "execution_count": 91,
   "id": "7e6b693d",
   "metadata": {},
   "outputs": [],
   "source": [
    "from pyspark.sql.functions import regexp_replace, col"
   ]
  },
  {
   "cell_type": "code",
   "execution_count": 92,
   "id": "9948b536",
   "metadata": {},
   "outputs": [],
   "source": [
    "customers_emplength_cleaned = customers_income_filtered.withColumn(\"emp_length\", regexp_replace(col(\"emp_length\"), \"(\\D)\",\"\"))"
   ]
  },
  {
   "cell_type": "code",
   "execution_count": 93,
   "id": "93a5dc56",
   "metadata": {},
   "outputs": [
    {
     "data": {
      "text/html": [
       "<table border='1'>\n",
       "<tr><th>member_id</th><th>emp_title</th><th>emp_length</th><th>home_ownership</th><th>annual_income</th><th>address_state</th><th>address_zipcode</th><th>address_country</th><th>grade</th><th>sub_grade</th><th>verification_status</th><th>total_high_credit_limit</th><th>application_type</th><th>annual_inc_joint</th><th>verification_status_joint</th><th>ingest_date</th></tr>\n",
       "<tr><td>66ab9fd8dd5a1bc47...</td><td>Dispatch</td><td>3</td><td>RENT</td><td>61000.0</td><td>MS</td><td>397xx</td><td>USA</td><td>B</td><td>B4</td><td>Not Verified</td><td>106782.0</td><td>Individual</td><td>null</td><td>null</td><td>2025-05-25 14:08:...</td></tr>\n",
       "<tr><td>9c32ca57993bd8834...</td><td>HR Coordinator</td><td>2</td><td>RENT</td><td>53000.0</td><td>GA</td><td>300xx</td><td>USA</td><td>C</td><td>C5</td><td>Verified</td><td>58500.0</td><td>Individual</td><td>null</td><td>null</td><td>2025-05-25 14:08:...</td></tr>\n",
       "<tr><td>089a84334a3691918...</td><td>Senior UX Designer</td><td>3</td><td>MORTGAGE</td><td>95000.0</td><td>FL</td><td>334xx</td><td>USA</td><td>A</td><td>A3</td><td>Source Verified</td><td>511823.0</td><td>Individual</td><td>null</td><td>null</td><td>2025-05-25 14:08:...</td></tr>\n",
       "<tr><td>01986ddb2ab734cbe...</td><td>Facility Manager</td><td>4</td><td>RENT</td><td>45000.0</td><td>NJ</td><td>087xx</td><td>USA</td><td>D</td><td>D2</td><td>Not Verified</td><td>90837.0</td><td>Individual</td><td>null</td><td>null</td><td>2025-05-25 14:08:...</td></tr>\n",
       "<tr><td>7ec1824f76410f3c4...</td><td>Supply Chain Rep</td><td>10</td><td>MORTGAGE</td><td>64000.0</td><td>CA</td><td>950xx</td><td>USA</td><td>C</td><td>C1</td><td>Not Verified</td><td>454560.0</td><td>Individual</td><td>null</td><td>null</td><td>2025-05-25 14:08:...</td></tr>\n",
       "<tr><td>c50c67adcb0886c18...</td><td>Continuous improv...</td><td>10</td><td>MORTGAGE</td><td>83000.0</td><td>MN</td><td>559xx</td><td>USA</td><td>A</td><td>A1</td><td>Not Verified</td><td>226345.0</td><td>Individual</td><td>null</td><td>null</td><td>2025-05-25 14:08:...</td></tr>\n",
       "<tr><td>009ec0f3b791ede25...</td><td>Teacher&#x27;s Aid</td><td>1</td><td>RENT</td><td>25000.0</td><td>NY</td><td>113xx</td><td>USA</td><td>B</td><td>B5</td><td>Not Verified</td><td>46800.0</td><td>Joint App</td><td>79000.0</td><td>Not Verified</td><td>2025-05-25 14:08:...</td></tr>\n",
       "<tr><td>af9f426baa2ebd2cc...</td><td>Sales</td><td>10</td><td>OWN</td><td>58000.0</td><td>TX</td><td>782xx</td><td>USA</td><td>B</td><td>B4</td><td>Source Verified</td><td>133981.0</td><td>Individual</td><td>null</td><td>null</td><td>2025-05-25 14:08:...</td></tr>\n",
       "<tr><td>42c470971c6172f49...</td><td>null</td><td>6</td><td>MORTGAGE</td><td>150000.0</td><td>MA</td><td>017xx</td><td>USA</td><td>B</td><td>B1</td><td>Source Verified</td><td>51542.0</td><td>Individual</td><td>null</td><td>null</td><td>2025-05-25 14:08:...</td></tr>\n",
       "<tr><td>c0a5fe976f24a0f44...</td><td>Account Director</td><td>2</td><td>MORTGAGE</td><td>70000.0</td><td>OH</td><td>441xx</td><td>USA</td><td>C</td><td>C4</td><td>Verified</td><td>208901.0</td><td>Individual</td><td>null</td><td>null</td><td>2025-05-25 14:08:...</td></tr>\n",
       "<tr><td>abd4636baff851dd0...</td><td>Sr. Accountant</td><td>10</td><td>MORTGAGE</td><td>67000.0</td><td>PA</td><td>175xx</td><td>USA</td><td>B</td><td>B2</td><td>Not Verified</td><td>281182.0</td><td>Individual</td><td>null</td><td>null</td><td>2025-05-25 14:08:...</td></tr>\n",
       "<tr><td>886c3c06984c3566d...</td><td>MDS nurse</td><td>10</td><td>MORTGAGE</td><td>56000.0</td><td>OH</td><td>446xx</td><td>USA</td><td>A</td><td>A5</td><td>Source Verified</td><td>90100.0</td><td>Individual</td><td>null</td><td>null</td><td>2025-05-25 14:08:...</td></tr>\n",
       "<tr><td>e8a283a2f5e541b48...</td><td>Mortgage Underwriter</td><td>9</td><td>MORTGAGE</td><td>64000.0</td><td>MA</td><td>017xx</td><td>USA</td><td>C</td><td>C5</td><td>Verified</td><td>225318.0</td><td>Individual</td><td>null</td><td>null</td><td>2025-05-25 14:08:...</td></tr>\n",
       "<tr><td>e3a11f6fbaec63dc4...</td><td>null</td><td>null</td><td>MORTGAGE</td><td>41000.0</td><td>AZ</td><td>850xx</td><td>USA</td><td>A</td><td>A4</td><td>Not Verified</td><td>47400.0</td><td>Individual</td><td>null</td><td>null</td><td>2025-05-25 14:08:...</td></tr>\n",
       "<tr><td>121c6862aad87d480...</td><td>JOURNEYMAN ELECTR...</td><td>10</td><td>MORTGAGE</td><td>92726.0</td><td>WA</td><td>985xx</td><td>USA</td><td>C</td><td>C3</td><td>Verified</td><td>235885.0</td><td>Individual</td><td>null</td><td>null</td><td>2025-05-25 14:08:...</td></tr>\n",
       "<tr><td>c881b19039ac4aee5...</td><td>Bartender/ server</td><td>10</td><td>RENT</td><td>40000.0</td><td>OR</td><td>972xx</td><td>USA</td><td>C</td><td>C5</td><td>Source Verified</td><td>36832.0</td><td>Individual</td><td>null</td><td>null</td><td>2025-05-25 14:08:...</td></tr>\n",
       "<tr><td>75233a72cf255fa3e...</td><td>null</td><td>null</td><td>OWN</td><td>70000.0</td><td>MA</td><td>015xx</td><td>USA</td><td>C</td><td>C4</td><td>Not Verified</td><td>123627.0</td><td>Individual</td><td>null</td><td>null</td><td>2025-05-25 14:08:...</td></tr>\n",
       "<tr><td>c4224dd757e0bde24...</td><td>Service Dispatcher</td><td>1</td><td>MORTGAGE</td><td>32000.0</td><td>NH</td><td>034xx</td><td>USA</td><td>B</td><td>B5</td><td>Source Verified</td><td>110083.0</td><td>Joint App</td><td>104000.0</td><td>Source Verified</td><td>2025-05-25 14:08:...</td></tr>\n",
       "<tr><td>9ac05effbf27d0d1a...</td><td>Maintenance Manager</td><td>4</td><td>MORTGAGE</td><td>33600.0</td><td>IL</td><td>601xx</td><td>USA</td><td>B</td><td>B2</td><td>Not Verified</td><td>169722.0</td><td>Individual</td><td>null</td><td>null</td><td>2025-05-25 14:08:...</td></tr>\n",
       "<tr><td>d2bbb8020bb6af339...</td><td>WAREHOUSE EMPLOYEE</td><td>1</td><td>MORTGAGE</td><td>40000.0</td><td>AZ</td><td>853xx</td><td>USA</td><td>C</td><td>C5</td><td>Not Verified</td><td>233613.0</td><td>Joint App</td><td>70000.0</td><td>Not Verified</td><td>2025-05-25 14:08:...</td></tr>\n",
       "</table>\n",
       "only showing top 20 rows\n"
      ],
      "text/plain": [
       "+--------------------+--------------------+----------+--------------+-------------+-------------+---------------+---------------+-----+---------+-------------------+-----------------------+----------------+----------------+-------------------------+--------------------+\n",
       "|           member_id|           emp_title|emp_length|home_ownership|annual_income|address_state|address_zipcode|address_country|grade|sub_grade|verification_status|total_high_credit_limit|application_type|annual_inc_joint|verification_status_joint|         ingest_date|\n",
       "+--------------------+--------------------+----------+--------------+-------------+-------------+---------------+---------------+-----+---------+-------------------+-----------------------+----------------+----------------+-------------------------+--------------------+\n",
       "|31f32772234a71cda...|senior account clerk|         7|      MORTGAGE|      36000.0|           CA|          953xx|            USA|    C|       C5|    Source Verified|               202826.0|      Individual|            null|                     null|2025-05-25 14:08:...|\n",
       "|e39f71c3d9346be06...|       Plant Manager|        10|      MORTGAGE|     165000.0|           WI|          538xx|            USA|    A|       A3|       Not Verified|               481975.0|       Joint App|        190000.0|             Not Verified|2025-05-25 14:08:...|\n",
       "|2e9ea25cac0dc88b0...|         Grocery mgr|        10|      MORTGAGE|      70000.0|           NY|          109xx|            USA|    A|       A4|       Not Verified|               204444.0|      Individual|            null|                     null|2025-05-25 14:08:...|\n",
       "|e15db44a23baa5426...|             ofc mgr|        10|          RENT|      25000.0|           TX|          773xx|            USA|    C|       C1|           Verified|                16438.0|      Individual|            null|                     null|2025-05-25 14:08:...|\n",
       "|2451e1930a8576c3e...|          Controller|        10|      MORTGAGE|     100000.0|           CA|          922xx|            USA|    B|       B2|       Not Verified|               111835.0|      Individual|            null|                     null|2025-05-25 14:08:...|\n",
       "|4735a086f30f36135...|             Teacher|         8|           OWN|      38000.0|           ND|          585xx|            USA|    C|       C2|    Source Verified|               105143.0|      Individual|            null|                     null|2025-05-25 14:08:...|\n",
       "|1bbb4615162fae9fd...|       Sales Manager|         1|      MORTGAGE|     115600.0|           CA|          920xx|            USA|    A|       A1|    Source Verified|               630029.0|      Individual|            null|                     null|2025-05-25 14:08:...|\n",
       "|0ed2e3d7f5b24af00...|                 CEO|         6|          RENT|     160000.0|           CA|          925xx|            USA|    B|       B2|    Source Verified|                62606.0|      Individual|            null|                     null|2025-05-25 14:08:...|\n",
       "|2e483b8d9f7773296...|Store keeper assi...|        10|          RENT|      36000.0|           CT|          064xx|            USA|    C|       C2|           Verified|                31400.0|      Individual|            null|                     null|2025-05-25 14:08:...|\n",
       "|ac896449f4262aab6...|      Medical Biller|         5|           OWN|      32000.0|           IL|          604xx|            USA|    B|       B2|       Not Verified|               216159.0|      Individual|            null|                     null|2025-05-25 14:08:...|\n",
       "|e9681f98f9adc5935...|             Manager|        10|      MORTGAGE|      90000.0|           TX|          750xx|            USA|    C|       C4|       Not Verified|               166011.0|      Individual|            null|                     null|2025-05-25 14:08:...|\n",
       "|106954ba0047fb008...|  IT Project Manager|         3|          RENT|     107500.0|           CO|          800xx|            USA|    B|       B3|       Not Verified|                67936.0|      Individual|            null|                     null|2025-05-25 14:08:...|\n",
       "|0b0dcf60a494f03e5...|                null|      null|          RENT|      27500.0|           LA|          704xx|            USA|    B|       B4|           Verified|                10840.0|      Individual|            null|                     null|2025-05-25 14:08:...|\n",
       "|28347b4ce6db6c356...|     owner/president|        10|      MORTGAGE|      80000.0|           NV|          890xx|            USA|    E|       E1|           Verified|               353766.0|       Joint App|        110000.0|             Not Verified|2025-05-25 14:08:...|\n",
       "|765ee0f6c21dd10d8...|Pharmaceutical Sa...|         1|      MORTGAGE|      85000.0|           CA|          921xx|            USA|    C|       C1|    Source Verified|               493445.0|      Individual|            null|                     null|2025-05-25 14:08:...|\n",
       "|e33d01f7c364daa41...| Billing Coordinator|         5|          RENT|      42504.0|           CA|          919xx|            USA|    B|       B3|    Source Verified|                39164.0|      Individual|            null|                     null|2025-05-25 14:08:...|\n",
       "|c506de5b353870840...|   Scan co ordinater|        10|           OWN|      80000.0|           NJ|          070xx|            USA|    A|       A4|    Source Verified|               241300.0|      Individual|            null|                     null|2025-05-25 14:08:...|\n",
       "|62756007e114cde8c...|       Administrator|         1|          RENT|     115000.0|           NY|          144xx|            USA|    C|       C1|    Source Verified|                79658.0|      Individual|            null|                     null|2025-05-25 14:08:...|\n",
       "|36031fdd75139dd4a...|           Sales Mgr|         1|      MORTGAGE|      75000.0|           FL|          338xx|            USA|    C|       C2|       Not Verified|               306129.0|      Individual|            null|                     null|2025-05-25 14:08:...|\n",
       "|6e48bf815c22ba67f...|   Technical Analyst|        10|      MORTGAGE|     140000.0|           NJ|          088xx|            USA|    C|       C2|       Not Verified|               560136.0|      Individual|            null|                     null|2025-05-25 14:08:...|\n",
       "+--------------------+--------------------+----------+--------------+-------------+-------------+---------------+---------------+-----+---------+-------------------+-----------------------+----------------+----------------+-------------------------+--------------------+\n",
       "only showing top 20 rows"
      ]
     },
     "execution_count": 93,
     "metadata": {},
     "output_type": "execute_result"
    }
   ],
   "source": [
    "customers_emplength_cleaned"
   ]
  },
  {
   "cell_type": "code",
   "execution_count": 94,
   "id": "49c5483c",
   "metadata": {},
   "outputs": [
    {
     "name": "stdout",
     "output_type": "stream",
     "text": [
      "root\n",
      " |-- member_id: string (nullable = true)\n",
      " |-- emp_title: string (nullable = true)\n",
      " |-- emp_length: string (nullable = true)\n",
      " |-- home_ownership: string (nullable = true)\n",
      " |-- annual_income: float (nullable = true)\n",
      " |-- address_state: string (nullable = true)\n",
      " |-- address_zipcode: string (nullable = true)\n",
      " |-- address_country: string (nullable = true)\n",
      " |-- grade: string (nullable = true)\n",
      " |-- sub_grade: string (nullable = true)\n",
      " |-- verification_status: string (nullable = true)\n",
      " |-- total_high_credit_limit: float (nullable = true)\n",
      " |-- application_type: string (nullable = true)\n",
      " |-- annual_inc_joint: float (nullable = true)\n",
      " |-- verification_status_joint: string (nullable = true)\n",
      " |-- ingest_date: timestamp (nullable = false)\n",
      "\n"
     ]
    }
   ],
   "source": [
    "customers_emplength_cleaned.printSchema()"
   ]
  },
  {
   "cell_type": "code",
   "execution_count": 95,
   "id": "3b8f8ece",
   "metadata": {},
   "outputs": [],
   "source": [
    "customers_emplength_casted = customers_emplength_cleaned.withColumn(\"emp_length\", customers_emplength_cleaned.emp_length.cast('int'))"
   ]
  },
  {
   "cell_type": "code",
   "execution_count": 96,
   "id": "ba468f36",
   "metadata": {},
   "outputs": [
    {
     "data": {
      "text/html": [
       "<table border='1'>\n",
       "<tr><th>member_id</th><th>emp_title</th><th>emp_length</th><th>home_ownership</th><th>annual_income</th><th>address_state</th><th>address_zipcode</th><th>address_country</th><th>grade</th><th>sub_grade</th><th>verification_status</th><th>total_high_credit_limit</th><th>application_type</th><th>annual_inc_joint</th><th>verification_status_joint</th><th>ingest_date</th></tr>\n",
       "<tr><td>19102335af8c3851a...</td><td>taxi driver</td><td>10</td><td>OWN</td><td>65000.0</td><td>NY</td><td>115xx</td><td>USA</td><td>B</td><td>B1</td><td>Source Verified</td><td>32500.0</td><td>Individual</td><td>null</td><td>null</td><td>2025-05-25 14:08:...</td></tr>\n",
       "<tr><td>bc83d3638c5608036...</td><td>Administrative As...</td><td>10</td><td>OWN</td><td>52370.0</td><td>PA</td><td>186xx</td><td>USA</td><td>C</td><td>C2</td><td>Source Verified</td><td>69600.0</td><td>Individual</td><td>null</td><td>null</td><td>2025-05-25 14:08:...</td></tr>\n",
       "<tr><td>017db60a8fd54538f...</td><td>Quality Manager</td><td>3</td><td>MORTGAGE</td><td>147180.0</td><td>MO</td><td>641xx</td><td>USA</td><td>D</td><td>D5</td><td>Verified</td><td>243445.0</td><td>Individual</td><td>null</td><td>null</td><td>2025-05-25 14:08:...</td></tr>\n",
       "<tr><td>5bca837037b6fad27...</td><td>public work director</td><td>10</td><td>MORTGAGE</td><td>80000.0</td><td>GA</td><td>317xx</td><td>USA</td><td>C</td><td>C2</td><td>Verified</td><td>114665.0</td><td>Individual</td><td>null</td><td>null</td><td>2025-05-25 14:08:...</td></tr>\n",
       "<tr><td>89c6d7bd5a559bb11...</td><td>social worker</td><td>10</td><td>RENT</td><td>53500.0</td><td>ME</td><td>047xx</td><td>USA</td><td>C</td><td>C1</td><td>Not Verified</td><td>24299.0</td><td>Individual</td><td>null</td><td>null</td><td>2025-05-25 14:08:...</td></tr>\n",
       "<tr><td>f3b1031957f585b47...</td><td>Department Manager</td><td>8</td><td>OWN</td><td>24000.0</td><td>UT</td><td>847xx</td><td>USA</td><td>D</td><td>D5</td><td>Verified</td><td>22806.0</td><td>Individual</td><td>null</td><td>null</td><td>2025-05-25 14:08:...</td></tr>\n",
       "<tr><td>a25822c4728d1743d...</td><td>IT Systems Manager</td><td>1</td><td>MORTGAGE</td><td>72000.0</td><td>TX</td><td>786xx</td><td>USA</td><td>B</td><td>B3</td><td>Verified</td><td>463397.0</td><td>Joint App</td><td>196000.0</td><td>Not Verified</td><td>2025-05-25 14:08:...</td></tr>\n",
       "<tr><td>07ffd138b3f7401c8...</td><td>maintenance super...</td><td>10</td><td>MORTGAGE</td><td>65000.0</td><td>PA</td><td>196xx</td><td>USA</td><td>B</td><td>B5</td><td>Not Verified</td><td>258709.0</td><td>Individual</td><td>null</td><td>null</td><td>2025-05-25 14:08:...</td></tr>\n",
       "<tr><td>1d90cc2ed3a0a8aff...</td><td>null</td><td>null</td><td>RENT</td><td>30000.0</td><td>NY</td><td>136xx</td><td>USA</td><td>C</td><td>C5</td><td>Source Verified</td><td>12200.0</td><td>Individual</td><td>null</td><td>null</td><td>2025-05-25 14:08:...</td></tr>\n",
       "<tr><td>651480bed5b889bf9...</td><td>CONSTRUCTION SUPE...</td><td>6</td><td>MORTGAGE</td><td>65000.0</td><td>AZ</td><td>850xx</td><td>USA</td><td>B</td><td>B3</td><td>Not Verified</td><td>341713.0</td><td>Individual</td><td>null</td><td>null</td><td>2025-05-25 14:08:...</td></tr>\n",
       "<tr><td>f049109df334bd9a8...</td><td>Developer</td><td>1</td><td>MORTGAGE</td><td>85000.0</td><td>FL</td><td>334xx</td><td>USA</td><td>B</td><td>B5</td><td>Source Verified</td><td>56914.0</td><td>Individual</td><td>null</td><td>null</td><td>2025-05-25 14:08:...</td></tr>\n",
       "<tr><td>fcc7f326c5f09ea11...</td><td>Medical assist</td><td>10</td><td>MORTGAGE</td><td>48000.0</td><td>OH</td><td>431xx</td><td>USA</td><td>B</td><td>B5</td><td>Not Verified</td><td>291307.0</td><td>Individual</td><td>null</td><td>null</td><td>2025-05-25 14:08:...</td></tr>\n",
       "<tr><td>590753d380f1c3ee7...</td><td>Teacher</td><td>10</td><td>OWN</td><td>64000.0</td><td>CA</td><td>933xx</td><td>USA</td><td>B</td><td>B3</td><td>Verified</td><td>200729.0</td><td>Individual</td><td>null</td><td>null</td><td>2025-05-25 14:08:...</td></tr>\n",
       "<tr><td>8dc3a1dd4783106ed...</td><td>IT Audit Director</td><td>10</td><td>MORTGAGE</td><td>300000.0</td><td>AL</td><td>352xx</td><td>USA</td><td>A</td><td>A2</td><td>Verified</td><td>1104944.0</td><td>Individual</td><td>null</td><td>null</td><td>2025-05-25 14:08:...</td></tr>\n",
       "<tr><td>35af54adc24593b0a...</td><td>Sales Engineer</td><td>6</td><td>MORTGAGE</td><td>115000.0</td><td>MN</td><td>553xx</td><td>USA</td><td>B</td><td>B3</td><td>Not Verified</td><td>311022.0</td><td>Individual</td><td>null</td><td>null</td><td>2025-05-25 14:08:...</td></tr>\n",
       "<tr><td>8e13bde4a085d48b4...</td><td>Digital Strategist</td><td>1</td><td>OWN</td><td>64500.0</td><td>SD</td><td>571xx</td><td>USA</td><td>B</td><td>B4</td><td>Source Verified</td><td>203323.0</td><td>Individual</td><td>null</td><td>null</td><td>2025-05-25 14:08:...</td></tr>\n",
       "<tr><td>b7fd85b99ee785ca5...</td><td>Marketing</td><td>10</td><td>MORTGAGE</td><td>64000.0</td><td>AZ</td><td>852xx</td><td>USA</td><td>B</td><td>B3</td><td>Not Verified</td><td>278445.0</td><td>Individual</td><td>null</td><td>null</td><td>2025-05-25 14:08:...</td></tr>\n",
       "<tr><td>3aca62eeeb2d5b170...</td><td>2-1-1 Specialist</td><td>3</td><td>MORTGAGE</td><td>31000.0</td><td>TX</td><td>751xx</td><td>USA</td><td>D</td><td>D3</td><td>Source Verified</td><td>244220.0</td><td>Individual</td><td>null</td><td>null</td><td>2025-05-25 14:08:...</td></tr>\n",
       "<tr><td>d3e5885f831b3652f...</td><td>Director of IT Op...</td><td>2</td><td>MORTGAGE</td><td>140000.0</td><td>TX</td><td>750xx</td><td>USA</td><td>B</td><td>B4</td><td>Not Verified</td><td>373211.0</td><td>Individual</td><td>null</td><td>null</td><td>2025-05-25 14:08:...</td></tr>\n",
       "<tr><td>9ec02f294a03ca626...</td><td>RNCPN</td><td>10</td><td>RENT</td><td>44000.0</td><td>OH</td><td>441xx</td><td>USA</td><td>B</td><td>B5</td><td>Not Verified</td><td>49300.0</td><td>Individual</td><td>null</td><td>null</td><td>2025-05-25 14:08:...</td></tr>\n",
       "</table>\n",
       "only showing top 20 rows\n"
      ],
      "text/plain": [
       "+--------------------+--------------------+----------+--------------+-------------+-------------+---------------+---------------+-----+---------+-------------------+-----------------------+----------------+----------------+-------------------------+--------------------+\n",
       "|           member_id|           emp_title|emp_length|home_ownership|annual_income|address_state|address_zipcode|address_country|grade|sub_grade|verification_status|total_high_credit_limit|application_type|annual_inc_joint|verification_status_joint|         ingest_date|\n",
       "+--------------------+--------------------+----------+--------------+-------------+-------------+---------------+---------------+-----+---------+-------------------+-----------------------+----------------+----------------+-------------------------+--------------------+\n",
       "|fb05bf523ec7834d1...|                null|      null|      MORTGAGE|      46404.0|           MD|          207xx|            USA|    C|       C2|           Verified|               226316.0|      Individual|            null|                     null|2025-05-25 14:08:...|\n",
       "|7d130f07dfe6cacd7...|   incNETWORKS, Inc.|         5|          RENT|     140000.0|           NJ|          070xx|            USA|    D|       D5|           Verified|                70037.0|      Individual|            null|                     null|2025-05-25 14:08:...|\n",
       "|a90e47e5a9ada2617...|  mission management|        10|      MORTGAGE|      45000.0|           MI|          481xx|            USA|    B|       B4|           Verified|               193044.0|      Individual|            null|                     null|2025-05-25 14:08:...|\n",
       "|7b38862554157d6e6...| State of California|         2|      MORTGAGE|      67000.0|           CA|          956xx|            USA|    A|       A3|       Not Verified|               422813.0|      Individual|            null|                     null|2025-05-25 14:08:...|\n",
       "|3a39b1853cdea3bd0...| General Mills, Inc.|        10|      MORTGAGE|     147804.0|           TN|          371xx|            USA|    A|       A5|    Source Verified|               376809.0|      Individual|            null|                     null|2025-05-25 14:08:...|\n",
       "|263ff33efcd41ba62...|Sunland Park race...|         9|      MORTGAGE|      72000.0|           TX|          799xx|            USA|    B|       B2|       Not Verified|                 7600.0|      Individual|            null|                     null|2025-05-25 14:08:...|\n",
       "|878b814f956a3e055...|City of Salem Pol...|        10|      MORTGAGE|     140000.0|           OR|          973xx|            USA|    B|       B1|       Not Verified|               304676.0|      Individual|            null|                     null|2025-05-25 14:08:...|\n",
       "|9c477f8cfeab4f34f...|                null|        10|      MORTGAGE|     175000.0|           OR|          975xx|            USA|    A|       A5|    Source Verified|               232313.0|      Individual|            null|                     null|2025-05-25 14:08:...|\n",
       "|a5c980e80f187fc57...|         State of CT|         2|      MORTGAGE|     103000.0|           CT|          064xx|            USA|    C|       C2|           Verified|               446989.0|      Individual|            null|                     null|2025-05-25 14:08:...|\n",
       "|028c56233580fe5a3...|Memorial Sloan Ke...|         7|          RENT|      52000.0|           NY|          104xx|            USA|    C|       C1|           Verified|                54472.0|      Individual|            null|                     null|2025-05-25 14:08:...|\n",
       "|ffb00c71ab64d0047...|Pilot Catastrophe...|         2|      MORTGAGE|      65000.0|           AL|          365xx|            USA|    C|       C2|           Verified|               198720.0|      Individual|            null|                     null|2025-05-25 14:08:...|\n",
       "|6c91d1d2dea72916f...|                 FAA|         2|          RENT|      96000.0|           HI|          967xx|            USA|    A|       A5|       Not Verified|                48261.0|      Individual|            null|                     null|2025-05-25 14:08:...|\n",
       "|622feb10f04ce2cb8...|Manchester School...|         4|      MORTGAGE|      67000.0|           NH|          031xx|            USA|    B|       B5|           Verified|               353970.0|      Individual|            null|                     null|2025-05-25 14:08:...|\n",
       "|fcf3812dbd8153dd7...|    Florida Elevator|         8|      MORTGAGE|      68110.0|           FL|          342xx|            USA|    B|       B3|           Verified|               204248.0|      Individual|            null|                     null|2025-05-25 14:08:...|\n",
       "|440048a4bdd7c7d91...|1199 SEIU Nationa...|         5|           OWN|      36000.0|           NY|          113xx|            USA|    C|       C1|           Verified|                29836.0|      Individual|            null|                     null|2025-05-25 14:08:...|\n",
       "|667f1697218475bab...|     Waste Managment|         1|          RENT|      36000.0|           TN|          383xx|            USA|    D|       D2|       Not Verified|               143664.0|      Individual|            null|                     null|2025-05-25 14:08:...|\n",
       "|f4146ea5f78e814c3...|         Micro Excel|         1|          RENT|      80000.0|           VA|          201xx|            USA|    B|       B2|       Not Verified|                12800.0|      Individual|            null|                     null|2025-05-25 14:08:...|\n",
       "|cf1fd97d078729d2e...|Woodridge Nursing...|         2|          RENT|      49000.0|           TX|          770xx|            USA|    D|       D1|       Not Verified|                70197.0|      Individual|            null|                     null|2025-05-25 14:08:...|\n",
       "|f42b5e6a360ec24cd...|Exelis Visual Inf...|        10|      MORTGAGE|     140000.0|           CO|          803xx|            USA|    A|       A2|       Not Verified|               556733.0|      Individual|            null|                     null|2025-05-25 14:08:...|\n",
       "|1a63ee008c6193bb5...|             Dechert|         1|          RENT|      45000.0|           NY|          104xx|            USA|    D|       D4|           Verified|                43300.0|      Individual|            null|                     null|2025-05-25 14:08:...|\n",
       "+--------------------+--------------------+----------+--------------+-------------+-------------+---------------+---------------+-----+---------+-------------------+-----------------------+----------------+----------------+-------------------------+--------------------+\n",
       "only showing top 20 rows"
      ]
     },
     "execution_count": 96,
     "metadata": {},
     "output_type": "execute_result"
    }
   ],
   "source": [
    "customers_emplength_casted"
   ]
  },
  {
   "cell_type": "code",
   "execution_count": 97,
   "id": "d4e0512d",
   "metadata": {},
   "outputs": [
    {
     "name": "stdout",
     "output_type": "stream",
     "text": [
      "root\n",
      " |-- member_id: string (nullable = true)\n",
      " |-- emp_title: string (nullable = true)\n",
      " |-- emp_length: integer (nullable = true)\n",
      " |-- home_ownership: string (nullable = true)\n",
      " |-- annual_income: float (nullable = true)\n",
      " |-- address_state: string (nullable = true)\n",
      " |-- address_zipcode: string (nullable = true)\n",
      " |-- address_country: string (nullable = true)\n",
      " |-- grade: string (nullable = true)\n",
      " |-- sub_grade: string (nullable = true)\n",
      " |-- verification_status: string (nullable = true)\n",
      " |-- total_high_credit_limit: float (nullable = true)\n",
      " |-- application_type: string (nullable = true)\n",
      " |-- annual_inc_joint: float (nullable = true)\n",
      " |-- verification_status_joint: string (nullable = true)\n",
      " |-- ingest_date: timestamp (nullable = false)\n",
      "\n"
     ]
    }
   ],
   "source": [
    "customers_emplength_casted.printSchema()"
   ]
  },
  {
   "cell_type": "code",
   "execution_count": 98,
   "id": "520a7360",
   "metadata": {},
   "outputs": [
    {
     "data": {
      "text/plain": [
       "146903"
      ]
     },
     "execution_count": 98,
     "metadata": {},
     "output_type": "execute_result"
    }
   ],
   "source": [
    "customers_emplength_casted.filter(\"emp_length is null\").count()"
   ]
  },
  {
   "cell_type": "code",
   "execution_count": 99,
   "id": "c1527411",
   "metadata": {},
   "outputs": [],
   "source": [
    "customers_emplength_casted.createOrReplaceTempView(\"customers\")"
   ]
  },
  {
   "cell_type": "code",
   "execution_count": 101,
   "id": "7138e261",
   "metadata": {},
   "outputs": [],
   "source": [
    "avg_emp_length = spark.sql(\"select floor(avg(emp_length)) as avg_emp_length from customers\").collect()"
   ]
  },
  {
   "cell_type": "code",
   "execution_count": 102,
   "id": "d1ae2f91",
   "metadata": {},
   "outputs": [
    {
     "name": "stdout",
     "output_type": "stream",
     "text": [
      "[Row(avg_emp_length=6)]\n"
     ]
    }
   ],
   "source": [
    "print(avg_emp_length)"
   ]
  },
  {
   "cell_type": "code",
   "execution_count": 104,
   "id": "deba9eb5",
   "metadata": {},
   "outputs": [],
   "source": [
    "avg_emp_duration = avg_emp_length[0][0]"
   ]
  },
  {
   "cell_type": "code",
   "execution_count": 105,
   "id": "1173a72f",
   "metadata": {},
   "outputs": [
    {
     "data": {
      "text/plain": [
       "6"
      ]
     },
     "execution_count": 105,
     "metadata": {},
     "output_type": "execute_result"
    }
   ],
   "source": [
    "avg_emp_duration"
   ]
  },
  {
   "cell_type": "code",
   "execution_count": 106,
   "id": "586be731",
   "metadata": {},
   "outputs": [],
   "source": [
    "customers_emplength_replaced = customers_emplength_casted.na.fill(avg_emp_duration, subset=['emp_length'])"
   ]
  },
  {
   "cell_type": "code",
   "execution_count": 107,
   "id": "bdf9680e",
   "metadata": {},
   "outputs": [
    {
     "data": {
      "text/html": [
       "<table border='1'>\n",
       "<tr><th>member_id</th><th>emp_title</th><th>emp_length</th><th>home_ownership</th><th>annual_income</th><th>address_state</th><th>address_zipcode</th><th>address_country</th><th>grade</th><th>sub_grade</th><th>verification_status</th><th>total_high_credit_limit</th><th>application_type</th><th>annual_inc_joint</th><th>verification_status_joint</th><th>ingest_date</th></tr>\n",
       "<tr><td>859c0e613aab8fbe1...</td><td>null</td><td>1</td><td>RENT</td><td>28000.0</td><td>NY</td><td>114xx</td><td>USA</td><td>B</td><td>B3</td><td>Not Verified</td><td>18100.0</td><td>Individual</td><td>null</td><td>null</td><td>2025-05-25 14:11:...</td></tr>\n",
       "<tr><td>bb44000500d396c26...</td><td>Lead IT Applicati...</td><td>5</td><td>MORTGAGE</td><td>128000.0</td><td>NC</td><td>282xx</td><td>USA</td><td>A</td><td>A4</td><td>Not Verified</td><td>549345.0</td><td>Individual</td><td>null</td><td>null</td><td>2025-05-25 14:11:...</td></tr>\n",
       "<tr><td>d2a5f8aa376d2c6e9...</td><td>Creative Director</td><td>1</td><td>OWN</td><td>175000.0</td><td>NY</td><td>117xx</td><td>USA</td><td>D</td><td>D1</td><td>Source Verified</td><td>91675.0</td><td>Individual</td><td>null</td><td>null</td><td>2025-05-25 14:11:...</td></tr>\n",
       "<tr><td>8af2c5726369d4b2b...</td><td>null</td><td>6</td><td>MORTGAGE</td><td>10000.0</td><td>CA</td><td>959xx</td><td>USA</td><td>A</td><td>A1</td><td>Verified</td><td>446573.0</td><td>Joint App</td><td>95000.0</td><td>null</td><td>2025-05-25 14:11:...</td></tr>\n",
       "<tr><td>750dee3586c64fbf2...</td><td>Assistant Manager</td><td>4</td><td>OWN</td><td>44500.0</td><td>AL</td><td>352xx</td><td>USA</td><td>A</td><td>A1</td><td>Not Verified</td><td>146933.0</td><td>Individual</td><td>null</td><td>null</td><td>2025-05-25 14:11:...</td></tr>\n",
       "<tr><td>a6f7ebd3091771828...</td><td>Director of opera...</td><td>10</td><td>MORTGAGE</td><td>70000.0</td><td>NV</td><td>891xx</td><td>USA</td><td>D</td><td>D5</td><td>Verified</td><td>603760.0</td><td>Individual</td><td>null</td><td>null</td><td>2025-05-25 14:11:...</td></tr>\n",
       "<tr><td>4e9f5a0edea322b56...</td><td>technician</td><td>9</td><td>MORTGAGE</td><td>55000.0</td><td>NY</td><td>126xx</td><td>USA</td><td>A</td><td>A4</td><td>Not Verified</td><td>38900.0</td><td>Individual</td><td>null</td><td>null</td><td>2025-05-25 14:11:...</td></tr>\n",
       "<tr><td>4528859236914b5f0...</td><td>null</td><td>6</td><td>RENT</td><td>30000.0</td><td>FL</td><td>331xx</td><td>USA</td><td>C</td><td>C3</td><td>Source Verified</td><td>16600.0</td><td>Individual</td><td>null</td><td>null</td><td>2025-05-25 14:11:...</td></tr>\n",
       "<tr><td>f97e485b701bb96b2...</td><td>Director of maint...</td><td>6</td><td>MORTGAGE</td><td>130000.0</td><td>MI</td><td>481xx</td><td>USA</td><td>B</td><td>B4</td><td>Source Verified</td><td>354297.0</td><td>Individual</td><td>null</td><td>null</td><td>2025-05-25 14:11:...</td></tr>\n",
       "<tr><td>e5aca269c7be31f4d...</td><td>null</td><td>1</td><td>RENT</td><td>30000.0</td><td>CA</td><td>946xx</td><td>USA</td><td>E</td><td>E4</td><td>Source Verified</td><td>35854.0</td><td>Individual</td><td>null</td><td>null</td><td>2025-05-25 14:11:...</td></tr>\n",
       "<tr><td>a6c7a7c5c827bd8d0...</td><td>Soldier</td><td>10</td><td>RENT</td><td>75000.0</td><td>NY</td><td>962xx</td><td>USA</td><td>B</td><td>B5</td><td>Source Verified</td><td>347670.0</td><td>Individual</td><td>null</td><td>null</td><td>2025-05-25 14:11:...</td></tr>\n",
       "<tr><td>5eb04e91ae702aa5b...</td><td>Warehouse Manager</td><td>10</td><td>MORTGAGE</td><td>49999.0</td><td>NC</td><td>287xx</td><td>USA</td><td>C</td><td>C3</td><td>Verified</td><td>117924.0</td><td>Individual</td><td>null</td><td>null</td><td>2025-05-25 14:11:...</td></tr>\n",
       "<tr><td>41ae4bc5180e445ae...</td><td>Administration as...</td><td>10</td><td>MORTGAGE</td><td>140000.0</td><td>NJ</td><td>077xx</td><td>USA</td><td>B</td><td>B2</td><td>Source Verified</td><td>267400.0</td><td>Individual</td><td>null</td><td>null</td><td>2025-05-25 14:11:...</td></tr>\n",
       "<tr><td>326208d314c4331bf...</td><td>manager assistant</td><td>4</td><td>RENT</td><td>80000.0</td><td>NY</td><td>107xx</td><td>USA</td><td>D</td><td>D2</td><td>Not Verified</td><td>59431.0</td><td>Individual</td><td>null</td><td>null</td><td>2025-05-25 14:11:...</td></tr>\n",
       "<tr><td>0a703aa4b753ddceb...</td><td>Education Consultant</td><td>5</td><td>MORTGAGE</td><td>120000.0</td><td>LA</td><td>701xx</td><td>USA</td><td>B</td><td>B2</td><td>Source Verified</td><td>337201.0</td><td>Individual</td><td>null</td><td>null</td><td>2025-05-25 14:11:...</td></tr>\n",
       "<tr><td>b3770f780d0710378...</td><td>null</td><td>1</td><td>OWN</td><td>100000.0</td><td>NY</td><td>137xx</td><td>USA</td><td>A</td><td>A5</td><td>Not Verified</td><td>32000.0</td><td>Individual</td><td>null</td><td>null</td><td>2025-05-25 14:11:...</td></tr>\n",
       "<tr><td>a45cbc43ce301f91d...</td><td>null</td><td>6</td><td>MORTGAGE</td><td>75000.0</td><td>PA</td><td>170xx</td><td>USA</td><td>C</td><td>C4</td><td>Not Verified</td><td>421607.0</td><td>Individual</td><td>null</td><td>null</td><td>2025-05-25 14:11:...</td></tr>\n",
       "<tr><td>763f97c0c83297f21...</td><td>Analyst</td><td>1</td><td>OWN</td><td>75000.0</td><td>VA</td><td>201xx</td><td>USA</td><td>B</td><td>B1</td><td>Verified</td><td>409497.0</td><td>Individual</td><td>null</td><td>null</td><td>2025-05-25 14:11:...</td></tr>\n",
       "<tr><td>84184e6843777352d...</td><td>null</td><td>6</td><td>MORTGAGE</td><td>114151.0</td><td>TX</td><td>774xx</td><td>USA</td><td>D</td><td>D3</td><td>Not Verified</td><td>547224.0</td><td>Individual</td><td>null</td><td>null</td><td>2025-05-25 14:11:...</td></tr>\n",
       "<tr><td>eb198cc1886544c5a...</td><td>EHS Manager</td><td>10</td><td>MORTGAGE</td><td>96500.0</td><td>PA</td><td>161xx</td><td>USA</td><td>A</td><td>A1</td><td>Source Verified</td><td>150711.0</td><td>Individual</td><td>null</td><td>null</td><td>2025-05-25 14:11:...</td></tr>\n",
       "</table>\n",
       "only showing top 20 rows\n"
      ],
      "text/plain": [
       "+--------------------+--------------------+----------+--------------+-------------+-------------+---------------+---------------+-----+---------+-------------------+-----------------------+----------------+----------------+-------------------------+--------------------+\n",
       "|           member_id|           emp_title|emp_length|home_ownership|annual_income|address_state|address_zipcode|address_country|grade|sub_grade|verification_status|total_high_credit_limit|application_type|annual_inc_joint|verification_status_joint|         ingest_date|\n",
       "+--------------------+--------------------+----------+--------------+-------------+-------------+---------------+---------------+-----+---------+-------------------+-----------------------+----------------+----------------+-------------------------+--------------------+\n",
       "|cf2093f7b96383b5a...|          Instructor|         8|          RENT|      75000.0|           CA|          945xx|            USA|    C|       C2|       Not Verified|                45060.0|      Individual|            null|                     null|2025-05-25 14:11:...|\n",
       "|2cc7b278776509446...|       Sales Manager|        10|      MORTGAGE|      85000.0|           TN|          374xx|            USA|    D|       D1|    Source Verified|               141363.0|      Individual|            null|                     null|2025-05-25 14:11:...|\n",
       "|59b76f8ae261f5f85...|Network Administr...|        10|      MORTGAGE|      67500.0|           GA|          312xx|            USA|    B|       B1|    Source Verified|               292720.0|      Individual|            null|                     null|2025-05-25 14:11:...|\n",
       "|372462073acbf9b00...|Clinical Coordinator|        10|      MORTGAGE|      52000.0|           SC|          296xx|            USA|    A|       A3|           Verified|               227425.0|      Individual|            null|                     null|2025-05-25 14:11:...|\n",
       "|401ad15d4389d9608...|                null|         6|          RENT|      14400.0|           OH|          430xx|            USA|    C|       C4|       Not Verified|                17900.0|      Individual|            null|                     null|2025-05-25 14:11:...|\n",
       "|9cf0a52ae1a27fb2f...|        truck driver|         2|      MORTGAGE|      55000.0|           IL|          604xx|            USA|    A|       A2|           Verified|               261130.0|      Individual|            null|                     null|2025-05-25 14:11:...|\n",
       "|2606c64d53f51a54f...|             Manager|         7|      MORTGAGE|      55000.0|           NC|          282xx|            USA|    B|       B2|       Not Verified|               294696.0|      Individual|            null|                     null|2025-05-25 14:11:...|\n",
       "|5413f1b6d1b050083...|Plant Production ...|        10|          RENT|      84000.0|           MN|          550xx|            USA|    A|       A5|    Source Verified|               364446.0|      Individual|            null|                     null|2025-05-25 14:11:...|\n",
       "|2ac43162f7a0e8d2e...|Associate Directo...|         4|      MORTGAGE|     135000.0|           TX|          752xx|            USA|    A|       A1|       Not Verified|               786033.0|      Individual|            null|                     null|2025-05-25 14:11:...|\n",
       "|8c6a0bb2e2d450d06...|             Teacher|        10|          RENT|      65000.0|           WI|          531xx|            USA|    B|       B3|    Source Verified|               126128.0|      Individual|            null|                     null|2025-05-25 14:11:...|\n",
       "|452d3c8e6a9491d09...|   Managing Director|        10|          RENT|    2500000.0|           NY|          112xx|            USA|    D|       D2|    Source Verified|               282287.0|      Individual|            null|                     null|2025-05-25 14:11:...|\n",
       "|ccdafde58ba38b418...|FInancial Operati...|         1|      MORTGAGE|      80000.0|           OH|          435xx|            USA|    D|       D1|       Not Verified|               279918.0|      Individual|            null|                     null|2025-05-25 14:11:...|\n",
       "|b24280bec972eeade...|             Analyst|        10|           OWN|      94000.0|           CA|          950xx|            USA|    F|       F2|           Verified|               309669.0|      Individual|            null|                     null|2025-05-25 14:11:...|\n",
       "|45edf787880b4a53f...|    Systems Engineer|        10|      MORTGAGE|      57042.0|           TX|          774xx|            USA|    B|       B1|       Not Verified|                49200.0|      Individual|            null|                     null|2025-05-25 14:11:...|\n",
       "|1ed595a3a9298bb71...|            Engineer|         1|      MORTGAGE|      88150.0|           IN|          465xx|            USA|    C|       C1|    Source Verified|               310014.0|      Individual|            null|                     null|2025-05-25 14:11:...|\n",
       "|9fd072228180b9d0b...|             Partner|         3|      MORTGAGE|     180000.0|           TX|          773xx|            USA|    D|       D1|    Source Verified|               271158.0|      Individual|            null|                     null|2025-05-25 14:11:...|\n",
       "|d5d2ca79f51911691...|             Manager|        10|      MORTGAGE|      62000.0|           FL|          334xx|            USA|    A|       A5|    Source Verified|               296906.0|      Individual|            null|                     null|2025-05-25 14:11:...|\n",
       "|8e9d3b98f2b3e43a3...| Sr. Finance Manager|         6|          RENT|     127000.0|           AZ|          852xx|            USA|    B|       B5|    Source Verified|                94535.0|      Individual|            null|                     null|2025-05-25 14:11:...|\n",
       "|12791101bf644a67a...|   Quality Inspector|        10|      MORTGAGE|      60000.0|           CA|          925xx|            USA|    B|       B1|       Not Verified|               332064.0|       Joint App|        105000.0|             Not Verified|2025-05-25 14:11:...|\n",
       "|0a64234a8fd3f7669...|  Associate Director|         1|          RENT|     120000.0|           VA|          222xx|            USA|    C|       C3|    Source Verified|                41593.0|      Individual|            null|                     null|2025-05-25 14:11:...|\n",
       "+--------------------+--------------------+----------+--------------+-------------+-------------+---------------+---------------+-----+---------+-------------------+-----------------------+----------------+----------------+-------------------------+--------------------+\n",
       "only showing top 20 rows"
      ]
     },
     "execution_count": 107,
     "metadata": {},
     "output_type": "execute_result"
    }
   ],
   "source": [
    "customers_emplength_replaced"
   ]
  },
  {
   "cell_type": "code",
   "execution_count": 108,
   "id": "92a632b3",
   "metadata": {},
   "outputs": [
    {
     "data": {
      "text/plain": [
       "0"
      ]
     },
     "execution_count": 108,
     "metadata": {},
     "output_type": "execute_result"
    }
   ],
   "source": [
    "customers_emplength_replaced.filter(\"emp_length is null\").count()"
   ]
  },
  {
   "cell_type": "code",
   "execution_count": 109,
   "id": "1c7dc3f3",
   "metadata": {},
   "outputs": [],
   "source": [
    "customers_emplength_replaced.createOrReplaceTempView(\"customers\")"
   ]
  },
  {
   "cell_type": "code",
   "execution_count": 110,
   "id": "09f2df07",
   "metadata": {},
   "outputs": [
    {
     "data": {
      "text/html": [
       "<table border='1'>\n",
       "<tr><th>address_state</th></tr>\n",
       "<tr><td>Helping Kenya&#x27;s D...</td></tr>\n",
       "<tr><td>223xx</td></tr>\n",
       "<tr><td>175 (total projec...</td></tr>\n",
       "<tr><td>SC</td></tr>\n",
       "<tr><td>AZ</td></tr>\n",
       "<tr><td>I am 56 yrs. old ...</td></tr>\n",
       "<tr><td>so Plan &quot;&quot;C&quot;&quot; is ...</td></tr>\n",
       "<tr><td>financially I mad...</td></tr>\n",
       "<tr><td>but no one will l...</td></tr>\n",
       "<tr><td>LA</td></tr>\n",
       "<tr><td>etc.  First</td></tr>\n",
       "<tr><td>MN</td></tr>\n",
       "<tr><td>yet Capital One n...</td></tr>\n",
       "<tr><td>850xx</td></tr>\n",
       "<tr><td>499xx</td></tr>\n",
       "<tr><td>Eliminating Credi...</td></tr>\n",
       "<tr><td>and MBA&#x27;s are ove...</td></tr>\n",
       "<tr><td>Advocate business...</td></tr>\n",
       "<tr><td>I the credit card...</td></tr>\n",
       "<tr><td>951xx</td></tr>\n",
       "</table>\n",
       "only showing top 20 rows\n"
      ],
      "text/plain": [
       "+--------------------+\n",
       "|       address_state|\n",
       "+--------------------+\n",
       "|Helping Kenya's D...|\n",
       "|               223xx|\n",
       "|175 (total projec...|\n",
       "|                  SC|\n",
       "|                  AZ|\n",
       "|I am 56 yrs. old ...|\n",
       "|so Plan \"\"C\"\" is ...|\n",
       "|financially I mad...|\n",
       "|but no one will l...|\n",
       "|                  LA|\n",
       "|         etc.  First|\n",
       "|                  MN|\n",
       "|yet Capital One n...|\n",
       "|               850xx|\n",
       "|               499xx|\n",
       "|and MBA's are ove...|\n",
       "|Advocate business...|\n",
       "|Eliminating Credi...|\n",
       "|               662xx|\n",
       "|               951xx|\n",
       "+--------------------+\n",
       "only showing top 20 rows"
      ]
     },
     "execution_count": 110,
     "metadata": {},
     "output_type": "execute_result"
    }
   ],
   "source": [
    "spark.sql(\"select distinct(address_state) from customers\")"
   ]
  },
  {
   "cell_type": "code",
   "execution_count": 113,
   "id": "26a6c454",
   "metadata": {},
   "outputs": [
    {
     "data": {
      "text/html": [
       "<table border='1'>\n",
       "<tr><th>count(address_state)</th></tr>\n",
       "<tr><td>254</td></tr>\n",
       "</table>\n"
      ],
      "text/plain": [
       "+--------------------+\n",
       "|count(address_state)|\n",
       "+--------------------+\n",
       "|                 254|\n",
       "+--------------------+"
      ]
     },
     "execution_count": 113,
     "metadata": {},
     "output_type": "execute_result"
    }
   ],
   "source": [
    "spark.sql(\"select count(address_state) from customers where length(address_state)>2\")"
   ]
  },
  {
   "cell_type": "code",
   "execution_count": 114,
   "id": "40134b51",
   "metadata": {},
   "outputs": [],
   "source": [
    "from pyspark.sql.functions import when, col, length"
   ]
  },
  {
   "cell_type": "code",
   "execution_count": 115,
   "id": "54a539f5",
   "metadata": {},
   "outputs": [],
   "source": [
    "customers_state_cleaned = customers_emplength_replaced.withColumn(\"address_state\", when(length(col(\"address_state\"))>2, \"NA\").otherwise(col(\"address_state\")))"
   ]
  },
  {
   "cell_type": "code",
   "execution_count": 116,
   "id": "3f56fbfb",
   "metadata": {},
   "outputs": [
    {
     "data": {
      "text/html": [
       "<table border='1'>\n",
       "<tr><th>member_id</th><th>emp_title</th><th>emp_length</th><th>home_ownership</th><th>annual_income</th><th>address_state</th><th>address_zipcode</th><th>address_country</th><th>grade</th><th>sub_grade</th><th>verification_status</th><th>total_high_credit_limit</th><th>application_type</th><th>annual_inc_joint</th><th>verification_status_joint</th><th>ingest_date</th></tr>\n",
       "<tr><td>1f66b3fdbaf5ba407...</td><td>Executive Assistant</td><td>10</td><td>RENT</td><td>50000.0</td><td>IL</td><td>606xx</td><td>USA</td><td>D</td><td>D2</td><td>Source Verified</td><td>48458.0</td><td>Individual</td><td>null</td><td>null</td><td>2025-05-25 14:20:...</td></tr>\n",
       "<tr><td>c96bf369eba7f5cbf...</td><td>ATCS</td><td>10</td><td>MORTGAGE</td><td>120000.0</td><td>WA</td><td>980xx</td><td>USA</td><td>A</td><td>A1</td><td>Source Verified</td><td>41180.0</td><td>Individual</td><td>null</td><td>null</td><td>2025-05-25 14:20:...</td></tr>\n",
       "<tr><td>a3310b1fbec5b56d7...</td><td>carpenter</td><td>2</td><td>RENT</td><td>75000.0</td><td>ND</td><td>581xx</td><td>USA</td><td>B</td><td>B1</td><td>Not Verified</td><td>27306.0</td><td>Individual</td><td>null</td><td>null</td><td>2025-05-25 14:20:...</td></tr>\n",
       "<tr><td>636aeaa8a5da655c4...</td><td>Production Director</td><td>2</td><td>RENT</td><td>110000.0</td><td>WA</td><td>985xx</td><td>USA</td><td>D</td><td>D3</td><td>Source Verified</td><td>93991.0</td><td>Individual</td><td>null</td><td>null</td><td>2025-05-25 14:20:...</td></tr>\n",
       "<tr><td>255d282d2a7fbb09e...</td><td>Dual Enrollment C...</td><td>10</td><td>RENT</td><td>53000.0</td><td>AL</td><td>256xx</td><td>USA</td><td>F</td><td>F2</td><td>Verified</td><td>94751.0</td><td>Individual</td><td>null</td><td>null</td><td>2025-05-25 14:20:...</td></tr>\n",
       "<tr><td>3cf187a11402e95d2...</td><td>PM Analyst</td><td>8</td><td>RENT</td><td>70000.0</td><td>CA</td><td>958xx</td><td>USA</td><td>B</td><td>B2</td><td>Not Verified</td><td>43126.0</td><td>Individual</td><td>null</td><td>null</td><td>2025-05-25 14:20:...</td></tr>\n",
       "<tr><td>7ccfc05f375e6435f...</td><td>Sr. Funder</td><td>1</td><td>MORTGAGE</td><td>58000.0</td><td>TX</td><td>750xx</td><td>USA</td><td>B</td><td>B1</td><td>Source Verified</td><td>213595.0</td><td>Individual</td><td>null</td><td>null</td><td>2025-05-25 14:20:...</td></tr>\n",
       "<tr><td>450ac448c977cf8d2...</td><td>null</td><td>6</td><td>MORTGAGE</td><td>82000.0</td><td>IN</td><td>464xx</td><td>USA</td><td>B</td><td>B5</td><td>Verified</td><td>160133.0</td><td>Individual</td><td>null</td><td>null</td><td>2025-05-25 14:20:...</td></tr>\n",
       "<tr><td>6364e71faec5f09d7...</td><td>human resources s...</td><td>2</td><td>OWN</td><td>50000.0</td><td>NY</td><td>105xx</td><td>USA</td><td>C</td><td>C4</td><td>Source Verified</td><td>40378.0</td><td>Individual</td><td>null</td><td>null</td><td>2025-05-25 14:20:...</td></tr>\n",
       "<tr><td>b8cadbcce06475d0f...</td><td>Supervisor</td><td>10</td><td>RENT</td><td>43000.0</td><td>NY</td><td>104xx</td><td>USA</td><td>C</td><td>C3</td><td>Source Verified</td><td>41800.0</td><td>Individual</td><td>null</td><td>null</td><td>2025-05-25 14:20:...</td></tr>\n",
       "<tr><td>caf32002f12a88249...</td><td>Engineer/Manufact...</td><td>3</td><td>RENT</td><td>79950.0</td><td>NY</td><td>126xx</td><td>USA</td><td>D</td><td>D1</td><td>Verified</td><td>104339.0</td><td>Individual</td><td>null</td><td>null</td><td>2025-05-25 14:20:...</td></tr>\n",
       "<tr><td>59c9feedc8e09318d...</td><td>Youth pastor</td><td>7</td><td>MORTGAGE</td><td>55000.0</td><td>OK</td><td>740xx</td><td>USA</td><td>C</td><td>C1</td><td>Verified</td><td>120417.0</td><td>Individual</td><td>null</td><td>null</td><td>2025-05-25 14:20:...</td></tr>\n",
       "<tr><td>8e4c12b12d2a8d8ef...</td><td>Account Manager</td><td>10</td><td>MORTGAGE</td><td>84000.0</td><td>IL</td><td>604xx</td><td>USA</td><td>D</td><td>D1</td><td>Not Verified</td><td>119851.0</td><td>Individual</td><td>null</td><td>null</td><td>2025-05-25 14:20:...</td></tr>\n",
       "<tr><td>006e6b47bcc7ffb62...</td><td>labor</td><td>10</td><td>MORTGAGE</td><td>35000.0</td><td>NY</td><td>146xx</td><td>USA</td><td>D</td><td>D1</td><td>Not Verified</td><td>65575.0</td><td>Individual</td><td>null</td><td>null</td><td>2025-05-25 14:20:...</td></tr>\n",
       "<tr><td>c816c23163c7bde99...</td><td>Event Coordinator</td><td>3</td><td>RENT</td><td>34000.0</td><td>NJ</td><td>077xx</td><td>USA</td><td>C</td><td>C2</td><td>Source Verified</td><td>55194.0</td><td>Individual</td><td>null</td><td>null</td><td>2025-05-25 14:20:...</td></tr>\n",
       "<tr><td>89c0ca611719cc15c...</td><td>asst manager</td><td>10</td><td>RENT</td><td>65000.0</td><td>NY</td><td>109xx</td><td>USA</td><td>B</td><td>B3</td><td>Not Verified</td><td>76607.0</td><td>Individual</td><td>null</td><td>null</td><td>2025-05-25 14:20:...</td></tr>\n",
       "<tr><td>ae0ead0018f54c8e5...</td><td>Organ Placement S...</td><td>4</td><td>MORTGAGE</td><td>73000.0</td><td>TX</td><td>770xx</td><td>USA</td><td>D</td><td>D3</td><td>Source Verified</td><td>175762.0</td><td>Individual</td><td>null</td><td>null</td><td>2025-05-25 14:20:...</td></tr>\n",
       "<tr><td>36503427270e96202...</td><td>Docketing</td><td>1</td><td>MORTGAGE</td><td>115000.0</td><td>AZ</td><td>852xx</td><td>USA</td><td>B</td><td>B3</td><td>Source Verified</td><td>338520.0</td><td>Individual</td><td>null</td><td>null</td><td>2025-05-25 14:20:...</td></tr>\n",
       "<tr><td>1d20ea26f9f411864...</td><td>Driver</td><td>1</td><td>RENT</td><td>40000.0</td><td>CA</td><td>923xx</td><td>USA</td><td>C</td><td>C4</td><td>Source Verified</td><td>55052.0</td><td>Individual</td><td>null</td><td>null</td><td>2025-05-25 14:20:...</td></tr>\n",
       "<tr><td>d3e986ddca0126ea7...</td><td>RN</td><td>10</td><td>MORTGAGE</td><td>80000.0</td><td>OK</td><td>730xx</td><td>USA</td><td>B</td><td>B1</td><td>Source Verified</td><td>394725.0</td><td>Individual</td><td>null</td><td>null</td><td>2025-05-25 14:20:...</td></tr>\n",
       "</table>\n",
       "only showing top 20 rows\n"
      ],
      "text/plain": [
       "+--------------------+--------------------+----------+--------------+-------------+-------------+---------------+---------------+-----+---------+-------------------+-----------------------+----------------+----------------+-------------------------+--------------------+\n",
       "|           member_id|           emp_title|emp_length|home_ownership|annual_income|address_state|address_zipcode|address_country|grade|sub_grade|verification_status|total_high_credit_limit|application_type|annual_inc_joint|verification_status_joint|         ingest_date|\n",
       "+--------------------+--------------------+----------+--------------+-------------+-------------+---------------+---------------+-----+---------+-------------------+-----------------------+----------------+----------------+-------------------------+--------------------+\n",
       "|af6d391c07fd82d05...|   School bus driver|        10|      MORTGAGE|      40000.0|           VA|          201xx|            USA|    B|       B5|    Source Verified|               230252.0|      Individual|            null|                     null|2025-05-25 14:20:...|\n",
       "|f26ff6f459b9fbfe6...|Application Suppo...|         8|      MORTGAGE|     514000.0|           CO|          809xx|            USA|    B|       B4|    Source Verified|               265867.0|      Individual|            null|                     null|2025-05-25 14:20:...|\n",
       "|894678da31bf5840d...|National Partners...|         1|      MORTGAGE|     120000.0|           IL|          606xx|            USA|    A|       A4|       Not Verified|               421795.0|      Individual|            null|                     null|2025-05-25 14:20:...|\n",
       "|f725171306a807ae6...|    Customer Service|        10|      MORTGAGE|      65000.0|           WI|          539xx|            USA|    B|       B5|       Not Verified|               262479.0|      Individual|            null|                     null|2025-05-25 14:20:...|\n",
       "|68d37b7cf1577558e...|        Bodyman Tech|        10|           OWN|      70000.0|           TX|          760xx|            USA|    C|       C3|           Verified|                64371.0|      Individual|            null|                     null|2025-05-25 14:20:...|\n",
       "|8e88742295e63ceee...|          Front desk|         2|          RENT|      43000.0|           ND|          581xx|            USA|    E|       E3|    Source Verified|                67397.0|      Individual|            null|                     null|2025-05-25 14:20:...|\n",
       "|31993aae21af83551...|       Editor/Writer|         9|          RENT|      50000.0|           NM|          871xx|            USA|    E|       E1|           Verified|                37498.0|      Individual|            null|                     null|2025-05-25 14:20:...|\n",
       "|cf99e254c27926dd0...|      Superintendent|         3|      MORTGAGE|      90000.0|           IL|          601xx|            USA|    A|       A4|       Not Verified|               185559.0|      Individual|            null|                     null|2025-05-25 14:20:...|\n",
       "|9605d53af7f77aee6...|                RVSR|        10|      MORTGAGE|      77372.5|           NC|          271xx|            USA|    D|       D2|           Verified|               272987.0|      Individual|            null|                     null|2025-05-25 14:20:...|\n",
       "|e83ecbcced7b34c7e...|  Operations Manager|         1|          RENT|      55000.0|           IL|          606xx|            USA|    A|       A5|    Source Verified|                42348.0|      Individual|            null|                     null|2025-05-25 14:20:...|\n",
       "|91ff1c6d367977445...|             Manager|         1|          RENT|      65000.0|           NY|          136xx|            USA|    C|       C5|       Not Verified|                59253.0|      Individual|            null|                     null|2025-05-25 14:20:...|\n",
       "|4781557d8a25829f0...| Pharmacy Specialist|         9|          RENT|      35416.8|           AK|          997xx|            USA|    D|       D5|    Source Verified|                46043.0|      Individual|            null|                     null|2025-05-25 14:20:...|\n",
       "|d7db7ac9a6990517d...|Test Framework En...|         1|          RENT|    1130000.0|           VA|          223xx|            USA|    B|       B3|    Source Verified|                56318.0|      Individual|            null|                     null|2025-05-25 14:20:...|\n",
       "|2e921ce4b89a8e174...|           custodian|         1|           OWN|      53000.0|           NY|          107xx|            USA|    E|       E1|    Source Verified|                23800.0|      Individual|            null|                     null|2025-05-25 14:20:...|\n",
       "|7652d1af1282b77ec...|Customer Service Rep|         3|          RENT|      35000.0|           NY|          114xx|            USA|    A|       A2|       Not Verified|                36879.0|      Individual|            null|                     null|2025-05-25 14:20:...|\n",
       "|8e94b6eb520c7551a...|      Police Officer|        10|          RENT|      75000.0|           MA|          027xx|            USA|    A|       A3|    Source Verified|               445688.0|      Individual|            null|                     null|2025-05-25 14:20:...|\n",
       "|82b763f2f935b9577...|                 AMT|        10|      MORTGAGE|      90000.0|           CO|          802xx|            USA|    C|       C5|    Source Verified|                54613.0|      Individual|            null|                     null|2025-05-25 14:20:...|\n",
       "|87e6ed964b4ec3a0e...|           Line Tech|         3|      MORTGAGE|      56012.0|           PA|          186xx|            USA|    D|       D3|       Not Verified|               230999.0|      Individual|            null|                     null|2025-05-25 14:20:...|\n",
       "|c7c2d881649273878...|               OWNER|        10|      MORTGAGE|     111450.0|           IN|          460xx|            USA|    C|       C3|    Source Verified|               258342.0|      Individual|            null|                     null|2025-05-25 14:20:...|\n",
       "|2a1ffc23c8845564f...| Executive Assistant|        10|           OWN|     105000.0|           CA|          945xx|            USA|    D|       D2|    Source Verified|                74800.0|      Individual|            null|                     null|2025-05-25 14:20:...|\n",
       "+--------------------+--------------------+----------+--------------+-------------+-------------+---------------+---------------+-----+---------+-------------------+-----------------------+----------------+----------------+-------------------------+--------------------+\n",
       "only showing top 20 rows"
      ]
     },
     "execution_count": 116,
     "metadata": {},
     "output_type": "execute_result"
    }
   ],
   "source": [
    "customers_state_cleaned"
   ]
  },
  {
   "cell_type": "code",
   "execution_count": 117,
   "id": "f79cf724",
   "metadata": {},
   "outputs": [
    {
     "data": {
      "text/html": [
       "<table border='1'>\n",
       "<tr><th>address_state</th></tr>\n",
       "<tr><td>SC</td></tr>\n",
       "<tr><td>AZ</td></tr>\n",
       "<tr><td>LA</td></tr>\n",
       "<tr><td>MN</td></tr>\n",
       "<tr><td>NJ</td></tr>\n",
       "<tr><td>DC</td></tr>\n",
       "<tr><td>OR</td></tr>\n",
       "<tr><td>NA</td></tr>\n",
       "<tr><td>VA</td></tr>\n",
       "<tr><td>null</td></tr>\n",
       "<tr><td>RI</td></tr>\n",
       "<tr><td>KY</td></tr>\n",
       "<tr><td>WY</td></tr>\n",
       "<tr><td>NH</td></tr>\n",
       "<tr><td>MI</td></tr>\n",
       "<tr><td>NV</td></tr>\n",
       "<tr><td>WI</td></tr>\n",
       "<tr><td>ID</td></tr>\n",
       "<tr><td>CA</td></tr>\n",
       "<tr><td>CT</td></tr>\n",
       "</table>\n",
       "only showing top 20 rows\n"
      ],
      "text/plain": [
       "+-------------+\n",
       "|address_state|\n",
       "+-------------+\n",
       "|           SC|\n",
       "|           AZ|\n",
       "|           LA|\n",
       "|           MN|\n",
       "|           NJ|\n",
       "|           DC|\n",
       "|           OR|\n",
       "|           NA|\n",
       "|           VA|\n",
       "|         null|\n",
       "|           RI|\n",
       "|           KY|\n",
       "|           WY|\n",
       "|           NH|\n",
       "|           MI|\n",
       "|           NV|\n",
       "|           WI|\n",
       "|           ID|\n",
       "|           CA|\n",
       "|           NE|\n",
       "+-------------+\n",
       "only showing top 20 rows"
      ]
     },
     "execution_count": 117,
     "metadata": {},
     "output_type": "execute_result"
    }
   ],
   "source": [
    "customers_state_cleaned.select(\"address_state\").distinct()"
   ]
  },
  {
   "cell_type": "code",
   "execution_count": 119,
   "id": "461684e9",
   "metadata": {},
   "outputs": [],
   "source": [
    "customers_state_cleaned.write \\\n",
    ".format(\"parquet\") \\\n",
    ".mode(\"overwrite\") \\\n",
    ".option(\"path\", \"/user/itv015970/lendingclubproject/cleaned/customers_parquet\") \\\n",
    ".save()"
   ]
  },
  {
   "cell_type": "code",
   "execution_count": 120,
   "id": "653e6739",
   "metadata": {},
   "outputs": [],
   "source": [
    "customers_state_cleaned.write \\\n",
    ".option(\"header\", True) \\\n",
    ".format(\"csv\") \\\n",
    ".mode(\"overwrite\") \\\n",
    ".option(\"path\", \"/user/itv015970/lendingclubproject/cleaned/customers_csv\") \\\n",
    ".save()"
   ]
  },
  {
   "cell_type": "code",
   "execution_count": null,
   "id": "ca27f672",
   "metadata": {},
   "outputs": [],
   "source": []
  }
 ],
 "metadata": {
  "kernelspec": {
   "display_name": "Pyspark 3",
   "language": "python",
   "name": "pyspark3"
  },
  "language_info": {
   "codemirror_mode": {
    "name": "ipython",
    "version": 3
   },
   "file_extension": ".py",
   "mimetype": "text/x-python",
   "name": "python",
   "nbconvert_exporter": "python",
   "pygments_lexer": "ipython3",
   "version": "3.6.12"
  }
 },
 "nbformat": 4,
 "nbformat_minor": 5
}
