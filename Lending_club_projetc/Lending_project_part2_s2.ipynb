{
 "cells": [
  {
   "cell_type": "code",
   "execution_count": 26,
   "id": "42571c26",
   "metadata": {},
   "outputs": [],
   "source": [
    "from pyspark.sql import SparkSession\n",
    "import getpass \n",
    "username=getpass.getuser()\n",
    "spark=SparkSession. \\\n",
    "    builder. \\\n",
    "    config('spark.ui.port','0'). \\\n",
    "    config(\"spark.sql.warehouse.dir\", \"/user/itv015970/warehouse\"). \\\n",
    "    config('spark.shuffle.useOldFetchProtocol', 'true'). \\\n",
    "    enableHiveSupport(). \\\n",
    "    master('yarn'). \\\n",
    "    getOrCreate()"
   ]
  },
  {
   "cell_type": "code",
   "execution_count": 9,
   "id": "bbdc92b4",
   "metadata": {},
   "outputs": [],
   "source": [
    "customers_df = spark.read \\\n",
    ".format(\"parquet\") \\\n",
    ".load(\"/public/trendytech/lendingclubproject/cleaned/customers_parquet\")"
   ]
  },
  {
   "cell_type": "code",
   "execution_count": 10,
   "id": "f2a5ab01",
   "metadata": {},
   "outputs": [
    {
     "data": {
      "text/plain": [
       "2260633"
      ]
     },
     "execution_count": 10,
     "metadata": {},
     "output_type": "execute_result"
    }
   ],
   "source": [
    "customers_df.count()"
   ]
  },
  {
   "cell_type": "code",
   "execution_count": 12,
   "id": "20f8f5a7",
   "metadata": {},
   "outputs": [
    {
     "data": {
      "text/html": [
       "<table border='1'>\n",
       "<tr><th></th></tr>\n",
       "</table>\n"
      ],
      "text/plain": [
       "++\n",
       "||\n",
       "++\n",
       "++"
      ]
     },
     "execution_count": 12,
     "metadata": {},
     "output_type": "execute_result"
    }
   ],
   "source": [
    "spark.sql(\"create database itv015970_lending_club\")"
   ]
  },
  {
   "cell_type": "code",
   "execution_count": 13,
   "id": "ed553bd1",
   "metadata": {},
   "outputs": [
    {
     "data": {
      "text/html": [
       "<table border='1'>\n",
       "<tr><th></th></tr>\n",
       "</table>\n"
      ],
      "text/plain": [
       "++\n",
       "||\n",
       "++\n",
       "++"
      ]
     },
     "execution_count": 13,
     "metadata": {},
     "output_type": "execute_result"
    }
   ],
   "source": [
    "spark.sql(\"\"\"create external table itv015970_lending_club.customers(\n",
    "member_id string, emp_title string, emp_length int, \n",
    "home_ownership string, annual_income float, address_state string, address_zipcode string, address_country string, grade string, \n",
    "sub_grade string, verification_status string, total_high_credit_limit float, application_type string, join_annual_income float, \n",
    "verification_status_joint string, ingest_date timestamp)\n",
    "stored as parquet location  '/user/itv015970/lendingclubproject/cleaned/customers_parquet'\n",
    "\"\"\")"
   ]
  },
  {
   "cell_type": "code",
   "execution_count": 14,
   "id": "ea4cce80",
   "metadata": {},
   "outputs": [
    {
     "data": {
      "text/html": [
       "<table border='1'>\n",
       "<tr><th>member_id</th><th>emp_title</th><th>emp_length</th><th>home_ownership</th><th>annual_income</th><th>address_state</th><th>address_zipcode</th><th>address_country</th><th>grade</th><th>sub_grade</th><th>verification_status</th><th>total_high_credit_limit</th><th>application_type</th><th>join_annual_income</th><th>verification_status_joint</th><th>ingest_date</th></tr>\n",
       "<tr><td>708d98caa175dd0c8...</td><td>Sales</td><td>3</td><td>RENT</td><td>70000.0</td><td>IL</td><td>605xx</td><td>USA</td><td>C</td><td>C4</td><td>Not Verified</td><td>93126.0</td><td>Individual</td><td>null</td><td>null</td><td>2025-05-25 14:25:...</td></tr>\n",
       "<tr><td>5ea065801950c1e09...</td><td>Legal Assistant</td><td>6</td><td>RENT</td><td>40000.0</td><td>FL</td><td>342xx</td><td>USA</td><td>A</td><td>A3</td><td>Source Verified</td><td>15100.0</td><td>Individual</td><td>null</td><td>null</td><td>2025-05-25 14:25:...</td></tr>\n",
       "<tr><td>8f28370d17fa7f7c3...</td><td>Owner</td><td>10</td><td>MORTGAGE</td><td>50000.0</td><td>FL</td><td>321xx</td><td>USA</td><td>B</td><td>B5</td><td>Source Verified</td><td>17300.0</td><td>Individual</td><td>null</td><td>null</td><td>2025-05-25 14:25:...</td></tr>\n",
       "<tr><td>98880317ad2282220...</td><td>null</td><td>6</td><td>OWN</td><td>68157.0</td><td>PA</td><td>191xx</td><td>USA</td><td>A</td><td>A5</td><td>Source Verified</td><td>78100.0</td><td>Individual</td><td>null</td><td>null</td><td>2025-05-25 14:25:...</td></tr>\n",
       "<tr><td>2073d31164f13ca42...</td><td>Financial System ...</td><td>10</td><td>MORTGAGE</td><td>86000.0</td><td>IN</td><td>460xx</td><td>USA</td><td>A</td><td>A1</td><td>Not Verified</td><td>242487.0</td><td>Individual</td><td>null</td><td>null</td><td>2025-05-25 14:25:...</td></tr>\n",
       "<tr><td>606afa30c591d2509...</td><td>Director of Opera...</td><td>4</td><td>RENT</td><td>82000.0</td><td>VA</td><td>201xx</td><td>USA</td><td>D</td><td>D3</td><td>Not Verified</td><td>76236.0</td><td>Individual</td><td>null</td><td>null</td><td>2025-05-25 14:25:...</td></tr>\n",
       "<tr><td>31b1fd5018ed5f677...</td><td>ROC</td><td>10</td><td>MORTGAGE</td><td>98000.0</td><td>AR</td><td>718xx</td><td>USA</td><td>A</td><td>A2</td><td>Verified</td><td>244271.0</td><td>Individual</td><td>null</td><td>null</td><td>2025-05-25 14:25:...</td></tr>\n",
       "<tr><td>39ab02739a9e17f5f...</td><td>ISO2</td><td>10</td><td>RENT</td><td>99450.0</td><td>CA</td><td>926xx</td><td>USA</td><td>D</td><td>D1</td><td>Not Verified</td><td>91583.0</td><td>Individual</td><td>null</td><td>null</td><td>2025-05-25 14:25:...</td></tr>\n",
       "<tr><td>821523201d33bd276...</td><td>General Manager</td><td>3</td><td>RENT</td><td>65000.0</td><td>NY</td><td>112xx</td><td>USA</td><td>D</td><td>D4</td><td>Source Verified</td><td>47439.0</td><td>Individual</td><td>null</td><td>null</td><td>2025-05-25 14:25:...</td></tr>\n",
       "<tr><td>a6a2e493d205b8432...</td><td>purchasing agent</td><td>10</td><td>RENT</td><td>42000.0</td><td>MI</td><td>496xx</td><td>USA</td><td>B</td><td>B5</td><td>Source Verified</td><td>52700.0</td><td>Individual</td><td>null</td><td>null</td><td>2025-05-25 14:25:...</td></tr>\n",
       "<tr><td>a40ac32769c7dfa0c...</td><td>Regional Sales Tr...</td><td>1</td><td>MORTGAGE</td><td>120000.0</td><td>FL</td><td>328xx</td><td>USA</td><td>C</td><td>C5</td><td>Not Verified</td><td>124346.0</td><td>Individual</td><td>null</td><td>null</td><td>2025-05-25 14:25:...</td></tr>\n",
       "<tr><td>7a7d0c99dcc596bf8...</td><td>Store Manager</td><td>10</td><td>MORTGAGE</td><td>98000.0</td><td>FL</td><td>346xx</td><td>USA</td><td>C</td><td>C4</td><td>Not Verified</td><td>138641.0</td><td>Individual</td><td>null</td><td>null</td><td>2025-05-25 14:25:...</td></tr>\n",
       "<tr><td>f2d776dbb4c06fc7b...</td><td>Shop Manager</td><td>3</td><td>OWN</td><td>96000.0</td><td>PA</td><td>150xx</td><td>USA</td><td>E</td><td>E2</td><td>Source Verified</td><td>109039.0</td><td>Individual</td><td>null</td><td>null</td><td>2025-05-25 14:25:...</td></tr>\n",
       "<tr><td>3d975d86a1c4c55a4...</td><td>Owner</td><td>1</td><td>RENT</td><td>75000.0</td><td>CA</td><td>953xx</td><td>USA</td><td>E</td><td>E3</td><td>Not Verified</td><td>6800.0</td><td>Individual</td><td>null</td><td>null</td><td>2025-05-25 14:25:...</td></tr>\n",
       "<tr><td>8cde0b5bb3f976a29...</td><td>Sales clerk</td><td>1</td><td>RENT</td><td>14860.7</td><td>NY</td><td>140xx</td><td>USA</td><td>E</td><td>E1</td><td>Not Verified</td><td>7834.0</td><td>Individual</td><td>null</td><td>null</td><td>2025-05-25 14:25:...</td></tr>\n",
       "<tr><td>fda62a0cf764cdb89...</td><td>Counselor</td><td>1</td><td>MORTGAGE</td><td>50000.0</td><td>TX</td><td>786xx</td><td>USA</td><td>C</td><td>C5</td><td>Not Verified</td><td>164978.0</td><td>Joint App</td><td>null</td><td>Not Verified</td><td>2025-05-25 14:25:...</td></tr>\n",
       "<tr><td>db36d6f096f021fd1...</td><td>General Manager</td><td>10</td><td>MORTGAGE</td><td>82000.0</td><td>AL</td><td>352xx</td><td>USA</td><td>A</td><td>A4</td><td>Not Verified</td><td>61555.0</td><td>Individual</td><td>null</td><td>null</td><td>2025-05-25 14:25:...</td></tr>\n",
       "<tr><td>c6c74a19c40715b84...</td><td>nursing unit assi...</td><td>10</td><td>RENT</td><td>48000.0</td><td>NY</td><td>112xx</td><td>USA</td><td>C</td><td>C2</td><td>Verified</td><td>65200.0</td><td>Individual</td><td>null</td><td>null</td><td>2025-05-25 14:25:...</td></tr>\n",
       "<tr><td>ebd796718e6b10512...</td><td>Educator</td><td>6</td><td>MORTGAGE</td><td>59000.0</td><td>VA</td><td>226xx</td><td>USA</td><td>B</td><td>B1</td><td>Verified</td><td>256401.0</td><td>Joint App</td><td>null</td><td>Verified</td><td>2025-05-25 14:25:...</td></tr>\n",
       "<tr><td>58744c4761e9ee286...</td><td>Team leader</td><td>10</td><td>OWN</td><td>85000.0</td><td>OH</td><td>434xx</td><td>USA</td><td>A</td><td>A4</td><td>Not Verified</td><td>235340.0</td><td>Individual</td><td>null</td><td>null</td><td>2025-05-25 14:25:...</td></tr>\n",
       "</table>\n",
       "only showing top 20 rows\n"
      ],
      "text/plain": [
       "+--------------------+--------------------+----------+--------------+-------------+-------------+---------------+---------------+-----+---------+-------------------+-----------------------+----------------+------------------+-------------------------+--------------------+\n",
       "|           member_id|           emp_title|emp_length|home_ownership|annual_income|address_state|address_zipcode|address_country|grade|sub_grade|verification_status|total_high_credit_limit|application_type|join_annual_income|verification_status_joint|         ingest_date|\n",
       "+--------------------+--------------------+----------+--------------+-------------+-------------+---------------+---------------+-----+---------+-------------------+-----------------------+----------------+------------------+-------------------------+--------------------+\n",
       "|708d98caa175dd0c8...|               Sales|         3|          RENT|      70000.0|           IL|          605xx|            USA|    C|       C4|       Not Verified|                93126.0|      Individual|              null|                     null|2025-05-25 14:25:...|\n",
       "|5ea065801950c1e09...|     Legal Assistant|         6|          RENT|      40000.0|           FL|          342xx|            USA|    A|       A3|    Source Verified|                15100.0|      Individual|              null|                     null|2025-05-25 14:25:...|\n",
       "|8f28370d17fa7f7c3...|               Owner|        10|      MORTGAGE|      50000.0|           FL|          321xx|            USA|    B|       B5|    Source Verified|                17300.0|      Individual|              null|                     null|2025-05-25 14:25:...|\n",
       "|98880317ad2282220...|                null|         6|           OWN|      68157.0|           PA|          191xx|            USA|    A|       A5|    Source Verified|                78100.0|      Individual|              null|                     null|2025-05-25 14:25:...|\n",
       "|2073d31164f13ca42...|Financial System ...|        10|      MORTGAGE|      86000.0|           IN|          460xx|            USA|    A|       A1|       Not Verified|               242487.0|      Individual|              null|                     null|2025-05-25 14:25:...|\n",
       "|606afa30c591d2509...|Director of Opera...|         4|          RENT|      82000.0|           VA|          201xx|            USA|    D|       D3|       Not Verified|                76236.0|      Individual|              null|                     null|2025-05-25 14:25:...|\n",
       "|31b1fd5018ed5f677...|                 ROC|        10|      MORTGAGE|      98000.0|           AR|          718xx|            USA|    A|       A2|           Verified|               244271.0|      Individual|              null|                     null|2025-05-25 14:25:...|\n",
       "|39ab02739a9e17f5f...|                ISO2|        10|          RENT|      99450.0|           CA|          926xx|            USA|    D|       D1|       Not Verified|                91583.0|      Individual|              null|                     null|2025-05-25 14:25:...|\n",
       "|821523201d33bd276...|     General Manager|         3|          RENT|      65000.0|           NY|          112xx|            USA|    D|       D4|    Source Verified|                47439.0|      Individual|              null|                     null|2025-05-25 14:25:...|\n",
       "|a6a2e493d205b8432...|    purchasing agent|        10|          RENT|      42000.0|           MI|          496xx|            USA|    B|       B5|    Source Verified|                52700.0|      Individual|              null|                     null|2025-05-25 14:25:...|\n",
       "|a40ac32769c7dfa0c...|Regional Sales Tr...|         1|      MORTGAGE|     120000.0|           FL|          328xx|            USA|    C|       C5|       Not Verified|               124346.0|      Individual|              null|                     null|2025-05-25 14:25:...|\n",
       "|7a7d0c99dcc596bf8...|       Store Manager|        10|      MORTGAGE|      98000.0|           FL|          346xx|            USA|    C|       C4|       Not Verified|               138641.0|      Individual|              null|                     null|2025-05-25 14:25:...|\n",
       "|f2d776dbb4c06fc7b...|        Shop Manager|         3|           OWN|      96000.0|           PA|          150xx|            USA|    E|       E2|    Source Verified|               109039.0|      Individual|              null|                     null|2025-05-25 14:25:...|\n",
       "|3d975d86a1c4c55a4...|               Owner|         1|          RENT|      75000.0|           CA|          953xx|            USA|    E|       E3|       Not Verified|                 6800.0|      Individual|              null|                     null|2025-05-25 14:25:...|\n",
       "|8cde0b5bb3f976a29...|         Sales clerk|         1|          RENT|      14860.7|           NY|          140xx|            USA|    E|       E1|       Not Verified|                 7834.0|      Individual|              null|                     null|2025-05-25 14:25:...|\n",
       "|fda62a0cf764cdb89...|           Counselor|         1|      MORTGAGE|      50000.0|           TX|          786xx|            USA|    C|       C5|       Not Verified|               164978.0|       Joint App|              null|             Not Verified|2025-05-25 14:25:...|\n",
       "|db36d6f096f021fd1...|     General Manager|        10|      MORTGAGE|      82000.0|           AL|          352xx|            USA|    A|       A4|       Not Verified|                61555.0|      Individual|              null|                     null|2025-05-25 14:25:...|\n",
       "|c6c74a19c40715b84...|nursing unit assi...|        10|          RENT|      48000.0|           NY|          112xx|            USA|    C|       C2|           Verified|                65200.0|      Individual|              null|                     null|2025-05-25 14:25:...|\n",
       "|ebd796718e6b10512...|            Educator|         6|      MORTGAGE|      59000.0|           VA|          226xx|            USA|    B|       B1|           Verified|               256401.0|       Joint App|              null|                 Verified|2025-05-25 14:25:...|\n",
       "|58744c4761e9ee286...|         Team leader|        10|           OWN|      85000.0|           OH|          434xx|            USA|    A|       A4|       Not Verified|               235340.0|      Individual|              null|                     null|2025-05-25 14:25:...|\n",
       "+--------------------+--------------------+----------+--------------+-------------+-------------+---------------+---------------+-----+---------+-------------------+-----------------------+----------------+------------------+-------------------------+--------------------+\n",
       "only showing top 20 rows"
      ]
     },
     "execution_count": 14,
     "metadata": {},
     "output_type": "execute_result"
    }
   ],
   "source": [
    "spark.sql(\"select * from itv015970_lending_club.customers\")"
   ]
  },
  {
   "cell_type": "code",
   "execution_count": 15,
   "id": "9398e3eb",
   "metadata": {},
   "outputs": [
    {
     "data": {
      "text/html": [
       "<table border='1'>\n",
       "<tr><th></th></tr>\n",
       "</table>\n"
      ],
      "text/plain": [
       "++\n",
       "||\n",
       "++\n",
       "++"
      ]
     },
     "execution_count": 15,
     "metadata": {},
     "output_type": "execute_result"
    }
   ],
   "source": [
    "spark.sql(\"\"\"\n",
    "create external table itv015970_lending_club.loans(\n",
    "loan_id string, member_id string, loan_amount float, funded_amount float,\n",
    "loan_term_years integer, interest_rate float, monthly_installment float, issue_date string,\n",
    "loan_status string, loan_purpose string, loan_title string, ingest_date timestamp)\n",
    "stored as parquet\n",
    "location '/user/itv015970/lendingclubproject/cleaned/loans_parquet'\n",
    "\"\"\")"
   ]
  },
  {
   "cell_type": "code",
   "execution_count": 16,
   "id": "b520ed13",
   "metadata": {},
   "outputs": [
    {
     "data": {
      "text/html": [
       "<table border='1'>\n",
       "<tr><th>loan_id</th><th>member_id</th><th>loan_amount</th><th>funded_amount</th><th>loan_term_years</th><th>interest_rate</th><th>monthly_installment</th><th>issue_date</th><th>loan_status</th><th>loan_purpose</th><th>loan_title</th><th>ingest_date</th></tr>\n",
       "<tr><td>14408468</td><td>5d7676571dee53d06...</td><td>5000.0</td><td>5000.0</td><td>3</td><td>14.16</td><td>171.28</td><td>Apr-2014</td><td>Fully Paid</td><td>debt_consolidation</td><td>Debt consolidation</td><td>2025-05-26 12:09:...</td></tr>\n",
       "<tr><td>14520567</td><td>31fd1ef036c5caf26...</td><td>11000.0</td><td>11000.0</td><td>3</td><td>9.67</td><td>353.24</td><td>Apr-2014</td><td>Fully Paid</td><td>other</td><td>Other</td><td>2025-05-26 12:09:...</td></tr>\n",
       "<tr><td>14708730</td><td>9b48253ca5848fa78...</td><td>25000.0</td><td>25000.0</td><td>3</td><td>11.99</td><td>830.24</td><td>May-2014</td><td>Charged Off</td><td>credit_card</td><td>Credit card refin...</td><td>2025-05-26 12:09:...</td></tr>\n",
       "<tr><td>14491003</td><td>d6b8f2e32be148721...</td><td>1500.0</td><td>1500.0</td><td>3</td><td>23.43</td><td>58.41</td><td>Apr-2014</td><td>Fully Paid</td><td>renewable_energy</td><td>Green loan</td><td>2025-05-26 12:09:...</td></tr>\n",
       "<tr><td>14510981</td><td>0a81ad556e20bcdb9...</td><td>10000.0</td><td>10000.0</td><td>3</td><td>12.99</td><td>336.9</td><td>Apr-2014</td><td>Fully Paid</td><td>debt_consolidation</td><td>Debt consolidation</td><td>2025-05-26 12:09:...</td></tr>\n",
       "<tr><td>14177845</td><td>843b995d39160ddab...</td><td>13200.0</td><td>13200.0</td><td>5</td><td>12.99</td><td>300.28</td><td>Apr-2014</td><td>Charged Off</td><td>debt_consolidation</td><td>Debt consolidation</td><td>2025-05-26 12:09:...</td></tr>\n",
       "<tr><td>13947687</td><td>04a8bd7c4e1407ba8...</td><td>10000.0</td><td>10000.0</td><td>5</td><td>17.57</td><td>251.61</td><td>Apr-2014</td><td>Fully Paid</td><td>other</td><td>Other</td><td>2025-05-26 12:09:...</td></tr>\n",
       "<tr><td>12905731</td><td>3e9a89fa96988af68...</td><td>18000.0</td><td>18000.0</td><td>3</td><td>18.25</td><td>653.01</td><td>May-2014</td><td>Fully Paid</td><td>home_improvement</td><td>Home improvement</td><td>2025-05-26 12:09:...</td></tr>\n",
       "<tr><td>14137736</td><td>394a8db0bd3bcf7de...</td><td>12000.0</td><td>12000.0</td><td>3</td><td>9.67</td><td>385.35</td><td>Apr-2014</td><td>Fully Paid</td><td>debt_consolidation</td><td>Debt consolidation</td><td>2025-05-26 12:09:...</td></tr>\n",
       "<tr><td>13207083</td><td>09cea8d2b6f1272f7...</td><td>3200.0</td><td>3200.0</td><td>3</td><td>20.49</td><td>119.73</td><td>Apr-2014</td><td>Fully Paid</td><td>credit_card</td><td>Credit card refin...</td><td>2025-05-26 12:09:...</td></tr>\n",
       "<tr><td>9005163</td><td>bc13b4bf12b2fb93f...</td><td>19800.0</td><td>19800.0</td><td>5</td><td>15.61</td><td>477.41</td><td>Apr-2014</td><td>Current</td><td>debt_consolidation</td><td>Debt consolidation</td><td>2025-05-26 12:09:...</td></tr>\n",
       "<tr><td>14008700</td><td>dcc3cce84164a1a4f...</td><td>14150.0</td><td>14150.0</td><td>5</td><td>16.59</td><td>348.56</td><td>Apr-2014</td><td>Current</td><td>credit_card</td><td>Credit card refin...</td><td>2025-05-26 12:09:...</td></tr>\n",
       "<tr><td>13107355</td><td>a8c2898592c8c34ea...</td><td>11850.0</td><td>11850.0</td><td>3</td><td>20.49</td><td>443.36</td><td>Apr-2014</td><td>Fully Paid</td><td>debt_consolidation</td><td>Debt consolidation</td><td>2025-05-26 12:09:...</td></tr>\n",
       "<tr><td>14288329</td><td>2ab161847c8ce1f3e...</td><td>25000.0</td><td>25000.0</td><td>5</td><td>21.99</td><td>690.34</td><td>Apr-2014</td><td>Fully Paid</td><td>debt_consolidation</td><td>Debt consolidation</td><td>2025-05-26 12:09:...</td></tr>\n",
       "<tr><td>14308144</td><td>9886b3db401c1d460...</td><td>15000.0</td><td>15000.0</td><td>5</td><td>15.61</td><td>361.67</td><td>Apr-2014</td><td>Fully Paid</td><td>major_purchase</td><td>Major purchase</td><td>2025-05-26 12:09:...</td></tr>\n",
       "<tr><td>14009407</td><td>7b62e3c918a7f9eb8...</td><td>9625.0</td><td>9625.0</td><td>3</td><td>13.65</td><td>327.33</td><td>Apr-2014</td><td>Fully Paid</td><td>credit_card</td><td>Credit card refin...</td><td>2025-05-26 12:09:...</td></tr>\n",
       "<tr><td>6583213</td><td>698b533486c4900d4...</td><td>17500.0</td><td>17500.0</td><td>3</td><td>9.67</td><td>561.97</td><td>Apr-2014</td><td>Fully Paid</td><td>debt_consolidation</td><td>Debt consolidation</td><td>2025-05-26 12:09:...</td></tr>\n",
       "<tr><td>12597061</td><td>0b07196bd0485e4c2...</td><td>7700.0</td><td>7700.0</td><td>3</td><td>12.99</td><td>259.41</td><td>Apr-2014</td><td>Fully Paid</td><td>debt_consolidation</td><td>Debt consolidation</td><td>2025-05-26 12:09:...</td></tr>\n",
       "<tr><td>12468587</td><td>92e61f312d73c874d...</td><td>3600.0</td><td>3600.0</td><td>3</td><td>22.45</td><td>138.33</td><td>Apr-2014</td><td>Fully Paid</td><td>debt_consolidation</td><td>Debt consolidation</td><td>2025-05-26 12:09:...</td></tr>\n",
       "<tr><td>12486035</td><td>a2eb7934b6490e443...</td><td>14250.0</td><td>14250.0</td><td>5</td><td>21.99</td><td>393.49</td><td>Apr-2014</td><td>Fully Paid</td><td>home_improvement</td><td>Home improvement</td><td>2025-05-26 12:09:...</td></tr>\n",
       "</table>\n",
       "only showing top 20 rows\n"
      ],
      "text/plain": [
       "+--------+--------------------+-----------+-------------+---------------+-------------+-------------------+----------+-----------+------------------+--------------------+--------------------+\n",
       "| loan_id|           member_id|loan_amount|funded_amount|loan_term_years|interest_rate|monthly_installment|issue_date|loan_status|      loan_purpose|          loan_title|         ingest_date|\n",
       "+--------+--------------------+-----------+-------------+---------------+-------------+-------------------+----------+-----------+------------------+--------------------+--------------------+\n",
       "|14408468|5d7676571dee53d06...|     5000.0|       5000.0|              3|        14.16|             171.28|  Apr-2014| Fully Paid|debt_consolidation|  Debt consolidation|2025-05-26 12:09:...|\n",
       "|14520567|31fd1ef036c5caf26...|    11000.0|      11000.0|              3|         9.67|             353.24|  Apr-2014| Fully Paid|             other|               Other|2025-05-26 12:09:...|\n",
       "|14708730|9b48253ca5848fa78...|    25000.0|      25000.0|              3|        11.99|             830.24|  May-2014|Charged Off|       credit_card|Credit card refin...|2025-05-26 12:09:...|\n",
       "|14491003|d6b8f2e32be148721...|     1500.0|       1500.0|              3|        23.43|              58.41|  Apr-2014| Fully Paid|  renewable_energy|          Green loan|2025-05-26 12:09:...|\n",
       "|14510981|0a81ad556e20bcdb9...|    10000.0|      10000.0|              3|        12.99|              336.9|  Apr-2014| Fully Paid|debt_consolidation|  Debt consolidation|2025-05-26 12:09:...|\n",
       "|14177845|843b995d39160ddab...|    13200.0|      13200.0|              5|        12.99|             300.28|  Apr-2014|Charged Off|debt_consolidation|  Debt consolidation|2025-05-26 12:09:...|\n",
       "|13947687|04a8bd7c4e1407ba8...|    10000.0|      10000.0|              5|        17.57|             251.61|  Apr-2014| Fully Paid|             other|               Other|2025-05-26 12:09:...|\n",
       "|12905731|3e9a89fa96988af68...|    18000.0|      18000.0|              3|        18.25|             653.01|  May-2014| Fully Paid|  home_improvement|    Home improvement|2025-05-26 12:09:...|\n",
       "|14137736|394a8db0bd3bcf7de...|    12000.0|      12000.0|              3|         9.67|             385.35|  Apr-2014| Fully Paid|debt_consolidation|  Debt consolidation|2025-05-26 12:09:...|\n",
       "|13207083|09cea8d2b6f1272f7...|     3200.0|       3200.0|              3|        20.49|             119.73|  Apr-2014| Fully Paid|       credit_card|Credit card refin...|2025-05-26 12:09:...|\n",
       "| 9005163|bc13b4bf12b2fb93f...|    19800.0|      19800.0|              5|        15.61|             477.41|  Apr-2014|    Current|debt_consolidation|  Debt consolidation|2025-05-26 12:09:...|\n",
       "|14008700|dcc3cce84164a1a4f...|    14150.0|      14150.0|              5|        16.59|             348.56|  Apr-2014|    Current|       credit_card|Credit card refin...|2025-05-26 12:09:...|\n",
       "|13107355|a8c2898592c8c34ea...|    11850.0|      11850.0|              3|        20.49|             443.36|  Apr-2014| Fully Paid|debt_consolidation|  Debt consolidation|2025-05-26 12:09:...|\n",
       "|14288329|2ab161847c8ce1f3e...|    25000.0|      25000.0|              5|        21.99|             690.34|  Apr-2014| Fully Paid|debt_consolidation|  Debt consolidation|2025-05-26 12:09:...|\n",
       "|14308144|9886b3db401c1d460...|    15000.0|      15000.0|              5|        15.61|             361.67|  Apr-2014| Fully Paid|    major_purchase|      Major purchase|2025-05-26 12:09:...|\n",
       "|14009407|7b62e3c918a7f9eb8...|     9625.0|       9625.0|              3|        13.65|             327.33|  Apr-2014| Fully Paid|       credit_card|Credit card refin...|2025-05-26 12:09:...|\n",
       "| 6583213|698b533486c4900d4...|    17500.0|      17500.0|              3|         9.67|             561.97|  Apr-2014| Fully Paid|debt_consolidation|  Debt consolidation|2025-05-26 12:09:...|\n",
       "|12597061|0b07196bd0485e4c2...|     7700.0|       7700.0|              3|        12.99|             259.41|  Apr-2014| Fully Paid|debt_consolidation|  Debt consolidation|2025-05-26 12:09:...|\n",
       "|12468587|92e61f312d73c874d...|     3600.0|       3600.0|              3|        22.45|             138.33|  Apr-2014| Fully Paid|debt_consolidation|  Debt consolidation|2025-05-26 12:09:...|\n",
       "|12486035|a2eb7934b6490e443...|    14250.0|      14250.0|              5|        21.99|             393.49|  Apr-2014| Fully Paid|  home_improvement|    Home improvement|2025-05-26 12:09:...|\n",
       "+--------+--------------------+-----------+-------------+---------------+-------------+-------------------+----------+-----------+------------------+--------------------+--------------------+\n",
       "only showing top 20 rows"
      ]
     },
     "execution_count": 16,
     "metadata": {},
     "output_type": "execute_result"
    }
   ],
   "source": [
    "spark.sql(\"select * from itv015970_lending_club.loans\")"
   ]
  },
  {
   "cell_type": "code",
   "execution_count": 17,
   "id": "399b2872",
   "metadata": {},
   "outputs": [
    {
     "data": {
      "text/html": [
       "<table border='1'>\n",
       "<tr><th></th></tr>\n",
       "</table>\n"
      ],
      "text/plain": [
       "++\n",
       "||\n",
       "++\n",
       "++"
      ]
     },
     "execution_count": 17,
     "metadata": {},
     "output_type": "execute_result"
    }
   ],
   "source": [
    "spark.sql(\"\"\"CREATE EXTERNAL TABLE itv015970_lending_club.loans_repayments(loan_id string, total_principal_received float,\n",
    "total_interest_received float,total_late_fee_received float,total_payment_received float,last_payment_amount float,\n",
    "last_payment_date string,next_payment_date string,ingest_date timestamp)\n",
    "stored as parquet LOCATION '/user/itv015970/lendingclubproject/cleaned/loans_repayments_parquet'\n",
    "\"\"\")"
   ]
  },
  {
   "cell_type": "code",
   "execution_count": 18,
   "id": "d97dac36",
   "metadata": {},
   "outputs": [
    {
     "data": {
      "text/html": [
       "<table border='1'>\n",
       "<tr><th>loan_id</th><th>total_principal_received</th><th>total_interest_received</th><th>total_late_fee_received</th><th>total_payment_received</th><th>last_payment_amount</th><th>last_payment_date</th><th>next_payment_date</th><th>ingest_date</th></tr>\n",
       "<tr><td>141581221</td><td>1055.81</td><td>2591.7</td><td>0.0</td><td>3647.51</td><td>709.23</td><td>Mar-2019</td><td>Apr-2019</td><td>2025-05-26 17:14:...</td></tr>\n",
       "<tr><td>141506948</td><td>1252.75</td><td>306.04</td><td>0.0</td><td>1558.79</td><td>312.63</td><td>Mar-2019</td><td>Apr-2019</td><td>2025-05-26 17:14:...</td></tr>\n",
       "<tr><td>141357400</td><td>626.37</td><td>354.96</td><td>0.0</td><td>981.33</td><td>197.27</td><td>Mar-2019</td><td>Apr-2019</td><td>2025-05-26 17:14:...</td></tr>\n",
       "<tr><td>139445427</td><td>1118.16</td><td>297.36</td><td>0.0</td><td>1415.52</td><td>283.95</td><td>Mar-2019</td><td>Apr-2019</td><td>2025-05-26 17:14:...</td></tr>\n",
       "<tr><td>141407409</td><td>1169.72</td><td>3605.3</td><td>0.0</td><td>4775.02</td><td>964.9</td><td>Mar-2019</td><td>Apr-2019</td><td>2025-05-26 17:14:...</td></tr>\n",
       "<tr><td>141360802</td><td>2313.98</td><td>2512.88</td><td>0.0</td><td>4826.86</td><td>952.02</td><td>Mar-2019</td><td>Apr-2019</td><td>2025-05-26 17:14:...</td></tr>\n",
       "<tr><td>141163960</td><td>4689.63</td><td>1994.93</td><td>0.0</td><td>6684.56</td><td>1342.57</td><td>Mar-2019</td><td>Apr-2019</td><td>2025-05-26 17:14:...</td></tr>\n",
       "<tr><td>141533932</td><td>585.29</td><td>640.53</td><td>15.0</td><td>1240.82</td><td>235.13</td><td>Mar-2019</td><td>Apr-2019</td><td>2025-05-26 17:14:...</td></tr>\n",
       "<tr><td>141441276</td><td>2030.82</td><td>762.81</td><td>0.0</td><td>2793.63</td><td>477.62</td><td>Mar-2019</td><td>Apr-2019</td><td>2025-05-26 17:14:...</td></tr>\n",
       "<tr><td>141569080</td><td>1803.55</td><td>1110.59</td><td>0.0</td><td>2914.14</td><td>585.91</td><td>Mar-2019</td><td>Apr-2019</td><td>2025-05-26 17:14:...</td></tr>\n",
       "<tr><td>140961277</td><td>1144.71</td><td>559.56</td><td>0.0</td><td>1704.27</td><td>344.07</td><td>Mar-2019</td><td>Apr-2019</td><td>2025-05-26 17:14:...</td></tr>\n",
       "<tr><td>141466656</td><td>1297.9</td><td>838.42</td><td>0.0</td><td>2136.32</td><td>429.59</td><td>Mar-2019</td><td>Apr-2019</td><td>2025-05-26 17:14:...</td></tr>\n",
       "<tr><td>141575085</td><td>613.26</td><td>510.47</td><td>0.0</td><td>1123.73</td><td>226.16</td><td>Mar-2019</td><td>Apr-2019</td><td>2025-05-26 17:14:...</td></tr>\n",
       "<tr><td>141429235</td><td>4008.76</td><td>1058.83</td><td>0.0</td><td>5067.59</td><td>1000.41</td><td>Mar-2019</td><td>Apr-2019</td><td>2025-05-26 17:14:...</td></tr>\n",
       "<tr><td>141545082</td><td>1297.9</td><td>838.42</td><td>0.0</td><td>2136.32</td><td>429.59</td><td>Mar-2019</td><td>Apr-2019</td><td>2025-05-26 17:14:...</td></tr>\n",
       "<tr><td>141584203</td><td>747.08</td><td>243.73</td><td>0.0</td><td>990.81</td><td>193.84</td><td>Mar-2019</td><td>Apr-2019</td><td>2025-05-26 17:14:...</td></tr>\n",
       "<tr><td>141201047</td><td>2266.29</td><td>1184.57</td><td>34.68</td><td>3485.54</td><td>693.51</td><td>Mar-2019</td><td>Apr-2019</td><td>2025-05-26 17:14:...</td></tr>\n",
       "<tr><td>140580869</td><td>1450.9</td><td>491.42</td><td>0.0</td><td>1942.32</td><td>389.86</td><td>Mar-2019</td><td>Apr-2019</td><td>2025-05-26 17:14:...</td></tr>\n",
       "<tr><td>141539871</td><td>2290.47</td><td>468.26</td><td>0.0</td><td>2758.73</td><td>553.08</td><td>Mar-2019</td><td>Apr-2019</td><td>2025-05-26 17:14:...</td></tr>\n",
       "<tr><td>141386443</td><td>1173.43</td><td>1161.79</td><td>0.0</td><td>2335.22</td><td>470.26</td><td>Mar-2019</td><td>Apr-2019</td><td>2025-05-26 17:14:...</td></tr>\n",
       "</table>\n",
       "only showing top 20 rows\n"
      ],
      "text/plain": [
       "+---------+------------------------+-----------------------+-----------------------+----------------------+-------------------+-----------------+-----------------+--------------------+\n",
       "|  loan_id|total_principal_received|total_interest_received|total_late_fee_received|total_payment_received|last_payment_amount|last_payment_date|next_payment_date|         ingest_date|\n",
       "+---------+------------------------+-----------------------+-----------------------+----------------------+-------------------+-----------------+-----------------+--------------------+\n",
       "|141581221|                 1055.81|                 2591.7|                    0.0|               3647.51|             709.23|         Mar-2019|         Apr-2019|2025-05-26 17:14:...|\n",
       "|141506948|                 1252.75|                 306.04|                    0.0|               1558.79|             312.63|         Mar-2019|         Apr-2019|2025-05-26 17:14:...|\n",
       "|141357400|                  626.37|                 354.96|                    0.0|                981.33|             197.27|         Mar-2019|         Apr-2019|2025-05-26 17:14:...|\n",
       "|139445427|                 1118.16|                 297.36|                    0.0|               1415.52|             283.95|         Mar-2019|         Apr-2019|2025-05-26 17:14:...|\n",
       "|141407409|                 1169.72|                 3605.3|                    0.0|               4775.02|              964.9|         Mar-2019|         Apr-2019|2025-05-26 17:14:...|\n",
       "|141360802|                 2313.98|                2512.88|                    0.0|               4826.86|             952.02|         Mar-2019|         Apr-2019|2025-05-26 17:14:...|\n",
       "|141163960|                 4689.63|                1994.93|                    0.0|               6684.56|            1342.57|         Mar-2019|         Apr-2019|2025-05-26 17:14:...|\n",
       "|141533932|                  585.29|                 640.53|                   15.0|               1240.82|             235.13|         Mar-2019|         Apr-2019|2025-05-26 17:14:...|\n",
       "|141441276|                 2030.82|                 762.81|                    0.0|               2793.63|             477.62|         Mar-2019|         Apr-2019|2025-05-26 17:14:...|\n",
       "|141569080|                 1803.55|                1110.59|                    0.0|               2914.14|             585.91|         Mar-2019|         Apr-2019|2025-05-26 17:14:...|\n",
       "|140961277|                 1144.71|                 559.56|                    0.0|               1704.27|             344.07|         Mar-2019|         Apr-2019|2025-05-26 17:14:...|\n",
       "|141466656|                  1297.9|                 838.42|                    0.0|               2136.32|             429.59|         Mar-2019|         Apr-2019|2025-05-26 17:14:...|\n",
       "|141575085|                  613.26|                 510.47|                    0.0|               1123.73|             226.16|         Mar-2019|         Apr-2019|2025-05-26 17:14:...|\n",
       "|141429235|                 4008.76|                1058.83|                    0.0|               5067.59|            1000.41|         Mar-2019|         Apr-2019|2025-05-26 17:14:...|\n",
       "|141545082|                  1297.9|                 838.42|                    0.0|               2136.32|             429.59|         Mar-2019|         Apr-2019|2025-05-26 17:14:...|\n",
       "|141584203|                  747.08|                 243.73|                    0.0|                990.81|             193.84|         Mar-2019|         Apr-2019|2025-05-26 17:14:...|\n",
       "|141201047|                 2266.29|                1184.57|                  34.68|               3485.54|             693.51|         Mar-2019|         Apr-2019|2025-05-26 17:14:...|\n",
       "|140580869|                  1450.9|                 491.42|                    0.0|               1942.32|             389.86|         Mar-2019|         Apr-2019|2025-05-26 17:14:...|\n",
       "|141539871|                 2290.47|                 468.26|                    0.0|               2758.73|             553.08|         Mar-2019|         Apr-2019|2025-05-26 17:14:...|\n",
       "|141386443|                 1173.43|                1161.79|                    0.0|               2335.22|             470.26|         Mar-2019|         Apr-2019|2025-05-26 17:14:...|\n",
       "+---------+------------------------+-----------------------+-----------------------+----------------------+-------------------+-----------------+-----------------+--------------------+\n",
       "only showing top 20 rows"
      ]
     },
     "execution_count": 18,
     "metadata": {},
     "output_type": "execute_result"
    }
   ],
   "source": [
    "spark.sql(\"select * from itv015970_lending_club.loans_repayments\")"
   ]
  },
  {
   "cell_type": "code",
   "execution_count": 22,
   "id": "94033477",
   "metadata": {},
   "outputs": [
    {
     "data": {
      "text/html": [
       "<table border='1'>\n",
       "<tr><th></th></tr>\n",
       "</table>\n"
      ],
      "text/plain": [
       "++\n",
       "||\n",
       "++\n",
       "++"
      ]
     },
     "execution_count": 22,
     "metadata": {},
     "output_type": "execute_result"
    }
   ],
   "source": [
    "spark.sql(\"drop table itv015970_lending_club.loans_defaulters_delinq\")"
   ]
  },
  {
   "cell_type": "code",
   "execution_count": 23,
   "id": "1ed4ccdd",
   "metadata": {},
   "outputs": [
    {
     "data": {
      "text/html": [
       "<table border='1'>\n",
       "<tr><th></th></tr>\n",
       "</table>\n"
      ],
      "text/plain": [
       "++\n",
       "||\n",
       "++\n",
       "++"
      ]
     },
     "execution_count": 23,
     "metadata": {},
     "output_type": "execute_result"
    }
   ],
   "source": [
    "spark.sql(\"\"\"CREATE EXTERNAL TABLE itv015970_lending_club.loans_defaulters_delinq(\n",
    "member_id string, delinq_2yrs integer, delinq_amnt float, mths_since_last_delinq integer)\n",
    "stored as parquet LOCATION '/user/itv015970/lendingclubproject/cleaned/loans_defaulters_deling_parquet'\"\"\")"
   ]
  },
  {
   "cell_type": "code",
   "execution_count": 27,
   "id": "5e5f2824",
   "metadata": {},
   "outputs": [
    {
     "data": {
      "text/html": [
       "<table border='1'>\n",
       "<tr><th>member_id</th><th>delinq_2yrs</th><th>delinq_amnt</th><th>mths_since_last_delinq</th></tr>\n",
       "<tr><td>9cb79aa7323e81be1...</td><td>2</td><td>0.0</td><td>11</td></tr>\n",
       "<tr><td>aac68850fdac09fd0...</td><td>1</td><td>0.0</td><td>21</td></tr>\n",
       "<tr><td>c89986155a070db2e...</td><td>1</td><td>0.0</td><td>5</td></tr>\n",
       "<tr><td>6e8d94bf446e97025...</td><td>0</td><td>0.0</td><td>36</td></tr>\n",
       "<tr><td>42f73fd8a01f1c475...</td><td>0</td><td>0.0</td><td>46</td></tr>\n",
       "<tr><td>1eef79a0e79b72c7a...</td><td>1</td><td>0.0</td><td>21</td></tr>\n",
       "<tr><td>1dd1d1b51473d4993...</td><td>0</td><td>0.0</td><td>44</td></tr>\n",
       "<tr><td>ec1953dba2cfb89ad...</td><td>2</td><td>0.0</td><td>13</td></tr>\n",
       "<tr><td>8241a6bb3a9350fb8...</td><td>0</td><td>0.0</td><td>57</td></tr>\n",
       "<tr><td>cdc94fa1c29a6a70a...</td><td>0</td><td>0.0</td><td>44</td></tr>\n",
       "<tr><td>3712c9da85e54b7b1...</td><td>1</td><td>0.0</td><td>19</td></tr>\n",
       "<tr><td>6ebc82410b3dc9dcb...</td><td>0</td><td>0.0</td><td>43</td></tr>\n",
       "<tr><td>d25f6d6da5a92a401...</td><td>0</td><td>0.0</td><td>45</td></tr>\n",
       "<tr><td>657a760b1d52967fb...</td><td>0</td><td>0.0</td><td>36</td></tr>\n",
       "<tr><td>030e5c9c411c936c5...</td><td>2</td><td>0.0</td><td>6</td></tr>\n",
       "<tr><td>7fd6a504a6486e061...</td><td>0</td><td>0.0</td><td>45</td></tr>\n",
       "<tr><td>a67f439593858be7c...</td><td>0</td><td>0.0</td><td>28</td></tr>\n",
       "<tr><td>252736f8401b6b046...</td><td>2</td><td>0.0</td><td>5</td></tr>\n",
       "<tr><td>bf7c24ada32d968a6...</td><td>0</td><td>0.0</td><td>49</td></tr>\n",
       "<tr><td>a36b7198a8d922b0c...</td><td>0</td><td>0.0</td><td>75</td></tr>\n",
       "</table>\n",
       "only showing top 20 rows\n"
      ],
      "text/plain": [
       "+--------------------+-----------+-----------+----------------------+\n",
       "|           member_id|delinq_2yrs|delinq_amnt|mths_since_last_delinq|\n",
       "+--------------------+-----------+-----------+----------------------+\n",
       "|9cb79aa7323e81be1...|          2|        0.0|                    11|\n",
       "|aac68850fdac09fd0...|          1|        0.0|                    21|\n",
       "|c89986155a070db2e...|          1|        0.0|                     5|\n",
       "|6e8d94bf446e97025...|          0|        0.0|                    36|\n",
       "|42f73fd8a01f1c475...|          0|        0.0|                    46|\n",
       "|1eef79a0e79b72c7a...|          1|        0.0|                    21|\n",
       "|1dd1d1b51473d4993...|          0|        0.0|                    44|\n",
       "|ec1953dba2cfb89ad...|          2|        0.0|                    13|\n",
       "|8241a6bb3a9350fb8...|          0|        0.0|                    57|\n",
       "|cdc94fa1c29a6a70a...|          0|        0.0|                    44|\n",
       "|3712c9da85e54b7b1...|          1|        0.0|                    19|\n",
       "|6ebc82410b3dc9dcb...|          0|        0.0|                    43|\n",
       "|d25f6d6da5a92a401...|          0|        0.0|                    45|\n",
       "|657a760b1d52967fb...|          0|        0.0|                    36|\n",
       "|030e5c9c411c936c5...|          2|        0.0|                     6|\n",
       "|7fd6a504a6486e061...|          0|        0.0|                    45|\n",
       "|a67f439593858be7c...|          0|        0.0|                    28|\n",
       "|252736f8401b6b046...|          2|        0.0|                     5|\n",
       "|bf7c24ada32d968a6...|          0|        0.0|                    49|\n",
       "|a36b7198a8d922b0c...|          0|        0.0|                    75|\n",
       "+--------------------+-----------+-----------+----------------------+\n",
       "only showing top 20 rows"
      ]
     },
     "execution_count": 27,
     "metadata": {},
     "output_type": "execute_result"
    }
   ],
   "source": [
    "spark.sql(\"select * from itv015970_lending_club.loans_defaulters_delinq\")"
   ]
  },
  {
   "cell_type": "code",
   "execution_count": 29,
   "id": "6c4b591c",
   "metadata": {},
   "outputs": [
    {
     "data": {
      "text/html": [
       "<table border='1'>\n",
       "<tr><th></th></tr>\n",
       "</table>\n"
      ],
      "text/plain": [
       "++\n",
       "||\n",
       "++\n",
       "++"
      ]
     },
     "execution_count": 29,
     "metadata": {},
     "output_type": "execute_result"
    }
   ],
   "source": [
    "spark.sql(\"\"\"CREATE EXTERNAL TABLE itv015970_lending_club.loans_defaulters_detail_rec_enq(\n",
    "member_id string, pub_rec integer, pub_rec_bankruptcies integer, inq_last_6mths integer)\n",
    "stored as parquet LOCATION '/user/itv015970/lendingclubproject/cleaned/loans_def_detail_records_enq_df_parquet'\"\"\")"
   ]
  },
  {
   "cell_type": "code",
   "execution_count": 31,
   "id": "a7bc5052",
   "metadata": {},
   "outputs": [
    {
     "data": {
      "text/html": [
       "<table border='1'>\n",
       "<tr><th>member_id</th><th>pub_rec</th><th>pub_rec_bankruptcies</th><th>inq_last_6mths</th></tr>\n",
       "<tr><td>0dd2bbc517e3c8f9e...</td><td>null</td><td>null</td><td>null</td></tr>\n",
       "<tr><td>458458599d3df3bfc...</td><td>null</td><td>null</td><td>null</td></tr>\n",
       "<tr><td>f1efcf7dfbfef21be...</td><td>null</td><td>null</td><td>null</td></tr>\n",
       "<tr><td>c89986155a070db2e...</td><td>null</td><td>null</td><td>null</td></tr>\n",
       "<tr><td>e88945f86a96f8d71...</td><td>null</td><td>null</td><td>null</td></tr>\n",
       "<tr><td>4e1c30a5dfe9f1e20...</td><td>null</td><td>null</td><td>null</td></tr>\n",
       "<tr><td>76cbefe31f7834f47...</td><td>null</td><td>null</td><td>null</td></tr>\n",
       "<tr><td>47d002f59a274c6f2...</td><td>null</td><td>null</td><td>null</td></tr>\n",
       "<tr><td>09a1c6855801dad88...</td><td>null</td><td>null</td><td>null</td></tr>\n",
       "<tr><td>56d4375718ad6940d...</td><td>null</td><td>null</td><td>null</td></tr>\n",
       "<tr><td>6ebc82410b3dc9dcb...</td><td>null</td><td>null</td><td>null</td></tr>\n",
       "<tr><td>41a307b3c2c66aad8...</td><td>null</td><td>null</td><td>null</td></tr>\n",
       "<tr><td>d168c599b8aea3c0b...</td><td>null</td><td>null</td><td>null</td></tr>\n",
       "<tr><td>657a760b1d52967fb...</td><td>null</td><td>null</td><td>null</td></tr>\n",
       "<tr><td>b7d9da217c8256cfd...</td><td>null</td><td>null</td><td>null</td></tr>\n",
       "<tr><td>a67f439593858be7c...</td><td>null</td><td>null</td><td>null</td></tr>\n",
       "<tr><td>3a4aac093cddcdb0c...</td><td>null</td><td>null</td><td>null</td></tr>\n",
       "<tr><td>23bb4e7a5ed15c1fc...</td><td>null</td><td>null</td><td>null</td></tr>\n",
       "<tr><td>0b55b1efb75760dc3...</td><td>null</td><td>null</td><td>null</td></tr>\n",
       "<tr><td>04eedd3c6357df852...</td><td>null</td><td>null</td><td>null</td></tr>\n",
       "</table>\n",
       "only showing top 20 rows\n"
      ],
      "text/plain": [
       "+--------------------+-------+--------------------+--------------+\n",
       "|           member_id|pub_rec|pub_rec_bankruptcies|inq_last_6mths|\n",
       "+--------------------+-------+--------------------+--------------+\n",
       "|0dd2bbc517e3c8f9e...|   null|                null|          null|\n",
       "|458458599d3df3bfc...|   null|                null|          null|\n",
       "|f1efcf7dfbfef21be...|   null|                null|          null|\n",
       "|c89986155a070db2e...|   null|                null|          null|\n",
       "|e88945f86a96f8d71...|   null|                null|          null|\n",
       "|4e1c30a5dfe9f1e20...|   null|                null|          null|\n",
       "|76cbefe31f7834f47...|   null|                null|          null|\n",
       "|47d002f59a274c6f2...|   null|                null|          null|\n",
       "|09a1c6855801dad88...|   null|                null|          null|\n",
       "|56d4375718ad6940d...|   null|                null|          null|\n",
       "|6ebc82410b3dc9dcb...|   null|                null|          null|\n",
       "|41a307b3c2c66aad8...|   null|                null|          null|\n",
       "|d168c599b8aea3c0b...|   null|                null|          null|\n",
       "|657a760b1d52967fb...|   null|                null|          null|\n",
       "|b7d9da217c8256cfd...|   null|                null|          null|\n",
       "|a67f439593858be7c...|   null|                null|          null|\n",
       "|3a4aac093cddcdb0c...|   null|                null|          null|\n",
       "|23bb4e7a5ed15c1fc...|   null|                null|          null|\n",
       "|0b55b1efb75760dc3...|   null|                null|          null|\n",
       "|04eedd3c6357df852...|   null|                null|          null|\n",
       "+--------------------+-------+--------------------+--------------+\n",
       "only showing top 20 rows"
      ]
     },
     "execution_count": 31,
     "metadata": {},
     "output_type": "execute_result"
    }
   ],
   "source": [
    "spark.sql(\"select * from itv015970_lending_club.loans_defaulters_detail_rec_enq\")"
   ]
  },
  {
   "cell_type": "code",
   "execution_count": null,
   "id": "db84613d",
   "metadata": {},
   "outputs": [],
   "source": []
  }
 ],
 "metadata": {
  "kernelspec": {
   "display_name": "Pyspark 3",
   "language": "python",
   "name": "pyspark3"
  },
  "language_info": {
   "codemirror_mode": {
    "name": "ipython",
    "version": 3
   },
   "file_extension": ".py",
   "mimetype": "text/x-python",
   "name": "python",
   "nbconvert_exporter": "python",
   "pygments_lexer": "ipython3",
   "version": "3.6.12"
  }
 },
 "nbformat": 4,
 "nbformat_minor": 5
}
