{
 "cells": [
  {
   "cell_type": "code",
   "execution_count": 1,
   "id": "a43323b8",
   "metadata": {},
   "outputs": [],
   "source": [
    "from pyspark.sql import SparkSession\n",
    "import getpass\n",
    "username = getpass.getuser()\n",
    "spark = SparkSession. \\\n",
    "builder. \\\n",
    "config('spark.ui.port', '0'). \\\n",
    "config(\"spark.shuffle.useOldFetchProtocol\", \"true\"). \\\n",
    "config(\"spark.sql.warehouse.dir\", f\"/user/{username}/warehouse\"). \\\n",
    "enableHiveSupport(). \\\n",
    "master('yarn'). \\\n",
    "getOrCreate()"
   ]
  },
  {
   "cell_type": "code",
   "execution_count": 2,
   "id": "4fa8d327",
   "metadata": {},
   "outputs": [],
   "source": [
    "loans_raw_df = spark.read \\\n",
    ".format(\"csv\") \\\n",
    ".option(\"header\", True) \\\n",
    ".option(\"inferSchema\", True) \\\n",
    ".load(\"/user/itv015970/lendingclubproject/raw/loans_data_csv\")"
   ]
  },
  {
   "cell_type": "code",
   "execution_count": 3,
   "id": "c9e7d33a",
   "metadata": {},
   "outputs": [
    {
     "data": {
      "text/html": [
       "<table border='1'>\n",
       "<tr><th>loan_id</th><th>member_id</th><th>loan_amnt</th><th>funded_amnt</th><th>term</th><th>int_rate</th><th>installment</th><th>issue_d</th><th>loan_status</th><th>purpose</th><th>title</th></tr>\n",
       "<tr><td>14408468</td><td>5d7676571dee53d06...</td><td>5000.0</td><td>5000.0</td><td>36 months</td><td>14.16</td><td>171.28</td><td>Apr-2014</td><td>Fully Paid</td><td>debt_consolidation</td><td>Debt consolidation</td></tr>\n",
       "<tr><td>14520567</td><td>31fd1ef036c5caf26...</td><td>11000.0</td><td>11000.0</td><td>36 months</td><td>9.67</td><td>353.24</td><td>Apr-2014</td><td>Fully Paid</td><td>other</td><td>Other</td></tr>\n",
       "<tr><td>14708730</td><td>9b48253ca5848fa78...</td><td>25000.0</td><td>25000.0</td><td>36 months</td><td>11.99</td><td>830.24</td><td>May-2014</td><td>Charged Off</td><td>credit_card</td><td>Credit card refin...</td></tr>\n",
       "<tr><td>14491003</td><td>d6b8f2e32be148721...</td><td>1500.0</td><td>1500.0</td><td>36 months</td><td>23.43</td><td>58.41</td><td>Apr-2014</td><td>Fully Paid</td><td>renewable_energy</td><td>Green loan</td></tr>\n",
       "<tr><td>14510981</td><td>0a81ad556e20bcdb9...</td><td>10000.0</td><td>10000.0</td><td>36 months</td><td>12.99</td><td>336.9</td><td>Apr-2014</td><td>Fully Paid</td><td>debt_consolidation</td><td>Debt consolidation</td></tr>\n",
       "<tr><td>14177845</td><td>843b995d39160ddab...</td><td>13200.0</td><td>13200.0</td><td>60 months</td><td>12.99</td><td>300.28</td><td>Apr-2014</td><td>Charged Off</td><td>debt_consolidation</td><td>Debt consolidation</td></tr>\n",
       "<tr><td>13947687</td><td>04a8bd7c4e1407ba8...</td><td>10000.0</td><td>10000.0</td><td>60 months</td><td>17.57</td><td>251.61</td><td>Apr-2014</td><td>Fully Paid</td><td>other</td><td>Other</td></tr>\n",
       "<tr><td>12905731</td><td>3e9a89fa96988af68...</td><td>18000.0</td><td>18000.0</td><td>36 months</td><td>18.25</td><td>653.01</td><td>May-2014</td><td>Fully Paid</td><td>home_improvement</td><td>Home improvement</td></tr>\n",
       "<tr><td>14137736</td><td>394a8db0bd3bcf7de...</td><td>12000.0</td><td>12000.0</td><td>36 months</td><td>9.67</td><td>385.35</td><td>Apr-2014</td><td>Fully Paid</td><td>debt_consolidation</td><td>Debt consolidation</td></tr>\n",
       "<tr><td>13207083</td><td>09cea8d2b6f1272f7...</td><td>3200.0</td><td>3200.0</td><td>36 months</td><td>20.49</td><td>119.73</td><td>Apr-2014</td><td>Fully Paid</td><td>credit_card</td><td>Credit card refin...</td></tr>\n",
       "<tr><td>9005163</td><td>bc13b4bf12b2fb93f...</td><td>19800.0</td><td>19800.0</td><td>60 months</td><td>15.61</td><td>477.41</td><td>Apr-2014</td><td>Current</td><td>debt_consolidation</td><td>Debt consolidation</td></tr>\n",
       "<tr><td>14008700</td><td>dcc3cce84164a1a4f...</td><td>14150.0</td><td>14150.0</td><td>60 months</td><td>16.59</td><td>348.56</td><td>Apr-2014</td><td>Current</td><td>credit_card</td><td>Credit card refin...</td></tr>\n",
       "<tr><td>13107355</td><td>a8c2898592c8c34ea...</td><td>11850.0</td><td>11850.0</td><td>36 months</td><td>20.49</td><td>443.36</td><td>Apr-2014</td><td>Fully Paid</td><td>debt_consolidation</td><td>Debt consolidation</td></tr>\n",
       "<tr><td>14288329</td><td>2ab161847c8ce1f3e...</td><td>25000.0</td><td>25000.0</td><td>60 months</td><td>21.99</td><td>690.34</td><td>Apr-2014</td><td>Fully Paid</td><td>debt_consolidation</td><td>Debt consolidation</td></tr>\n",
       "<tr><td>14308144</td><td>9886b3db401c1d460...</td><td>15000.0</td><td>15000.0</td><td>60 months</td><td>15.61</td><td>361.67</td><td>Apr-2014</td><td>Fully Paid</td><td>major_purchase</td><td>Major purchase</td></tr>\n",
       "<tr><td>14009407</td><td>7b62e3c918a7f9eb8...</td><td>9625.0</td><td>9625.0</td><td>36 months</td><td>13.65</td><td>327.33</td><td>Apr-2014</td><td>Fully Paid</td><td>credit_card</td><td>Credit card refin...</td></tr>\n",
       "<tr><td>6583213</td><td>698b533486c4900d4...</td><td>17500.0</td><td>17500.0</td><td>36 months</td><td>9.67</td><td>561.97</td><td>Apr-2014</td><td>Fully Paid</td><td>debt_consolidation</td><td>Debt consolidation</td></tr>\n",
       "<tr><td>12597061</td><td>0b07196bd0485e4c2...</td><td>7700.0</td><td>7700.0</td><td>36 months</td><td>12.99</td><td>259.41</td><td>Apr-2014</td><td>Fully Paid</td><td>debt_consolidation</td><td>Debt consolidation</td></tr>\n",
       "<tr><td>12468587</td><td>92e61f312d73c874d...</td><td>3600.0</td><td>3600.0</td><td>36 months</td><td>22.45</td><td>138.33</td><td>Apr-2014</td><td>Fully Paid</td><td>debt_consolidation</td><td>Debt consolidation</td></tr>\n",
       "<tr><td>12486035</td><td>a2eb7934b6490e443...</td><td>14250.0</td><td>14250.0</td><td>60 months</td><td>21.99</td><td>393.49</td><td>Apr-2014</td><td>Fully Paid</td><td>home_improvement</td><td>Home improvement</td></tr>\n",
       "</table>\n",
       "only showing top 20 rows\n"
      ],
      "text/plain": [
       "+--------+--------------------+---------+-----------+---------+--------+-----------+--------+-----------+------------------+--------------------+\n",
       "| loan_id|           member_id|loan_amnt|funded_amnt|     term|int_rate|installment| issue_d|loan_status|           purpose|               title|\n",
       "+--------+--------------------+---------+-----------+---------+--------+-----------+--------+-----------+------------------+--------------------+\n",
       "|14408468|5d7676571dee53d06...|   5000.0|     5000.0|36 months|   14.16|     171.28|Apr-2014| Fully Paid|debt_consolidation|  Debt consolidation|\n",
       "|14520567|31fd1ef036c5caf26...|  11000.0|    11000.0|36 months|    9.67|     353.24|Apr-2014| Fully Paid|             other|               Other|\n",
       "|14708730|9b48253ca5848fa78...|  25000.0|    25000.0|36 months|   11.99|     830.24|May-2014|Charged Off|       credit_card|Credit card refin...|\n",
       "|14491003|d6b8f2e32be148721...|   1500.0|     1500.0|36 months|   23.43|      58.41|Apr-2014| Fully Paid|  renewable_energy|          Green loan|\n",
       "|14510981|0a81ad556e20bcdb9...|  10000.0|    10000.0|36 months|   12.99|      336.9|Apr-2014| Fully Paid|debt_consolidation|  Debt consolidation|\n",
       "|14177845|843b995d39160ddab...|  13200.0|    13200.0|60 months|   12.99|     300.28|Apr-2014|Charged Off|debt_consolidation|  Debt consolidation|\n",
       "|13947687|04a8bd7c4e1407ba8...|  10000.0|    10000.0|60 months|   17.57|     251.61|Apr-2014| Fully Paid|             other|               Other|\n",
       "|12905731|3e9a89fa96988af68...|  18000.0|    18000.0|36 months|   18.25|     653.01|May-2014| Fully Paid|  home_improvement|    Home improvement|\n",
       "|14137736|394a8db0bd3bcf7de...|  12000.0|    12000.0|36 months|    9.67|     385.35|Apr-2014| Fully Paid|debt_consolidation|  Debt consolidation|\n",
       "|13207083|09cea8d2b6f1272f7...|   3200.0|     3200.0|36 months|   20.49|     119.73|Apr-2014| Fully Paid|       credit_card|Credit card refin...|\n",
       "| 9005163|bc13b4bf12b2fb93f...|  19800.0|    19800.0|60 months|   15.61|     477.41|Apr-2014|    Current|debt_consolidation|  Debt consolidation|\n",
       "|14008700|dcc3cce84164a1a4f...|  14150.0|    14150.0|60 months|   16.59|     348.56|Apr-2014|    Current|       credit_card|Credit card refin...|\n",
       "|13107355|a8c2898592c8c34ea...|  11850.0|    11850.0|36 months|   20.49|     443.36|Apr-2014| Fully Paid|debt_consolidation|  Debt consolidation|\n",
       "|14288329|2ab161847c8ce1f3e...|  25000.0|    25000.0|60 months|   21.99|     690.34|Apr-2014| Fully Paid|debt_consolidation|  Debt consolidation|\n",
       "|14308144|9886b3db401c1d460...|  15000.0|    15000.0|60 months|   15.61|     361.67|Apr-2014| Fully Paid|    major_purchase|      Major purchase|\n",
       "|14009407|7b62e3c918a7f9eb8...|   9625.0|     9625.0|36 months|   13.65|     327.33|Apr-2014| Fully Paid|       credit_card|Credit card refin...|\n",
       "| 6583213|698b533486c4900d4...|  17500.0|    17500.0|36 months|    9.67|     561.97|Apr-2014| Fully Paid|debt_consolidation|  Debt consolidation|\n",
       "|12597061|0b07196bd0485e4c2...|   7700.0|     7700.0|36 months|   12.99|     259.41|Apr-2014| Fully Paid|debt_consolidation|  Debt consolidation|\n",
       "|12468587|92e61f312d73c874d...|   3600.0|     3600.0|36 months|   22.45|     138.33|Apr-2014| Fully Paid|debt_consolidation|  Debt consolidation|\n",
       "|12486035|a2eb7934b6490e443...|  14250.0|    14250.0|60 months|   21.99|     393.49|Apr-2014| Fully Paid|  home_improvement|    Home improvement|\n",
       "+--------+--------------------+---------+-----------+---------+--------+-----------+--------+-----------+------------------+--------------------+\n",
       "only showing top 20 rows"
      ]
     },
     "execution_count": 3,
     "metadata": {},
     "output_type": "execute_result"
    }
   ],
   "source": [
    "loans_raw_df"
   ]
  },
  {
   "cell_type": "code",
   "execution_count": 4,
   "id": "99c103b5",
   "metadata": {},
   "outputs": [
    {
     "name": "stdout",
     "output_type": "stream",
     "text": [
      "root\n",
      " |-- loan_id: string (nullable = true)\n",
      " |-- member_id: string (nullable = true)\n",
      " |-- loan_amnt: double (nullable = true)\n",
      " |-- funded_amnt: double (nullable = true)\n",
      " |-- term: string (nullable = true)\n",
      " |-- int_rate: double (nullable = true)\n",
      " |-- installment: double (nullable = true)\n",
      " |-- issue_d: string (nullable = true)\n",
      " |-- loan_status: string (nullable = true)\n",
      " |-- purpose: string (nullable = true)\n",
      " |-- title: string (nullable = true)\n",
      "\n"
     ]
    }
   ],
   "source": [
    "loans_raw_df.printSchema()"
   ]
  },
  {
   "cell_type": "code",
   "execution_count": 5,
   "id": "9114bb3e",
   "metadata": {},
   "outputs": [],
   "source": [
    "loans_schema = \"loan_id string, member_id string, loan_amount float, funded_amount float, loan_term_months string, interest_rate float, monthly_installment float, issue_date string, loan_status string, loan_purpose string, loan_title string\""
   ]
  },
  {
   "cell_type": "code",
   "execution_count": 6,
   "id": "c136b947",
   "metadata": {},
   "outputs": [],
   "source": [
    "loans_raw_df = spark.read \\\n",
    ".format(\"csv\") \\\n",
    ".option(\"header\", True) \\\n",
    ".schema(loans_schema) \\\n",
    ".load(\"/user/itv015970/lendingclubproject/raw/loans_data_csv\")"
   ]
  },
  {
   "cell_type": "code",
   "execution_count": 7,
   "id": "2d93ae67",
   "metadata": {},
   "outputs": [
    {
     "data": {
      "text/html": [
       "<table border='1'>\n",
       "<tr><th>loan_id</th><th>member_id</th><th>loan_amount</th><th>funded_amount</th><th>loan_term_months</th><th>interest_rate</th><th>monthly_installment</th><th>issue_date</th><th>loan_status</th><th>loan_purpose</th><th>loan_title</th></tr>\n",
       "<tr><td>14408468</td><td>5d7676571dee53d06...</td><td>5000.0</td><td>5000.0</td><td>36 months</td><td>14.16</td><td>171.28</td><td>Apr-2014</td><td>Fully Paid</td><td>debt_consolidation</td><td>Debt consolidation</td></tr>\n",
       "<tr><td>14520567</td><td>31fd1ef036c5caf26...</td><td>11000.0</td><td>11000.0</td><td>36 months</td><td>9.67</td><td>353.24</td><td>Apr-2014</td><td>Fully Paid</td><td>other</td><td>Other</td></tr>\n",
       "<tr><td>14708730</td><td>9b48253ca5848fa78...</td><td>25000.0</td><td>25000.0</td><td>36 months</td><td>11.99</td><td>830.24</td><td>May-2014</td><td>Charged Off</td><td>credit_card</td><td>Credit card refin...</td></tr>\n",
       "<tr><td>14491003</td><td>d6b8f2e32be148721...</td><td>1500.0</td><td>1500.0</td><td>36 months</td><td>23.43</td><td>58.41</td><td>Apr-2014</td><td>Fully Paid</td><td>renewable_energy</td><td>Green loan</td></tr>\n",
       "<tr><td>14510981</td><td>0a81ad556e20bcdb9...</td><td>10000.0</td><td>10000.0</td><td>36 months</td><td>12.99</td><td>336.9</td><td>Apr-2014</td><td>Fully Paid</td><td>debt_consolidation</td><td>Debt consolidation</td></tr>\n",
       "<tr><td>14177845</td><td>843b995d39160ddab...</td><td>13200.0</td><td>13200.0</td><td>60 months</td><td>12.99</td><td>300.28</td><td>Apr-2014</td><td>Charged Off</td><td>debt_consolidation</td><td>Debt consolidation</td></tr>\n",
       "<tr><td>13947687</td><td>04a8bd7c4e1407ba8...</td><td>10000.0</td><td>10000.0</td><td>60 months</td><td>17.57</td><td>251.61</td><td>Apr-2014</td><td>Fully Paid</td><td>other</td><td>Other</td></tr>\n",
       "<tr><td>12905731</td><td>3e9a89fa96988af68...</td><td>18000.0</td><td>18000.0</td><td>36 months</td><td>18.25</td><td>653.01</td><td>May-2014</td><td>Fully Paid</td><td>home_improvement</td><td>Home improvement</td></tr>\n",
       "<tr><td>14137736</td><td>394a8db0bd3bcf7de...</td><td>12000.0</td><td>12000.0</td><td>36 months</td><td>9.67</td><td>385.35</td><td>Apr-2014</td><td>Fully Paid</td><td>debt_consolidation</td><td>Debt consolidation</td></tr>\n",
       "<tr><td>13207083</td><td>09cea8d2b6f1272f7...</td><td>3200.0</td><td>3200.0</td><td>36 months</td><td>20.49</td><td>119.73</td><td>Apr-2014</td><td>Fully Paid</td><td>credit_card</td><td>Credit card refin...</td></tr>\n",
       "<tr><td>9005163</td><td>bc13b4bf12b2fb93f...</td><td>19800.0</td><td>19800.0</td><td>60 months</td><td>15.61</td><td>477.41</td><td>Apr-2014</td><td>Current</td><td>debt_consolidation</td><td>Debt consolidation</td></tr>\n",
       "<tr><td>14008700</td><td>dcc3cce84164a1a4f...</td><td>14150.0</td><td>14150.0</td><td>60 months</td><td>16.59</td><td>348.56</td><td>Apr-2014</td><td>Current</td><td>credit_card</td><td>Credit card refin...</td></tr>\n",
       "<tr><td>13107355</td><td>a8c2898592c8c34ea...</td><td>11850.0</td><td>11850.0</td><td>36 months</td><td>20.49</td><td>443.36</td><td>Apr-2014</td><td>Fully Paid</td><td>debt_consolidation</td><td>Debt consolidation</td></tr>\n",
       "<tr><td>14288329</td><td>2ab161847c8ce1f3e...</td><td>25000.0</td><td>25000.0</td><td>60 months</td><td>21.99</td><td>690.34</td><td>Apr-2014</td><td>Fully Paid</td><td>debt_consolidation</td><td>Debt consolidation</td></tr>\n",
       "<tr><td>14308144</td><td>9886b3db401c1d460...</td><td>15000.0</td><td>15000.0</td><td>60 months</td><td>15.61</td><td>361.67</td><td>Apr-2014</td><td>Fully Paid</td><td>major_purchase</td><td>Major purchase</td></tr>\n",
       "<tr><td>14009407</td><td>7b62e3c918a7f9eb8...</td><td>9625.0</td><td>9625.0</td><td>36 months</td><td>13.65</td><td>327.33</td><td>Apr-2014</td><td>Fully Paid</td><td>credit_card</td><td>Credit card refin...</td></tr>\n",
       "<tr><td>6583213</td><td>698b533486c4900d4...</td><td>17500.0</td><td>17500.0</td><td>36 months</td><td>9.67</td><td>561.97</td><td>Apr-2014</td><td>Fully Paid</td><td>debt_consolidation</td><td>Debt consolidation</td></tr>\n",
       "<tr><td>12597061</td><td>0b07196bd0485e4c2...</td><td>7700.0</td><td>7700.0</td><td>36 months</td><td>12.99</td><td>259.41</td><td>Apr-2014</td><td>Fully Paid</td><td>debt_consolidation</td><td>Debt consolidation</td></tr>\n",
       "<tr><td>12468587</td><td>92e61f312d73c874d...</td><td>3600.0</td><td>3600.0</td><td>36 months</td><td>22.45</td><td>138.33</td><td>Apr-2014</td><td>Fully Paid</td><td>debt_consolidation</td><td>Debt consolidation</td></tr>\n",
       "<tr><td>12486035</td><td>a2eb7934b6490e443...</td><td>14250.0</td><td>14250.0</td><td>60 months</td><td>21.99</td><td>393.49</td><td>Apr-2014</td><td>Fully Paid</td><td>home_improvement</td><td>Home improvement</td></tr>\n",
       "</table>\n",
       "only showing top 20 rows\n"
      ],
      "text/plain": [
       "+--------+--------------------+-----------+-------------+----------------+-------------+-------------------+----------+-----------+------------------+--------------------+\n",
       "| loan_id|           member_id|loan_amount|funded_amount|loan_term_months|interest_rate|monthly_installment|issue_date|loan_status|      loan_purpose|          loan_title|\n",
       "+--------+--------------------+-----------+-------------+----------------+-------------+-------------------+----------+-----------+------------------+--------------------+\n",
       "|14408468|5d7676571dee53d06...|     5000.0|       5000.0|       36 months|        14.16|             171.28|  Apr-2014| Fully Paid|debt_consolidation|  Debt consolidation|\n",
       "|14520567|31fd1ef036c5caf26...|    11000.0|      11000.0|       36 months|         9.67|             353.24|  Apr-2014| Fully Paid|             other|               Other|\n",
       "|14708730|9b48253ca5848fa78...|    25000.0|      25000.0|       36 months|        11.99|             830.24|  May-2014|Charged Off|       credit_card|Credit card refin...|\n",
       "|14491003|d6b8f2e32be148721...|     1500.0|       1500.0|       36 months|        23.43|              58.41|  Apr-2014| Fully Paid|  renewable_energy|          Green loan|\n",
       "|14510981|0a81ad556e20bcdb9...|    10000.0|      10000.0|       36 months|        12.99|              336.9|  Apr-2014| Fully Paid|debt_consolidation|  Debt consolidation|\n",
       "|14177845|843b995d39160ddab...|    13200.0|      13200.0|       60 months|        12.99|             300.28|  Apr-2014|Charged Off|debt_consolidation|  Debt consolidation|\n",
       "|13947687|04a8bd7c4e1407ba8...|    10000.0|      10000.0|       60 months|        17.57|             251.61|  Apr-2014| Fully Paid|             other|               Other|\n",
       "|12905731|3e9a89fa96988af68...|    18000.0|      18000.0|       36 months|        18.25|             653.01|  May-2014| Fully Paid|  home_improvement|    Home improvement|\n",
       "|14137736|394a8db0bd3bcf7de...|    12000.0|      12000.0|       36 months|         9.67|             385.35|  Apr-2014| Fully Paid|debt_consolidation|  Debt consolidation|\n",
       "|13207083|09cea8d2b6f1272f7...|     3200.0|       3200.0|       36 months|        20.49|             119.73|  Apr-2014| Fully Paid|       credit_card|Credit card refin...|\n",
       "| 9005163|bc13b4bf12b2fb93f...|    19800.0|      19800.0|       60 months|        15.61|             477.41|  Apr-2014|    Current|debt_consolidation|  Debt consolidation|\n",
       "|14008700|dcc3cce84164a1a4f...|    14150.0|      14150.0|       60 months|        16.59|             348.56|  Apr-2014|    Current|       credit_card|Credit card refin...|\n",
       "|13107355|a8c2898592c8c34ea...|    11850.0|      11850.0|       36 months|        20.49|             443.36|  Apr-2014| Fully Paid|debt_consolidation|  Debt consolidation|\n",
       "|14288329|2ab161847c8ce1f3e...|    25000.0|      25000.0|       60 months|        21.99|             690.34|  Apr-2014| Fully Paid|debt_consolidation|  Debt consolidation|\n",
       "|14308144|9886b3db401c1d460...|    15000.0|      15000.0|       60 months|        15.61|             361.67|  Apr-2014| Fully Paid|    major_purchase|      Major purchase|\n",
       "|14009407|7b62e3c918a7f9eb8...|     9625.0|       9625.0|       36 months|        13.65|             327.33|  Apr-2014| Fully Paid|       credit_card|Credit card refin...|\n",
       "| 6583213|698b533486c4900d4...|    17500.0|      17500.0|       36 months|         9.67|             561.97|  Apr-2014| Fully Paid|debt_consolidation|  Debt consolidation|\n",
       "|12597061|0b07196bd0485e4c2...|     7700.0|       7700.0|       36 months|        12.99|             259.41|  Apr-2014| Fully Paid|debt_consolidation|  Debt consolidation|\n",
       "|12468587|92e61f312d73c874d...|     3600.0|       3600.0|       36 months|        22.45|             138.33|  Apr-2014| Fully Paid|debt_consolidation|  Debt consolidation|\n",
       "|12486035|a2eb7934b6490e443...|    14250.0|      14250.0|       60 months|        21.99|             393.49|  Apr-2014| Fully Paid|  home_improvement|    Home improvement|\n",
       "+--------+--------------------+-----------+-------------+----------------+-------------+-------------------+----------+-----------+------------------+--------------------+\n",
       "only showing top 20 rows"
      ]
     },
     "execution_count": 7,
     "metadata": {},
     "output_type": "execute_result"
    }
   ],
   "source": [
    "loans_raw_df"
   ]
  },
  {
   "cell_type": "code",
   "execution_count": 8,
   "id": "d959ae30",
   "metadata": {},
   "outputs": [
    {
     "name": "stdout",
     "output_type": "stream",
     "text": [
      "root\n",
      " |-- loan_id: string (nullable = true)\n",
      " |-- member_id: string (nullable = true)\n",
      " |-- loan_amount: float (nullable = true)\n",
      " |-- funded_amount: float (nullable = true)\n",
      " |-- loan_term_months: string (nullable = true)\n",
      " |-- interest_rate: float (nullable = true)\n",
      " |-- monthly_installment: float (nullable = true)\n",
      " |-- issue_date: string (nullable = true)\n",
      " |-- loan_status: string (nullable = true)\n",
      " |-- loan_purpose: string (nullable = true)\n",
      " |-- loan_title: string (nullable = true)\n",
      "\n"
     ]
    }
   ],
   "source": [
    "loans_raw_df.printSchema()"
   ]
  },
  {
   "cell_type": "code",
   "execution_count": 9,
   "id": "b200114e",
   "metadata": {},
   "outputs": [],
   "source": [
    "# ingest timestamp column in data frame\n",
    "from pyspark.sql.functions import current_timestamp"
   ]
  },
  {
   "cell_type": "code",
   "execution_count": 10,
   "id": "0cbb4b0d",
   "metadata": {},
   "outputs": [],
   "source": [
    "loans_df_ingestd = loans_raw_df.withColumn(\"ingest_date\", current_timestamp())"
   ]
  },
  {
   "cell_type": "code",
   "execution_count": 11,
   "id": "0d142b66",
   "metadata": {},
   "outputs": [
    {
     "data": {
      "text/html": [
       "<table border='1'>\n",
       "<tr><th>loan_id</th><th>member_id</th><th>loan_amount</th><th>funded_amount</th><th>loan_term_months</th><th>interest_rate</th><th>monthly_installment</th><th>issue_date</th><th>loan_status</th><th>loan_purpose</th><th>loan_title</th><th>ingest_date</th></tr>\n",
       "<tr><td>14408468</td><td>5d7676571dee53d06...</td><td>5000.0</td><td>5000.0</td><td>36 months</td><td>14.16</td><td>171.28</td><td>Apr-2014</td><td>Fully Paid</td><td>debt_consolidation</td><td>Debt consolidation</td><td>2025-05-26 12:04:...</td></tr>\n",
       "<tr><td>14520567</td><td>31fd1ef036c5caf26...</td><td>11000.0</td><td>11000.0</td><td>36 months</td><td>9.67</td><td>353.24</td><td>Apr-2014</td><td>Fully Paid</td><td>other</td><td>Other</td><td>2025-05-26 12:04:...</td></tr>\n",
       "<tr><td>14708730</td><td>9b48253ca5848fa78...</td><td>25000.0</td><td>25000.0</td><td>36 months</td><td>11.99</td><td>830.24</td><td>May-2014</td><td>Charged Off</td><td>credit_card</td><td>Credit card refin...</td><td>2025-05-26 12:04:...</td></tr>\n",
       "<tr><td>14491003</td><td>d6b8f2e32be148721...</td><td>1500.0</td><td>1500.0</td><td>36 months</td><td>23.43</td><td>58.41</td><td>Apr-2014</td><td>Fully Paid</td><td>renewable_energy</td><td>Green loan</td><td>2025-05-26 12:04:...</td></tr>\n",
       "<tr><td>14510981</td><td>0a81ad556e20bcdb9...</td><td>10000.0</td><td>10000.0</td><td>36 months</td><td>12.99</td><td>336.9</td><td>Apr-2014</td><td>Fully Paid</td><td>debt_consolidation</td><td>Debt consolidation</td><td>2025-05-26 12:04:...</td></tr>\n",
       "<tr><td>14177845</td><td>843b995d39160ddab...</td><td>13200.0</td><td>13200.0</td><td>60 months</td><td>12.99</td><td>300.28</td><td>Apr-2014</td><td>Charged Off</td><td>debt_consolidation</td><td>Debt consolidation</td><td>2025-05-26 12:04:...</td></tr>\n",
       "<tr><td>13947687</td><td>04a8bd7c4e1407ba8...</td><td>10000.0</td><td>10000.0</td><td>60 months</td><td>17.57</td><td>251.61</td><td>Apr-2014</td><td>Fully Paid</td><td>other</td><td>Other</td><td>2025-05-26 12:04:...</td></tr>\n",
       "<tr><td>12905731</td><td>3e9a89fa96988af68...</td><td>18000.0</td><td>18000.0</td><td>36 months</td><td>18.25</td><td>653.01</td><td>May-2014</td><td>Fully Paid</td><td>home_improvement</td><td>Home improvement</td><td>2025-05-26 12:04:...</td></tr>\n",
       "<tr><td>14137736</td><td>394a8db0bd3bcf7de...</td><td>12000.0</td><td>12000.0</td><td>36 months</td><td>9.67</td><td>385.35</td><td>Apr-2014</td><td>Fully Paid</td><td>debt_consolidation</td><td>Debt consolidation</td><td>2025-05-26 12:04:...</td></tr>\n",
       "<tr><td>13207083</td><td>09cea8d2b6f1272f7...</td><td>3200.0</td><td>3200.0</td><td>36 months</td><td>20.49</td><td>119.73</td><td>Apr-2014</td><td>Fully Paid</td><td>credit_card</td><td>Credit card refin...</td><td>2025-05-26 12:04:...</td></tr>\n",
       "<tr><td>9005163</td><td>bc13b4bf12b2fb93f...</td><td>19800.0</td><td>19800.0</td><td>60 months</td><td>15.61</td><td>477.41</td><td>Apr-2014</td><td>Current</td><td>debt_consolidation</td><td>Debt consolidation</td><td>2025-05-26 12:04:...</td></tr>\n",
       "<tr><td>14008700</td><td>dcc3cce84164a1a4f...</td><td>14150.0</td><td>14150.0</td><td>60 months</td><td>16.59</td><td>348.56</td><td>Apr-2014</td><td>Current</td><td>credit_card</td><td>Credit card refin...</td><td>2025-05-26 12:04:...</td></tr>\n",
       "<tr><td>13107355</td><td>a8c2898592c8c34ea...</td><td>11850.0</td><td>11850.0</td><td>36 months</td><td>20.49</td><td>443.36</td><td>Apr-2014</td><td>Fully Paid</td><td>debt_consolidation</td><td>Debt consolidation</td><td>2025-05-26 12:04:...</td></tr>\n",
       "<tr><td>14288329</td><td>2ab161847c8ce1f3e...</td><td>25000.0</td><td>25000.0</td><td>60 months</td><td>21.99</td><td>690.34</td><td>Apr-2014</td><td>Fully Paid</td><td>debt_consolidation</td><td>Debt consolidation</td><td>2025-05-26 12:04:...</td></tr>\n",
       "<tr><td>14308144</td><td>9886b3db401c1d460...</td><td>15000.0</td><td>15000.0</td><td>60 months</td><td>15.61</td><td>361.67</td><td>Apr-2014</td><td>Fully Paid</td><td>major_purchase</td><td>Major purchase</td><td>2025-05-26 12:04:...</td></tr>\n",
       "<tr><td>14009407</td><td>7b62e3c918a7f9eb8...</td><td>9625.0</td><td>9625.0</td><td>36 months</td><td>13.65</td><td>327.33</td><td>Apr-2014</td><td>Fully Paid</td><td>credit_card</td><td>Credit card refin...</td><td>2025-05-26 12:04:...</td></tr>\n",
       "<tr><td>6583213</td><td>698b533486c4900d4...</td><td>17500.0</td><td>17500.0</td><td>36 months</td><td>9.67</td><td>561.97</td><td>Apr-2014</td><td>Fully Paid</td><td>debt_consolidation</td><td>Debt consolidation</td><td>2025-05-26 12:04:...</td></tr>\n",
       "<tr><td>12597061</td><td>0b07196bd0485e4c2...</td><td>7700.0</td><td>7700.0</td><td>36 months</td><td>12.99</td><td>259.41</td><td>Apr-2014</td><td>Fully Paid</td><td>debt_consolidation</td><td>Debt consolidation</td><td>2025-05-26 12:04:...</td></tr>\n",
       "<tr><td>12468587</td><td>92e61f312d73c874d...</td><td>3600.0</td><td>3600.0</td><td>36 months</td><td>22.45</td><td>138.33</td><td>Apr-2014</td><td>Fully Paid</td><td>debt_consolidation</td><td>Debt consolidation</td><td>2025-05-26 12:04:...</td></tr>\n",
       "<tr><td>12486035</td><td>a2eb7934b6490e443...</td><td>14250.0</td><td>14250.0</td><td>60 months</td><td>21.99</td><td>393.49</td><td>Apr-2014</td><td>Fully Paid</td><td>home_improvement</td><td>Home improvement</td><td>2025-05-26 12:04:...</td></tr>\n",
       "</table>\n",
       "only showing top 20 rows\n"
      ],
      "text/plain": [
       "+--------+--------------------+-----------+-------------+----------------+-------------+-------------------+----------+-----------+------------------+--------------------+--------------------+\n",
       "| loan_id|           member_id|loan_amount|funded_amount|loan_term_months|interest_rate|monthly_installment|issue_date|loan_status|      loan_purpose|          loan_title|         ingest_date|\n",
       "+--------+--------------------+-----------+-------------+----------------+-------------+-------------------+----------+-----------+------------------+--------------------+--------------------+\n",
       "|14408468|5d7676571dee53d06...|     5000.0|       5000.0|       36 months|        14.16|             171.28|  Apr-2014| Fully Paid|debt_consolidation|  Debt consolidation|2025-05-26 12:04:...|\n",
       "|14520567|31fd1ef036c5caf26...|    11000.0|      11000.0|       36 months|         9.67|             353.24|  Apr-2014| Fully Paid|             other|               Other|2025-05-26 12:04:...|\n",
       "|14708730|9b48253ca5848fa78...|    25000.0|      25000.0|       36 months|        11.99|             830.24|  May-2014|Charged Off|       credit_card|Credit card refin...|2025-05-26 12:04:...|\n",
       "|14491003|d6b8f2e32be148721...|     1500.0|       1500.0|       36 months|        23.43|              58.41|  Apr-2014| Fully Paid|  renewable_energy|          Green loan|2025-05-26 12:04:...|\n",
       "|14510981|0a81ad556e20bcdb9...|    10000.0|      10000.0|       36 months|        12.99|              336.9|  Apr-2014| Fully Paid|debt_consolidation|  Debt consolidation|2025-05-26 12:04:...|\n",
       "|14177845|843b995d39160ddab...|    13200.0|      13200.0|       60 months|        12.99|             300.28|  Apr-2014|Charged Off|debt_consolidation|  Debt consolidation|2025-05-26 12:04:...|\n",
       "|13947687|04a8bd7c4e1407ba8...|    10000.0|      10000.0|       60 months|        17.57|             251.61|  Apr-2014| Fully Paid|             other|               Other|2025-05-26 12:04:...|\n",
       "|12905731|3e9a89fa96988af68...|    18000.0|      18000.0|       36 months|        18.25|             653.01|  May-2014| Fully Paid|  home_improvement|    Home improvement|2025-05-26 12:04:...|\n",
       "|14137736|394a8db0bd3bcf7de...|    12000.0|      12000.0|       36 months|         9.67|             385.35|  Apr-2014| Fully Paid|debt_consolidation|  Debt consolidation|2025-05-26 12:04:...|\n",
       "|13207083|09cea8d2b6f1272f7...|     3200.0|       3200.0|       36 months|        20.49|             119.73|  Apr-2014| Fully Paid|       credit_card|Credit card refin...|2025-05-26 12:04:...|\n",
       "| 9005163|bc13b4bf12b2fb93f...|    19800.0|      19800.0|       60 months|        15.61|             477.41|  Apr-2014|    Current|debt_consolidation|  Debt consolidation|2025-05-26 12:04:...|\n",
       "|14008700|dcc3cce84164a1a4f...|    14150.0|      14150.0|       60 months|        16.59|             348.56|  Apr-2014|    Current|       credit_card|Credit card refin...|2025-05-26 12:04:...|\n",
       "|13107355|a8c2898592c8c34ea...|    11850.0|      11850.0|       36 months|        20.49|             443.36|  Apr-2014| Fully Paid|debt_consolidation|  Debt consolidation|2025-05-26 12:04:...|\n",
       "|14288329|2ab161847c8ce1f3e...|    25000.0|      25000.0|       60 months|        21.99|             690.34|  Apr-2014| Fully Paid|debt_consolidation|  Debt consolidation|2025-05-26 12:04:...|\n",
       "|14308144|9886b3db401c1d460...|    15000.0|      15000.0|       60 months|        15.61|             361.67|  Apr-2014| Fully Paid|    major_purchase|      Major purchase|2025-05-26 12:04:...|\n",
       "|14009407|7b62e3c918a7f9eb8...|     9625.0|       9625.0|       36 months|        13.65|             327.33|  Apr-2014| Fully Paid|       credit_card|Credit card refin...|2025-05-26 12:04:...|\n",
       "| 6583213|698b533486c4900d4...|    17500.0|      17500.0|       36 months|         9.67|             561.97|  Apr-2014| Fully Paid|debt_consolidation|  Debt consolidation|2025-05-26 12:04:...|\n",
       "|12597061|0b07196bd0485e4c2...|     7700.0|       7700.0|       36 months|        12.99|             259.41|  Apr-2014| Fully Paid|debt_consolidation|  Debt consolidation|2025-05-26 12:04:...|\n",
       "|12468587|92e61f312d73c874d...|     3600.0|       3600.0|       36 months|        22.45|             138.33|  Apr-2014| Fully Paid|debt_consolidation|  Debt consolidation|2025-05-26 12:04:...|\n",
       "|12486035|a2eb7934b6490e443...|    14250.0|      14250.0|       60 months|        21.99|             393.49|  Apr-2014| Fully Paid|  home_improvement|    Home improvement|2025-05-26 12:04:...|\n",
       "+--------+--------------------+-----------+-------------+----------------+-------------+-------------------+----------+-----------+------------------+--------------------+--------------------+\n",
       "only showing top 20 rows"
      ]
     },
     "execution_count": 11,
     "metadata": {},
     "output_type": "execute_result"
    }
   ],
   "source": [
    "loans_df_ingestd"
   ]
  },
  {
   "cell_type": "code",
   "execution_count": 12,
   "id": "ad2a9917",
   "metadata": {},
   "outputs": [],
   "source": [
    "loans_df_ingestd.createOrReplaceTempView(\"loans\")"
   ]
  },
  {
   "cell_type": "code",
   "execution_count": 13,
   "id": "351c4d67",
   "metadata": {},
   "outputs": [
    {
     "data": {
      "text/html": [
       "<table border='1'>\n",
       "<tr><th>count(1)</th></tr>\n",
       "<tr><td>2260701</td></tr>\n",
       "</table>\n"
      ],
      "text/plain": [
       "+--------+\n",
       "|count(1)|\n",
       "+--------+\n",
       "| 2260701|\n",
       "+--------+"
      ]
     },
     "execution_count": 13,
     "metadata": {},
     "output_type": "execute_result"
    }
   ],
   "source": [
    "spark.sql(\"select count(*) from loans\")"
   ]
  },
  {
   "cell_type": "code",
   "execution_count": 14,
   "id": "f675b211",
   "metadata": {},
   "outputs": [
    {
     "data": {
      "text/html": [
       "<table border='1'>\n",
       "<tr><th>count(1)</th></tr>\n",
       "<tr><td>33</td></tr>\n",
       "</table>\n"
      ],
      "text/plain": [
       "+--------+\n",
       "|count(1)|\n",
       "+--------+\n",
       "|      33|\n",
       "+--------+"
      ]
     },
     "execution_count": 14,
     "metadata": {},
     "output_type": "execute_result"
    }
   ],
   "source": [
    "spark.sql(\"select count(*) from loans where loan_amount is null\")"
   ]
  },
  {
   "cell_type": "code",
   "execution_count": 15,
   "id": "8ff8007a",
   "metadata": {},
   "outputs": [
    {
     "data": {
      "text/html": [
       "<table border='1'>\n",
       "<tr><th>loan_id</th><th>member_id</th><th>loan_amount</th><th>funded_amount</th><th>loan_term_months</th><th>interest_rate</th><th>monthly_installment</th><th>issue_date</th><th>loan_status</th><th>loan_purpose</th><th>loan_title</th><th>ingest_date</th></tr>\n",
       "<tr><td>Total amount fund...</td><td>e3b0c44298fc1c149...</td><td>null</td><td>null</td><td>null</td><td>null</td><td>null</td><td>null</td><td>null</td><td>null</td><td>null</td><td>2025-05-26 12:04:...</td></tr>\n",
       "<tr><td>Total amount fund...</td><td>e3b0c44298fc1c149...</td><td>null</td><td>null</td><td>null</td><td>null</td><td>null</td><td>null</td><td>null</td><td>null</td><td>null</td><td>2025-05-26 12:04:...</td></tr>\n",
       "<tr><td>Total amount fund...</td><td>e3b0c44298fc1c149...</td><td>null</td><td>null</td><td>null</td><td>null</td><td>null</td><td>null</td><td>null</td><td>null</td><td>null</td><td>2025-05-26 12:04:...</td></tr>\n",
       "<tr><td>Total amount fund...</td><td>e3b0c44298fc1c149...</td><td>null</td><td>null</td><td>null</td><td>null</td><td>null</td><td>null</td><td>null</td><td>null</td><td>null</td><td>2025-05-26 12:04:...</td></tr>\n",
       "<tr><td>Total amount fund...</td><td>e3b0c44298fc1c149...</td><td>null</td><td>null</td><td>null</td><td>null</td><td>null</td><td>null</td><td>null</td><td>null</td><td>null</td><td>2025-05-26 12:04:...</td></tr>\n",
       "<tr><td>Total amount fund...</td><td>e3b0c44298fc1c149...</td><td>null</td><td>null</td><td>null</td><td>null</td><td>null</td><td>null</td><td>null</td><td>null</td><td>null</td><td>2025-05-26 12:04:...</td></tr>\n",
       "<tr><td>Total amount fund...</td><td>e3b0c44298fc1c149...</td><td>null</td><td>null</td><td>null</td><td>null</td><td>null</td><td>null</td><td>null</td><td>null</td><td>null</td><td>2025-05-26 12:04:...</td></tr>\n",
       "<tr><td>Total amount fund...</td><td>e3b0c44298fc1c149...</td><td>null</td><td>null</td><td>null</td><td>null</td><td>null</td><td>null</td><td>null</td><td>null</td><td>null</td><td>2025-05-26 12:04:...</td></tr>\n",
       "<tr><td>Loans that do not...</td><td>e3b0c44298fc1c149...</td><td>null</td><td>null</td><td>null</td><td>null</td><td>null</td><td>null</td><td>null</td><td>null</td><td>null</td><td>2025-05-26 12:04:...</td></tr>\n",
       "<tr><td>Total amount fund...</td><td>e3b0c44298fc1c149...</td><td>null</td><td>null</td><td>null</td><td>null</td><td>null</td><td>null</td><td>null</td><td>null</td><td>null</td><td>2025-05-26 12:04:...</td></tr>\n",
       "<tr><td>Total amount fund...</td><td>e3b0c44298fc1c149...</td><td>null</td><td>null</td><td>null</td><td>null</td><td>null</td><td>null</td><td>null</td><td>null</td><td>null</td><td>2025-05-26 12:04:...</td></tr>\n",
       "<tr><td>Total amount fund...</td><td>e3b0c44298fc1c149...</td><td>null</td><td>null</td><td>null</td><td>null</td><td>null</td><td>null</td><td>null</td><td>null</td><td>null</td><td>2025-05-26 12:04:...</td></tr>\n",
       "<tr><td>Total amount fund...</td><td>e3b0c44298fc1c149...</td><td>null</td><td>null</td><td>null</td><td>null</td><td>null</td><td>null</td><td>null</td><td>null</td><td>null</td><td>2025-05-26 12:04:...</td></tr>\n",
       "<tr><td>Total amount fund...</td><td>e3b0c44298fc1c149...</td><td>null</td><td>null</td><td>null</td><td>null</td><td>null</td><td>null</td><td>null</td><td>null</td><td>null</td><td>2025-05-26 12:04:...</td></tr>\n",
       "<tr><td>Total amount fund...</td><td>e3b0c44298fc1c149...</td><td>null</td><td>null</td><td>null</td><td>null</td><td>null</td><td>null</td><td>null</td><td>null</td><td>null</td><td>2025-05-26 12:04:...</td></tr>\n",
       "<tr><td>Total amount fund...</td><td>e3b0c44298fc1c149...</td><td>null</td><td>null</td><td>null</td><td>null</td><td>null</td><td>null</td><td>null</td><td>null</td><td>null</td><td>2025-05-26 12:04:...</td></tr>\n",
       "<tr><td>Total amount fund...</td><td>e3b0c44298fc1c149...</td><td>null</td><td>null</td><td>null</td><td>null</td><td>null</td><td>null</td><td>null</td><td>null</td><td>null</td><td>2025-05-26 12:04:...</td></tr>\n",
       "<tr><td>Total amount fund...</td><td>e3b0c44298fc1c149...</td><td>null</td><td>null</td><td>null</td><td>null</td><td>null</td><td>null</td><td>null</td><td>null</td><td>null</td><td>2025-05-26 12:04:...</td></tr>\n",
       "<tr><td>Total amount fund...</td><td>e3b0c44298fc1c149...</td><td>null</td><td>null</td><td>null</td><td>null</td><td>null</td><td>null</td><td>null</td><td>null</td><td>null</td><td>2025-05-26 12:04:...</td></tr>\n",
       "<tr><td>Total amount fund...</td><td>e3b0c44298fc1c149...</td><td>null</td><td>null</td><td>null</td><td>null</td><td>null</td><td>null</td><td>null</td><td>null</td><td>null</td><td>2025-05-26 12:04:...</td></tr>\n",
       "</table>\n",
       "only showing top 20 rows\n"
      ],
      "text/plain": [
       "+--------------------+--------------------+-----------+-------------+----------------+-------------+-------------------+----------+-----------+------------+----------+--------------------+\n",
       "|             loan_id|           member_id|loan_amount|funded_amount|loan_term_months|interest_rate|monthly_installment|issue_date|loan_status|loan_purpose|loan_title|         ingest_date|\n",
       "+--------------------+--------------------+-----------+-------------+----------------+-------------+-------------------+----------+-----------+------------+----------+--------------------+\n",
       "|Total amount fund...|e3b0c44298fc1c149...|       null|         null|            null|         null|               null|      null|       null|        null|      null|2025-05-26 12:04:...|\n",
       "|Total amount fund...|e3b0c44298fc1c149...|       null|         null|            null|         null|               null|      null|       null|        null|      null|2025-05-26 12:04:...|\n",
       "|Total amount fund...|e3b0c44298fc1c149...|       null|         null|            null|         null|               null|      null|       null|        null|      null|2025-05-26 12:04:...|\n",
       "|Total amount fund...|e3b0c44298fc1c149...|       null|         null|            null|         null|               null|      null|       null|        null|      null|2025-05-26 12:04:...|\n",
       "|Total amount fund...|e3b0c44298fc1c149...|       null|         null|            null|         null|               null|      null|       null|        null|      null|2025-05-26 12:04:...|\n",
       "|Total amount fund...|e3b0c44298fc1c149...|       null|         null|            null|         null|               null|      null|       null|        null|      null|2025-05-26 12:04:...|\n",
       "|Total amount fund...|e3b0c44298fc1c149...|       null|         null|            null|         null|               null|      null|       null|        null|      null|2025-05-26 12:04:...|\n",
       "|Total amount fund...|e3b0c44298fc1c149...|       null|         null|            null|         null|               null|      null|       null|        null|      null|2025-05-26 12:04:...|\n",
       "|Loans that do not...|e3b0c44298fc1c149...|       null|         null|            null|         null|               null|      null|       null|        null|      null|2025-05-26 12:04:...|\n",
       "|Total amount fund...|e3b0c44298fc1c149...|       null|         null|            null|         null|               null|      null|       null|        null|      null|2025-05-26 12:04:...|\n",
       "|Total amount fund...|e3b0c44298fc1c149...|       null|         null|            null|         null|               null|      null|       null|        null|      null|2025-05-26 12:04:...|\n",
       "|Total amount fund...|e3b0c44298fc1c149...|       null|         null|            null|         null|               null|      null|       null|        null|      null|2025-05-26 12:04:...|\n",
       "|Total amount fund...|e3b0c44298fc1c149...|       null|         null|            null|         null|               null|      null|       null|        null|      null|2025-05-26 12:04:...|\n",
       "|Total amount fund...|e3b0c44298fc1c149...|       null|         null|            null|         null|               null|      null|       null|        null|      null|2025-05-26 12:04:...|\n",
       "|Total amount fund...|e3b0c44298fc1c149...|       null|         null|            null|         null|               null|      null|       null|        null|      null|2025-05-26 12:04:...|\n",
       "|Total amount fund...|e3b0c44298fc1c149...|       null|         null|            null|         null|               null|      null|       null|        null|      null|2025-05-26 12:04:...|\n",
       "|Total amount fund...|e3b0c44298fc1c149...|       null|         null|            null|         null|               null|      null|       null|        null|      null|2025-05-26 12:04:...|\n",
       "|Total amount fund...|e3b0c44298fc1c149...|       null|         null|            null|         null|               null|      null|       null|        null|      null|2025-05-26 12:04:...|\n",
       "|Total amount fund...|e3b0c44298fc1c149...|       null|         null|            null|         null|               null|      null|       null|        null|      null|2025-05-26 12:04:...|\n",
       "|Total amount fund...|e3b0c44298fc1c149...|       null|         null|            null|         null|               null|      null|       null|        null|      null|2025-05-26 12:04:...|\n",
       "+--------------------+--------------------+-----------+-------------+----------------+-------------+-------------------+----------+-----------+------------+----------+--------------------+\n",
       "only showing top 20 rows"
      ]
     },
     "execution_count": 15,
     "metadata": {},
     "output_type": "execute_result"
    }
   ],
   "source": [
    "spark.sql(\"select * from loans where loan_amount is null\")"
   ]
  },
  {
   "cell_type": "code",
   "execution_count": 16,
   "id": "2fe65fd6",
   "metadata": {},
   "outputs": [],
   "source": [
    "columns_to_check = [\"loan_amount\", \"funded_amount\", \"loan_term_months\", \"interest_rate\", \"monthly_installment\", \"issue_date\", \"loan_status\", \"loan_purpose\"]"
   ]
  },
  {
   "cell_type": "code",
   "execution_count": 17,
   "id": "a9ec7889",
   "metadata": {},
   "outputs": [],
   "source": [
    "loans_filtered_df = loans_df_ingestd.na.drop(subset=columns_to_check)"
   ]
  },
  {
   "cell_type": "code",
   "execution_count": 18,
   "id": "9b811418",
   "metadata": {},
   "outputs": [
    {
     "data": {
      "text/plain": [
       "2260667"
      ]
     },
     "execution_count": 18,
     "metadata": {},
     "output_type": "execute_result"
    }
   ],
   "source": [
    "loans_filtered_df.count()"
   ]
  },
  {
   "cell_type": "code",
   "execution_count": 19,
   "id": "fbb74285",
   "metadata": {},
   "outputs": [],
   "source": [
    "loans_filtered_df.createOrReplaceTempView(\"loans\")"
   ]
  },
  {
   "cell_type": "code",
   "execution_count": 20,
   "id": "5f2879dd",
   "metadata": {},
   "outputs": [
    {
     "data": {
      "text/html": [
       "<table border='1'>\n",
       "<tr><th>loan_id</th><th>member_id</th><th>loan_amount</th><th>funded_amount</th><th>loan_term_months</th><th>interest_rate</th><th>monthly_installment</th><th>issue_date</th><th>loan_status</th><th>loan_purpose</th><th>loan_title</th><th>ingest_date</th></tr>\n",
       "<tr><td>14408468</td><td>5d7676571dee53d06...</td><td>5000.0</td><td>5000.0</td><td>36 months</td><td>14.16</td><td>171.28</td><td>Apr-2014</td><td>Fully Paid</td><td>debt_consolidation</td><td>Debt consolidation</td><td>2025-05-26 12:05:...</td></tr>\n",
       "<tr><td>14520567</td><td>31fd1ef036c5caf26...</td><td>11000.0</td><td>11000.0</td><td>36 months</td><td>9.67</td><td>353.24</td><td>Apr-2014</td><td>Fully Paid</td><td>other</td><td>Other</td><td>2025-05-26 12:05:...</td></tr>\n",
       "<tr><td>14708730</td><td>9b48253ca5848fa78...</td><td>25000.0</td><td>25000.0</td><td>36 months</td><td>11.99</td><td>830.24</td><td>May-2014</td><td>Charged Off</td><td>credit_card</td><td>Credit card refin...</td><td>2025-05-26 12:05:...</td></tr>\n",
       "<tr><td>14491003</td><td>d6b8f2e32be148721...</td><td>1500.0</td><td>1500.0</td><td>36 months</td><td>23.43</td><td>58.41</td><td>Apr-2014</td><td>Fully Paid</td><td>renewable_energy</td><td>Green loan</td><td>2025-05-26 12:05:...</td></tr>\n",
       "<tr><td>14510981</td><td>0a81ad556e20bcdb9...</td><td>10000.0</td><td>10000.0</td><td>36 months</td><td>12.99</td><td>336.9</td><td>Apr-2014</td><td>Fully Paid</td><td>debt_consolidation</td><td>Debt consolidation</td><td>2025-05-26 12:05:...</td></tr>\n",
       "<tr><td>14177845</td><td>843b995d39160ddab...</td><td>13200.0</td><td>13200.0</td><td>60 months</td><td>12.99</td><td>300.28</td><td>Apr-2014</td><td>Charged Off</td><td>debt_consolidation</td><td>Debt consolidation</td><td>2025-05-26 12:05:...</td></tr>\n",
       "<tr><td>13947687</td><td>04a8bd7c4e1407ba8...</td><td>10000.0</td><td>10000.0</td><td>60 months</td><td>17.57</td><td>251.61</td><td>Apr-2014</td><td>Fully Paid</td><td>other</td><td>Other</td><td>2025-05-26 12:05:...</td></tr>\n",
       "<tr><td>12905731</td><td>3e9a89fa96988af68...</td><td>18000.0</td><td>18000.0</td><td>36 months</td><td>18.25</td><td>653.01</td><td>May-2014</td><td>Fully Paid</td><td>home_improvement</td><td>Home improvement</td><td>2025-05-26 12:05:...</td></tr>\n",
       "<tr><td>14137736</td><td>394a8db0bd3bcf7de...</td><td>12000.0</td><td>12000.0</td><td>36 months</td><td>9.67</td><td>385.35</td><td>Apr-2014</td><td>Fully Paid</td><td>debt_consolidation</td><td>Debt consolidation</td><td>2025-05-26 12:05:...</td></tr>\n",
       "<tr><td>13207083</td><td>09cea8d2b6f1272f7...</td><td>3200.0</td><td>3200.0</td><td>36 months</td><td>20.49</td><td>119.73</td><td>Apr-2014</td><td>Fully Paid</td><td>credit_card</td><td>Credit card refin...</td><td>2025-05-26 12:05:...</td></tr>\n",
       "<tr><td>9005163</td><td>bc13b4bf12b2fb93f...</td><td>19800.0</td><td>19800.0</td><td>60 months</td><td>15.61</td><td>477.41</td><td>Apr-2014</td><td>Current</td><td>debt_consolidation</td><td>Debt consolidation</td><td>2025-05-26 12:05:...</td></tr>\n",
       "<tr><td>14008700</td><td>dcc3cce84164a1a4f...</td><td>14150.0</td><td>14150.0</td><td>60 months</td><td>16.59</td><td>348.56</td><td>Apr-2014</td><td>Current</td><td>credit_card</td><td>Credit card refin...</td><td>2025-05-26 12:05:...</td></tr>\n",
       "<tr><td>13107355</td><td>a8c2898592c8c34ea...</td><td>11850.0</td><td>11850.0</td><td>36 months</td><td>20.49</td><td>443.36</td><td>Apr-2014</td><td>Fully Paid</td><td>debt_consolidation</td><td>Debt consolidation</td><td>2025-05-26 12:05:...</td></tr>\n",
       "<tr><td>14288329</td><td>2ab161847c8ce1f3e...</td><td>25000.0</td><td>25000.0</td><td>60 months</td><td>21.99</td><td>690.34</td><td>Apr-2014</td><td>Fully Paid</td><td>debt_consolidation</td><td>Debt consolidation</td><td>2025-05-26 12:05:...</td></tr>\n",
       "<tr><td>14308144</td><td>9886b3db401c1d460...</td><td>15000.0</td><td>15000.0</td><td>60 months</td><td>15.61</td><td>361.67</td><td>Apr-2014</td><td>Fully Paid</td><td>major_purchase</td><td>Major purchase</td><td>2025-05-26 12:05:...</td></tr>\n",
       "<tr><td>14009407</td><td>7b62e3c918a7f9eb8...</td><td>9625.0</td><td>9625.0</td><td>36 months</td><td>13.65</td><td>327.33</td><td>Apr-2014</td><td>Fully Paid</td><td>credit_card</td><td>Credit card refin...</td><td>2025-05-26 12:05:...</td></tr>\n",
       "<tr><td>6583213</td><td>698b533486c4900d4...</td><td>17500.0</td><td>17500.0</td><td>36 months</td><td>9.67</td><td>561.97</td><td>Apr-2014</td><td>Fully Paid</td><td>debt_consolidation</td><td>Debt consolidation</td><td>2025-05-26 12:05:...</td></tr>\n",
       "<tr><td>12597061</td><td>0b07196bd0485e4c2...</td><td>7700.0</td><td>7700.0</td><td>36 months</td><td>12.99</td><td>259.41</td><td>Apr-2014</td><td>Fully Paid</td><td>debt_consolidation</td><td>Debt consolidation</td><td>2025-05-26 12:05:...</td></tr>\n",
       "<tr><td>12468587</td><td>92e61f312d73c874d...</td><td>3600.0</td><td>3600.0</td><td>36 months</td><td>22.45</td><td>138.33</td><td>Apr-2014</td><td>Fully Paid</td><td>debt_consolidation</td><td>Debt consolidation</td><td>2025-05-26 12:05:...</td></tr>\n",
       "<tr><td>12486035</td><td>a2eb7934b6490e443...</td><td>14250.0</td><td>14250.0</td><td>60 months</td><td>21.99</td><td>393.49</td><td>Apr-2014</td><td>Fully Paid</td><td>home_improvement</td><td>Home improvement</td><td>2025-05-26 12:05:...</td></tr>\n",
       "</table>\n",
       "only showing top 20 rows\n"
      ],
      "text/plain": [
       "+--------+--------------------+-----------+-------------+----------------+-------------+-------------------+----------+-----------+------------------+--------------------+--------------------+\n",
       "| loan_id|           member_id|loan_amount|funded_amount|loan_term_months|interest_rate|monthly_installment|issue_date|loan_status|      loan_purpose|          loan_title|         ingest_date|\n",
       "+--------+--------------------+-----------+-------------+----------------+-------------+-------------------+----------+-----------+------------------+--------------------+--------------------+\n",
       "|14408468|5d7676571dee53d06...|     5000.0|       5000.0|       36 months|        14.16|             171.28|  Apr-2014| Fully Paid|debt_consolidation|  Debt consolidation|2025-05-26 12:05:...|\n",
       "|14520567|31fd1ef036c5caf26...|    11000.0|      11000.0|       36 months|         9.67|             353.24|  Apr-2014| Fully Paid|             other|               Other|2025-05-26 12:05:...|\n",
       "|14708730|9b48253ca5848fa78...|    25000.0|      25000.0|       36 months|        11.99|             830.24|  May-2014|Charged Off|       credit_card|Credit card refin...|2025-05-26 12:05:...|\n",
       "|14491003|d6b8f2e32be148721...|     1500.0|       1500.0|       36 months|        23.43|              58.41|  Apr-2014| Fully Paid|  renewable_energy|          Green loan|2025-05-26 12:05:...|\n",
       "|14510981|0a81ad556e20bcdb9...|    10000.0|      10000.0|       36 months|        12.99|              336.9|  Apr-2014| Fully Paid|debt_consolidation|  Debt consolidation|2025-05-26 12:05:...|\n",
       "|14177845|843b995d39160ddab...|    13200.0|      13200.0|       60 months|        12.99|             300.28|  Apr-2014|Charged Off|debt_consolidation|  Debt consolidation|2025-05-26 12:05:...|\n",
       "|13947687|04a8bd7c4e1407ba8...|    10000.0|      10000.0|       60 months|        17.57|             251.61|  Apr-2014| Fully Paid|             other|               Other|2025-05-26 12:05:...|\n",
       "|12905731|3e9a89fa96988af68...|    18000.0|      18000.0|       36 months|        18.25|             653.01|  May-2014| Fully Paid|  home_improvement|    Home improvement|2025-05-26 12:05:...|\n",
       "|14137736|394a8db0bd3bcf7de...|    12000.0|      12000.0|       36 months|         9.67|             385.35|  Apr-2014| Fully Paid|debt_consolidation|  Debt consolidation|2025-05-26 12:05:...|\n",
       "|13207083|09cea8d2b6f1272f7...|     3200.0|       3200.0|       36 months|        20.49|             119.73|  Apr-2014| Fully Paid|       credit_card|Credit card refin...|2025-05-26 12:05:...|\n",
       "| 9005163|bc13b4bf12b2fb93f...|    19800.0|      19800.0|       60 months|        15.61|             477.41|  Apr-2014|    Current|debt_consolidation|  Debt consolidation|2025-05-26 12:05:...|\n",
       "|14008700|dcc3cce84164a1a4f...|    14150.0|      14150.0|       60 months|        16.59|             348.56|  Apr-2014|    Current|       credit_card|Credit card refin...|2025-05-26 12:05:...|\n",
       "|13107355|a8c2898592c8c34ea...|    11850.0|      11850.0|       36 months|        20.49|             443.36|  Apr-2014| Fully Paid|debt_consolidation|  Debt consolidation|2025-05-26 12:05:...|\n",
       "|14288329|2ab161847c8ce1f3e...|    25000.0|      25000.0|       60 months|        21.99|             690.34|  Apr-2014| Fully Paid|debt_consolidation|  Debt consolidation|2025-05-26 12:05:...|\n",
       "|14308144|9886b3db401c1d460...|    15000.0|      15000.0|       60 months|        15.61|             361.67|  Apr-2014| Fully Paid|    major_purchase|      Major purchase|2025-05-26 12:05:...|\n",
       "|14009407|7b62e3c918a7f9eb8...|     9625.0|       9625.0|       36 months|        13.65|             327.33|  Apr-2014| Fully Paid|       credit_card|Credit card refin...|2025-05-26 12:05:...|\n",
       "| 6583213|698b533486c4900d4...|    17500.0|      17500.0|       36 months|         9.67|             561.97|  Apr-2014| Fully Paid|debt_consolidation|  Debt consolidation|2025-05-26 12:05:...|\n",
       "|12597061|0b07196bd0485e4c2...|     7700.0|       7700.0|       36 months|        12.99|             259.41|  Apr-2014| Fully Paid|debt_consolidation|  Debt consolidation|2025-05-26 12:05:...|\n",
       "|12468587|92e61f312d73c874d...|     3600.0|       3600.0|       36 months|        22.45|             138.33|  Apr-2014| Fully Paid|debt_consolidation|  Debt consolidation|2025-05-26 12:05:...|\n",
       "|12486035|a2eb7934b6490e443...|    14250.0|      14250.0|       60 months|        21.99|             393.49|  Apr-2014| Fully Paid|  home_improvement|    Home improvement|2025-05-26 12:05:...|\n",
       "+--------+--------------------+-----------+-------------+----------------+-------------+-------------------+----------+-----------+------------------+--------------------+--------------------+\n",
       "only showing top 20 rows"
      ]
     },
     "execution_count": 20,
     "metadata": {},
     "output_type": "execute_result"
    }
   ],
   "source": [
    "loans_filtered_df"
   ]
  },
  {
   "cell_type": "code",
   "execution_count": 21,
   "id": "81e80c90",
   "metadata": {},
   "outputs": [],
   "source": [
    "from pyspark.sql.functions import regexp_replace, col"
   ]
  },
  {
   "cell_type": "code",
   "execution_count": 22,
   "id": "95611cf6",
   "metadata": {},
   "outputs": [],
   "source": [
    "loans_term_modified_df = loans_filtered_df \\\n",
    ".withColumn(\"loan_term_months\", (regexp_replace(col(\"loan_term_months\"), \" months\", \"\") \\\n",
    ".cast(\"int\")/12) \\\n",
    ".cast(\"int\")) \\\n",
    ".withColumnRenamed(\"loan_term_months\", \"loan_term_years\")"
   ]
  },
  {
   "cell_type": "code",
   "execution_count": 23,
   "id": "4be8e1bc",
   "metadata": {},
   "outputs": [
    {
     "data": {
      "text/html": [
       "<table border='1'>\n",
       "<tr><th>loan_id</th><th>member_id</th><th>loan_amount</th><th>funded_amount</th><th>loan_term_years</th><th>interest_rate</th><th>monthly_installment</th><th>issue_date</th><th>loan_status</th><th>loan_purpose</th><th>loan_title</th><th>ingest_date</th></tr>\n",
       "<tr><td>14408468</td><td>5d7676571dee53d06...</td><td>5000.0</td><td>5000.0</td><td>3</td><td>14.16</td><td>171.28</td><td>Apr-2014</td><td>Fully Paid</td><td>debt_consolidation</td><td>Debt consolidation</td><td>2025-05-26 12:05:...</td></tr>\n",
       "<tr><td>14520567</td><td>31fd1ef036c5caf26...</td><td>11000.0</td><td>11000.0</td><td>3</td><td>9.67</td><td>353.24</td><td>Apr-2014</td><td>Fully Paid</td><td>other</td><td>Other</td><td>2025-05-26 12:05:...</td></tr>\n",
       "<tr><td>14708730</td><td>9b48253ca5848fa78...</td><td>25000.0</td><td>25000.0</td><td>3</td><td>11.99</td><td>830.24</td><td>May-2014</td><td>Charged Off</td><td>credit_card</td><td>Credit card refin...</td><td>2025-05-26 12:05:...</td></tr>\n",
       "<tr><td>14491003</td><td>d6b8f2e32be148721...</td><td>1500.0</td><td>1500.0</td><td>3</td><td>23.43</td><td>58.41</td><td>Apr-2014</td><td>Fully Paid</td><td>renewable_energy</td><td>Green loan</td><td>2025-05-26 12:05:...</td></tr>\n",
       "<tr><td>14510981</td><td>0a81ad556e20bcdb9...</td><td>10000.0</td><td>10000.0</td><td>3</td><td>12.99</td><td>336.9</td><td>Apr-2014</td><td>Fully Paid</td><td>debt_consolidation</td><td>Debt consolidation</td><td>2025-05-26 12:05:...</td></tr>\n",
       "<tr><td>14177845</td><td>843b995d39160ddab...</td><td>13200.0</td><td>13200.0</td><td>5</td><td>12.99</td><td>300.28</td><td>Apr-2014</td><td>Charged Off</td><td>debt_consolidation</td><td>Debt consolidation</td><td>2025-05-26 12:05:...</td></tr>\n",
       "<tr><td>13947687</td><td>04a8bd7c4e1407ba8...</td><td>10000.0</td><td>10000.0</td><td>5</td><td>17.57</td><td>251.61</td><td>Apr-2014</td><td>Fully Paid</td><td>other</td><td>Other</td><td>2025-05-26 12:05:...</td></tr>\n",
       "<tr><td>12905731</td><td>3e9a89fa96988af68...</td><td>18000.0</td><td>18000.0</td><td>3</td><td>18.25</td><td>653.01</td><td>May-2014</td><td>Fully Paid</td><td>home_improvement</td><td>Home improvement</td><td>2025-05-26 12:05:...</td></tr>\n",
       "<tr><td>14137736</td><td>394a8db0bd3bcf7de...</td><td>12000.0</td><td>12000.0</td><td>3</td><td>9.67</td><td>385.35</td><td>Apr-2014</td><td>Fully Paid</td><td>debt_consolidation</td><td>Debt consolidation</td><td>2025-05-26 12:05:...</td></tr>\n",
       "<tr><td>13207083</td><td>09cea8d2b6f1272f7...</td><td>3200.0</td><td>3200.0</td><td>3</td><td>20.49</td><td>119.73</td><td>Apr-2014</td><td>Fully Paid</td><td>credit_card</td><td>Credit card refin...</td><td>2025-05-26 12:05:...</td></tr>\n",
       "<tr><td>9005163</td><td>bc13b4bf12b2fb93f...</td><td>19800.0</td><td>19800.0</td><td>5</td><td>15.61</td><td>477.41</td><td>Apr-2014</td><td>Current</td><td>debt_consolidation</td><td>Debt consolidation</td><td>2025-05-26 12:05:...</td></tr>\n",
       "<tr><td>14008700</td><td>dcc3cce84164a1a4f...</td><td>14150.0</td><td>14150.0</td><td>5</td><td>16.59</td><td>348.56</td><td>Apr-2014</td><td>Current</td><td>credit_card</td><td>Credit card refin...</td><td>2025-05-26 12:05:...</td></tr>\n",
       "<tr><td>13107355</td><td>a8c2898592c8c34ea...</td><td>11850.0</td><td>11850.0</td><td>3</td><td>20.49</td><td>443.36</td><td>Apr-2014</td><td>Fully Paid</td><td>debt_consolidation</td><td>Debt consolidation</td><td>2025-05-26 12:05:...</td></tr>\n",
       "<tr><td>14288329</td><td>2ab161847c8ce1f3e...</td><td>25000.0</td><td>25000.0</td><td>5</td><td>21.99</td><td>690.34</td><td>Apr-2014</td><td>Fully Paid</td><td>debt_consolidation</td><td>Debt consolidation</td><td>2025-05-26 12:05:...</td></tr>\n",
       "<tr><td>14308144</td><td>9886b3db401c1d460...</td><td>15000.0</td><td>15000.0</td><td>5</td><td>15.61</td><td>361.67</td><td>Apr-2014</td><td>Fully Paid</td><td>major_purchase</td><td>Major purchase</td><td>2025-05-26 12:05:...</td></tr>\n",
       "<tr><td>14009407</td><td>7b62e3c918a7f9eb8...</td><td>9625.0</td><td>9625.0</td><td>3</td><td>13.65</td><td>327.33</td><td>Apr-2014</td><td>Fully Paid</td><td>credit_card</td><td>Credit card refin...</td><td>2025-05-26 12:05:...</td></tr>\n",
       "<tr><td>6583213</td><td>698b533486c4900d4...</td><td>17500.0</td><td>17500.0</td><td>3</td><td>9.67</td><td>561.97</td><td>Apr-2014</td><td>Fully Paid</td><td>debt_consolidation</td><td>Debt consolidation</td><td>2025-05-26 12:05:...</td></tr>\n",
       "<tr><td>12597061</td><td>0b07196bd0485e4c2...</td><td>7700.0</td><td>7700.0</td><td>3</td><td>12.99</td><td>259.41</td><td>Apr-2014</td><td>Fully Paid</td><td>debt_consolidation</td><td>Debt consolidation</td><td>2025-05-26 12:05:...</td></tr>\n",
       "<tr><td>12468587</td><td>92e61f312d73c874d...</td><td>3600.0</td><td>3600.0</td><td>3</td><td>22.45</td><td>138.33</td><td>Apr-2014</td><td>Fully Paid</td><td>debt_consolidation</td><td>Debt consolidation</td><td>2025-05-26 12:05:...</td></tr>\n",
       "<tr><td>12486035</td><td>a2eb7934b6490e443...</td><td>14250.0</td><td>14250.0</td><td>5</td><td>21.99</td><td>393.49</td><td>Apr-2014</td><td>Fully Paid</td><td>home_improvement</td><td>Home improvement</td><td>2025-05-26 12:05:...</td></tr>\n",
       "</table>\n",
       "only showing top 20 rows\n"
      ],
      "text/plain": [
       "+--------+--------------------+-----------+-------------+---------------+-------------+-------------------+----------+-----------+------------------+--------------------+--------------------+\n",
       "| loan_id|           member_id|loan_amount|funded_amount|loan_term_years|interest_rate|monthly_installment|issue_date|loan_status|      loan_purpose|          loan_title|         ingest_date|\n",
       "+--------+--------------------+-----------+-------------+---------------+-------------+-------------------+----------+-----------+------------------+--------------------+--------------------+\n",
       "|14408468|5d7676571dee53d06...|     5000.0|       5000.0|              3|        14.16|             171.28|  Apr-2014| Fully Paid|debt_consolidation|  Debt consolidation|2025-05-26 12:05:...|\n",
       "|14520567|31fd1ef036c5caf26...|    11000.0|      11000.0|              3|         9.67|             353.24|  Apr-2014| Fully Paid|             other|               Other|2025-05-26 12:05:...|\n",
       "|14708730|9b48253ca5848fa78...|    25000.0|      25000.0|              3|        11.99|             830.24|  May-2014|Charged Off|       credit_card|Credit card refin...|2025-05-26 12:05:...|\n",
       "|14491003|d6b8f2e32be148721...|     1500.0|       1500.0|              3|        23.43|              58.41|  Apr-2014| Fully Paid|  renewable_energy|          Green loan|2025-05-26 12:05:...|\n",
       "|14510981|0a81ad556e20bcdb9...|    10000.0|      10000.0|              3|        12.99|              336.9|  Apr-2014| Fully Paid|debt_consolidation|  Debt consolidation|2025-05-26 12:05:...|\n",
       "|14177845|843b995d39160ddab...|    13200.0|      13200.0|              5|        12.99|             300.28|  Apr-2014|Charged Off|debt_consolidation|  Debt consolidation|2025-05-26 12:05:...|\n",
       "|13947687|04a8bd7c4e1407ba8...|    10000.0|      10000.0|              5|        17.57|             251.61|  Apr-2014| Fully Paid|             other|               Other|2025-05-26 12:05:...|\n",
       "|12905731|3e9a89fa96988af68...|    18000.0|      18000.0|              3|        18.25|             653.01|  May-2014| Fully Paid|  home_improvement|    Home improvement|2025-05-26 12:05:...|\n",
       "|14137736|394a8db0bd3bcf7de...|    12000.0|      12000.0|              3|         9.67|             385.35|  Apr-2014| Fully Paid|debt_consolidation|  Debt consolidation|2025-05-26 12:05:...|\n",
       "|13207083|09cea8d2b6f1272f7...|     3200.0|       3200.0|              3|        20.49|             119.73|  Apr-2014| Fully Paid|       credit_card|Credit card refin...|2025-05-26 12:05:...|\n",
       "| 9005163|bc13b4bf12b2fb93f...|    19800.0|      19800.0|              5|        15.61|             477.41|  Apr-2014|    Current|debt_consolidation|  Debt consolidation|2025-05-26 12:05:...|\n",
       "|14008700|dcc3cce84164a1a4f...|    14150.0|      14150.0|              5|        16.59|             348.56|  Apr-2014|    Current|       credit_card|Credit card refin...|2025-05-26 12:05:...|\n",
       "|13107355|a8c2898592c8c34ea...|    11850.0|      11850.0|              3|        20.49|             443.36|  Apr-2014| Fully Paid|debt_consolidation|  Debt consolidation|2025-05-26 12:05:...|\n",
       "|14288329|2ab161847c8ce1f3e...|    25000.0|      25000.0|              5|        21.99|             690.34|  Apr-2014| Fully Paid|debt_consolidation|  Debt consolidation|2025-05-26 12:05:...|\n",
       "|14308144|9886b3db401c1d460...|    15000.0|      15000.0|              5|        15.61|             361.67|  Apr-2014| Fully Paid|    major_purchase|      Major purchase|2025-05-26 12:05:...|\n",
       "|14009407|7b62e3c918a7f9eb8...|     9625.0|       9625.0|              3|        13.65|             327.33|  Apr-2014| Fully Paid|       credit_card|Credit card refin...|2025-05-26 12:05:...|\n",
       "| 6583213|698b533486c4900d4...|    17500.0|      17500.0|              3|         9.67|             561.97|  Apr-2014| Fully Paid|debt_consolidation|  Debt consolidation|2025-05-26 12:05:...|\n",
       "|12597061|0b07196bd0485e4c2...|     7700.0|       7700.0|              3|        12.99|             259.41|  Apr-2014| Fully Paid|debt_consolidation|  Debt consolidation|2025-05-26 12:05:...|\n",
       "|12468587|92e61f312d73c874d...|     3600.0|       3600.0|              3|        22.45|             138.33|  Apr-2014| Fully Paid|debt_consolidation|  Debt consolidation|2025-05-26 12:05:...|\n",
       "|12486035|a2eb7934b6490e443...|    14250.0|      14250.0|              5|        21.99|             393.49|  Apr-2014| Fully Paid|  home_improvement|    Home improvement|2025-05-26 12:05:...|\n",
       "+--------+--------------------+-----------+-------------+---------------+-------------+-------------------+----------+-----------+------------------+--------------------+--------------------+\n",
       "only showing top 20 rows"
      ]
     },
     "execution_count": 23,
     "metadata": {},
     "output_type": "execute_result"
    }
   ],
   "source": [
    "loans_term_modified_df"
   ]
  },
  {
   "cell_type": "code",
   "execution_count": 24,
   "id": "bf728a8c",
   "metadata": {},
   "outputs": [
    {
     "name": "stdout",
     "output_type": "stream",
     "text": [
      "root\n",
      " |-- loan_id: string (nullable = true)\n",
      " |-- member_id: string (nullable = true)\n",
      " |-- loan_amount: float (nullable = true)\n",
      " |-- funded_amount: float (nullable = true)\n",
      " |-- loan_term_years: integer (nullable = true)\n",
      " |-- interest_rate: float (nullable = true)\n",
      " |-- monthly_installment: float (nullable = true)\n",
      " |-- issue_date: string (nullable = true)\n",
      " |-- loan_status: string (nullable = true)\n",
      " |-- loan_purpose: string (nullable = true)\n",
      " |-- loan_title: string (nullable = true)\n",
      " |-- ingest_date: timestamp (nullable = false)\n",
      "\n"
     ]
    }
   ],
   "source": [
    "loans_term_modified_df.printSchema()"
   ]
  },
  {
   "cell_type": "code",
   "execution_count": 25,
   "id": "be8286ad",
   "metadata": {},
   "outputs": [],
   "source": [
    "loans_term_modified_df.createOrReplaceTempView(\"loans\")"
   ]
  },
  {
   "cell_type": "code",
   "execution_count": 26,
   "id": "8fe35d57",
   "metadata": {},
   "outputs": [
    {
     "data": {
      "text/html": [
       "<table border='1'>\n",
       "<tr><th>loan_purpose</th></tr>\n",
       "<tr><td>guaranteed!&quot;</td></tr>\n",
       "<tr><td>and if they are a...</td></tr>\n",
       "<tr><td>never had any tro...</td></tr>\n",
       "<tr><td>&lt;br/&gt;&lt;br/&gt;Lending...</td></tr>\n",
       "<tr><td>Bank of America c...</td></tr>\n",
       "<tr><td>stocks</td></tr>\n",
       "<tr><td>please feel free ...</td></tr>\n",
       "<tr><td>I became his prim...</td></tr>\n",
       "<tr><td>brakes</td></tr>\n",
       "<tr><td>on one of the bus...</td></tr>\n",
       "<tr><td>because of the na...</td></tr>\n",
       "<tr><td>progressive multi...</td></tr>\n",
       "<tr><td>but not much info...</td></tr>\n",
       "<tr><td>I have eliminated...</td></tr>\n",
       "<tr><td>TutoringOne is a ...</td></tr>\n",
       "<tr><td>you may feel conf...</td></tr>\n",
       "<tr><td>so I have to pay ...</td></tr>\n",
       "<tr><td>Hilal Khalil Homa...</td></tr>\n",
       "<tr><td>000 in debt on cr...</td></tr>\n",
       "<tr><td>and the monthly p...</td></tr>\n",
       "</table>\n",
       "only showing top 20 rows\n"
      ],
      "text/plain": [
       "+--------------------+\n",
       "|        loan_purpose|\n",
       "+--------------------+\n",
       "|        guaranteed!\"|\n",
       "|and if they are a...|\n",
       "|never had any tro...|\n",
       "|Bank of America c...|\n",
       "|<br/><br/>Lending...|\n",
       "|              stocks|\n",
       "|please feel free ...|\n",
       "|I became his prim...|\n",
       "|              brakes|\n",
       "|on one of the bus...|\n",
       "|because of the na...|\n",
       "|progressive multi...|\n",
       "|I have eliminated...|\n",
       "|but not much info...|\n",
       "|TutoringOne is a ...|\n",
       "|so I have to pay ...|\n",
       "|you may feel conf...|\n",
       "|Hilal Khalil Homa...|\n",
       "|000 in debt on cr...|\n",
       "|and the monthly p...|\n",
       "+--------------------+\n",
       "only showing top 20 rows"
      ]
     },
     "execution_count": 26,
     "metadata": {},
     "output_type": "execute_result"
    }
   ],
   "source": [
    "spark.sql(\"select distinct(loan_purpose) from loans\")"
   ]
  },
  {
   "cell_type": "code",
   "execution_count": 27,
   "id": "e6863821",
   "metadata": {},
   "outputs": [
    {
     "data": {
      "text/html": [
       "<table border='1'>\n",
       "<tr><th>loan_purpose</th><th>total</th></tr>\n",
       "<tr><td>debt_consolidation</td><td>1277790</td></tr>\n",
       "<tr><td>credit_card</td><td>516926</td></tr>\n",
       "<tr><td>home_improvement</td><td>150440</td></tr>\n",
       "<tr><td>other</td><td>139413</td></tr>\n",
       "<tr><td>major_purchase</td><td>50429</td></tr>\n",
       "<tr><td>medical</td><td>27481</td></tr>\n",
       "<tr><td>small_business</td><td>24659</td></tr>\n",
       "<tr><td>car</td><td>24009</td></tr>\n",
       "<tr><td>vacation</td><td>15525</td></tr>\n",
       "<tr><td>moving</td><td>15402</td></tr>\n",
       "<tr><td>house</td><td>14131</td></tr>\n",
       "<tr><td>wedding</td><td>2351</td></tr>\n",
       "<tr><td>renewable_energy</td><td>1445</td></tr>\n",
       "<tr><td>educational</td><td>412</td></tr>\n",
       "<tr><td>Bank of America c...</td><td>1</td></tr>\n",
       "<tr><td>stocks</td><td>1</td></tr>\n",
       "<tr><td>because of the na...</td><td>1</td></tr>\n",
       "<tr><td>please feel free ...</td><td>1</td></tr>\n",
       "<tr><td>you may feel conf...</td><td>1</td></tr>\n",
       "<tr><td>so I have to pay ...</td><td>1</td></tr>\n",
       "</table>\n",
       "only showing top 20 rows\n"
      ],
      "text/plain": [
       "+--------------------+-------+\n",
       "|        loan_purpose|  total|\n",
       "+--------------------+-------+\n",
       "|  debt_consolidation|1277790|\n",
       "|         credit_card| 516926|\n",
       "|    home_improvement| 150440|\n",
       "|               other| 139413|\n",
       "|      major_purchase|  50429|\n",
       "|             medical|  27481|\n",
       "|      small_business|  24659|\n",
       "|                 car|  24009|\n",
       "|            vacation|  15525|\n",
       "|              moving|  15402|\n",
       "|               house|  14131|\n",
       "|             wedding|   2351|\n",
       "|    renewable_energy|   1445|\n",
       "|         educational|    412|\n",
       "|progressive multi...|      1|\n",
       "|but we cant all b...|      1|\n",
       "|              stocks|      1|\n",
       "|please feel free ...|      1|\n",
       "|              brakes|      1|\n",
       "|I became his prim...|      1|\n",
       "+--------------------+-------+\n",
       "only showing top 20 rows"
      ]
     },
     "execution_count": 27,
     "metadata": {},
     "output_type": "execute_result"
    }
   ],
   "source": [
    "spark.sql(\"select loan_purpose, count(*) as total from loans group by loan_purpose order by total desc\")"
   ]
  },
  {
   "cell_type": "code",
   "execution_count": 28,
   "id": "f0b5d3dd",
   "metadata": {},
   "outputs": [],
   "source": [
    "loan_purpose_lookup = [\"debt_consolidation\", \"credit_card\", \"home_improvement\", \n",
    "                       \"other\", \"major_purchase\", \"medical\", \"small_business\", \"car\", \n",
    "                       \"vacation\", \"moving\", \"house\", \"wedding\", \"renewable_energy\", \"educational\"]"
   ]
  },
  {
   "cell_type": "code",
   "execution_count": 29,
   "id": "a2ee1901",
   "metadata": {},
   "outputs": [],
   "source": [
    "from pyspark.sql.functions import when"
   ]
  },
  {
   "cell_type": "code",
   "execution_count": 30,
   "id": "51ee9748",
   "metadata": {},
   "outputs": [],
   "source": [
    "loan_purpose_modifed_df = loans_term_modified_df.withColumn(\"loan_purpose\", when(col(\"loan_purpose\").isin(loan_purpose_lookup), col(\"loan_purpose\")).otherwise(\"other\"))"
   ]
  },
  {
   "cell_type": "code",
   "execution_count": 31,
   "id": "17492963",
   "metadata": {},
   "outputs": [
    {
     "data": {
      "text/html": [
       "<table border='1'>\n",
       "<tr><th>loan_id</th><th>member_id</th><th>loan_amount</th><th>funded_amount</th><th>loan_term_years</th><th>interest_rate</th><th>monthly_installment</th><th>issue_date</th><th>loan_status</th><th>loan_purpose</th><th>loan_title</th><th>ingest_date</th></tr>\n",
       "<tr><td>14408468</td><td>5d7676571dee53d06...</td><td>5000.0</td><td>5000.0</td><td>3</td><td>14.16</td><td>171.28</td><td>Apr-2014</td><td>Fully Paid</td><td>debt_consolidation</td><td>Debt consolidation</td><td>2025-05-26 12:05:...</td></tr>\n",
       "<tr><td>14520567</td><td>31fd1ef036c5caf26...</td><td>11000.0</td><td>11000.0</td><td>3</td><td>9.67</td><td>353.24</td><td>Apr-2014</td><td>Fully Paid</td><td>other</td><td>Other</td><td>2025-05-26 12:05:...</td></tr>\n",
       "<tr><td>14708730</td><td>9b48253ca5848fa78...</td><td>25000.0</td><td>25000.0</td><td>3</td><td>11.99</td><td>830.24</td><td>May-2014</td><td>Charged Off</td><td>credit_card</td><td>Credit card refin...</td><td>2025-05-26 12:05:...</td></tr>\n",
       "<tr><td>14491003</td><td>d6b8f2e32be148721...</td><td>1500.0</td><td>1500.0</td><td>3</td><td>23.43</td><td>58.41</td><td>Apr-2014</td><td>Fully Paid</td><td>renewable_energy</td><td>Green loan</td><td>2025-05-26 12:05:...</td></tr>\n",
       "<tr><td>14510981</td><td>0a81ad556e20bcdb9...</td><td>10000.0</td><td>10000.0</td><td>3</td><td>12.99</td><td>336.9</td><td>Apr-2014</td><td>Fully Paid</td><td>debt_consolidation</td><td>Debt consolidation</td><td>2025-05-26 12:05:...</td></tr>\n",
       "<tr><td>14177845</td><td>843b995d39160ddab...</td><td>13200.0</td><td>13200.0</td><td>5</td><td>12.99</td><td>300.28</td><td>Apr-2014</td><td>Charged Off</td><td>debt_consolidation</td><td>Debt consolidation</td><td>2025-05-26 12:05:...</td></tr>\n",
       "<tr><td>13947687</td><td>04a8bd7c4e1407ba8...</td><td>10000.0</td><td>10000.0</td><td>5</td><td>17.57</td><td>251.61</td><td>Apr-2014</td><td>Fully Paid</td><td>other</td><td>Other</td><td>2025-05-26 12:05:...</td></tr>\n",
       "<tr><td>12905731</td><td>3e9a89fa96988af68...</td><td>18000.0</td><td>18000.0</td><td>3</td><td>18.25</td><td>653.01</td><td>May-2014</td><td>Fully Paid</td><td>home_improvement</td><td>Home improvement</td><td>2025-05-26 12:05:...</td></tr>\n",
       "<tr><td>14137736</td><td>394a8db0bd3bcf7de...</td><td>12000.0</td><td>12000.0</td><td>3</td><td>9.67</td><td>385.35</td><td>Apr-2014</td><td>Fully Paid</td><td>debt_consolidation</td><td>Debt consolidation</td><td>2025-05-26 12:05:...</td></tr>\n",
       "<tr><td>13207083</td><td>09cea8d2b6f1272f7...</td><td>3200.0</td><td>3200.0</td><td>3</td><td>20.49</td><td>119.73</td><td>Apr-2014</td><td>Fully Paid</td><td>credit_card</td><td>Credit card refin...</td><td>2025-05-26 12:05:...</td></tr>\n",
       "<tr><td>9005163</td><td>bc13b4bf12b2fb93f...</td><td>19800.0</td><td>19800.0</td><td>5</td><td>15.61</td><td>477.41</td><td>Apr-2014</td><td>Current</td><td>debt_consolidation</td><td>Debt consolidation</td><td>2025-05-26 12:05:...</td></tr>\n",
       "<tr><td>14008700</td><td>dcc3cce84164a1a4f...</td><td>14150.0</td><td>14150.0</td><td>5</td><td>16.59</td><td>348.56</td><td>Apr-2014</td><td>Current</td><td>credit_card</td><td>Credit card refin...</td><td>2025-05-26 12:05:...</td></tr>\n",
       "<tr><td>13107355</td><td>a8c2898592c8c34ea...</td><td>11850.0</td><td>11850.0</td><td>3</td><td>20.49</td><td>443.36</td><td>Apr-2014</td><td>Fully Paid</td><td>debt_consolidation</td><td>Debt consolidation</td><td>2025-05-26 12:05:...</td></tr>\n",
       "<tr><td>14288329</td><td>2ab161847c8ce1f3e...</td><td>25000.0</td><td>25000.0</td><td>5</td><td>21.99</td><td>690.34</td><td>Apr-2014</td><td>Fully Paid</td><td>debt_consolidation</td><td>Debt consolidation</td><td>2025-05-26 12:05:...</td></tr>\n",
       "<tr><td>14308144</td><td>9886b3db401c1d460...</td><td>15000.0</td><td>15000.0</td><td>5</td><td>15.61</td><td>361.67</td><td>Apr-2014</td><td>Fully Paid</td><td>major_purchase</td><td>Major purchase</td><td>2025-05-26 12:05:...</td></tr>\n",
       "<tr><td>14009407</td><td>7b62e3c918a7f9eb8...</td><td>9625.0</td><td>9625.0</td><td>3</td><td>13.65</td><td>327.33</td><td>Apr-2014</td><td>Fully Paid</td><td>credit_card</td><td>Credit card refin...</td><td>2025-05-26 12:05:...</td></tr>\n",
       "<tr><td>6583213</td><td>698b533486c4900d4...</td><td>17500.0</td><td>17500.0</td><td>3</td><td>9.67</td><td>561.97</td><td>Apr-2014</td><td>Fully Paid</td><td>debt_consolidation</td><td>Debt consolidation</td><td>2025-05-26 12:05:...</td></tr>\n",
       "<tr><td>12597061</td><td>0b07196bd0485e4c2...</td><td>7700.0</td><td>7700.0</td><td>3</td><td>12.99</td><td>259.41</td><td>Apr-2014</td><td>Fully Paid</td><td>debt_consolidation</td><td>Debt consolidation</td><td>2025-05-26 12:05:...</td></tr>\n",
       "<tr><td>12468587</td><td>92e61f312d73c874d...</td><td>3600.0</td><td>3600.0</td><td>3</td><td>22.45</td><td>138.33</td><td>Apr-2014</td><td>Fully Paid</td><td>debt_consolidation</td><td>Debt consolidation</td><td>2025-05-26 12:05:...</td></tr>\n",
       "<tr><td>12486035</td><td>a2eb7934b6490e443...</td><td>14250.0</td><td>14250.0</td><td>5</td><td>21.99</td><td>393.49</td><td>Apr-2014</td><td>Fully Paid</td><td>home_improvement</td><td>Home improvement</td><td>2025-05-26 12:05:...</td></tr>\n",
       "</table>\n",
       "only showing top 20 rows\n"
      ],
      "text/plain": [
       "+--------+--------------------+-----------+-------------+---------------+-------------+-------------------+----------+-----------+------------------+--------------------+--------------------+\n",
       "| loan_id|           member_id|loan_amount|funded_amount|loan_term_years|interest_rate|monthly_installment|issue_date|loan_status|      loan_purpose|          loan_title|         ingest_date|\n",
       "+--------+--------------------+-----------+-------------+---------------+-------------+-------------------+----------+-----------+------------------+--------------------+--------------------+\n",
       "|14408468|5d7676571dee53d06...|     5000.0|       5000.0|              3|        14.16|             171.28|  Apr-2014| Fully Paid|debt_consolidation|  Debt consolidation|2025-05-26 12:05:...|\n",
       "|14520567|31fd1ef036c5caf26...|    11000.0|      11000.0|              3|         9.67|             353.24|  Apr-2014| Fully Paid|             other|               Other|2025-05-26 12:05:...|\n",
       "|14708730|9b48253ca5848fa78...|    25000.0|      25000.0|              3|        11.99|             830.24|  May-2014|Charged Off|       credit_card|Credit card refin...|2025-05-26 12:05:...|\n",
       "|14491003|d6b8f2e32be148721...|     1500.0|       1500.0|              3|        23.43|              58.41|  Apr-2014| Fully Paid|  renewable_energy|          Green loan|2025-05-26 12:05:...|\n",
       "|14510981|0a81ad556e20bcdb9...|    10000.0|      10000.0|              3|        12.99|              336.9|  Apr-2014| Fully Paid|debt_consolidation|  Debt consolidation|2025-05-26 12:05:...|\n",
       "|14177845|843b995d39160ddab...|    13200.0|      13200.0|              5|        12.99|             300.28|  Apr-2014|Charged Off|debt_consolidation|  Debt consolidation|2025-05-26 12:05:...|\n",
       "|13947687|04a8bd7c4e1407ba8...|    10000.0|      10000.0|              5|        17.57|             251.61|  Apr-2014| Fully Paid|             other|               Other|2025-05-26 12:05:...|\n",
       "|12905731|3e9a89fa96988af68...|    18000.0|      18000.0|              3|        18.25|             653.01|  May-2014| Fully Paid|  home_improvement|    Home improvement|2025-05-26 12:05:...|\n",
       "|14137736|394a8db0bd3bcf7de...|    12000.0|      12000.0|              3|         9.67|             385.35|  Apr-2014| Fully Paid|debt_consolidation|  Debt consolidation|2025-05-26 12:05:...|\n",
       "|13207083|09cea8d2b6f1272f7...|     3200.0|       3200.0|              3|        20.49|             119.73|  Apr-2014| Fully Paid|       credit_card|Credit card refin...|2025-05-26 12:05:...|\n",
       "| 9005163|bc13b4bf12b2fb93f...|    19800.0|      19800.0|              5|        15.61|             477.41|  Apr-2014|    Current|debt_consolidation|  Debt consolidation|2025-05-26 12:05:...|\n",
       "|14008700|dcc3cce84164a1a4f...|    14150.0|      14150.0|              5|        16.59|             348.56|  Apr-2014|    Current|       credit_card|Credit card refin...|2025-05-26 12:05:...|\n",
       "|13107355|a8c2898592c8c34ea...|    11850.0|      11850.0|              3|        20.49|             443.36|  Apr-2014| Fully Paid|debt_consolidation|  Debt consolidation|2025-05-26 12:05:...|\n",
       "|14288329|2ab161847c8ce1f3e...|    25000.0|      25000.0|              5|        21.99|             690.34|  Apr-2014| Fully Paid|debt_consolidation|  Debt consolidation|2025-05-26 12:05:...|\n",
       "|14308144|9886b3db401c1d460...|    15000.0|      15000.0|              5|        15.61|             361.67|  Apr-2014| Fully Paid|    major_purchase|      Major purchase|2025-05-26 12:05:...|\n",
       "|14009407|7b62e3c918a7f9eb8...|     9625.0|       9625.0|              3|        13.65|             327.33|  Apr-2014| Fully Paid|       credit_card|Credit card refin...|2025-05-26 12:05:...|\n",
       "| 6583213|698b533486c4900d4...|    17500.0|      17500.0|              3|         9.67|             561.97|  Apr-2014| Fully Paid|debt_consolidation|  Debt consolidation|2025-05-26 12:05:...|\n",
       "|12597061|0b07196bd0485e4c2...|     7700.0|       7700.0|              3|        12.99|             259.41|  Apr-2014| Fully Paid|debt_consolidation|  Debt consolidation|2025-05-26 12:05:...|\n",
       "|12468587|92e61f312d73c874d...|     3600.0|       3600.0|              3|        22.45|             138.33|  Apr-2014| Fully Paid|debt_consolidation|  Debt consolidation|2025-05-26 12:05:...|\n",
       "|12486035|a2eb7934b6490e443...|    14250.0|      14250.0|              5|        21.99|             393.49|  Apr-2014| Fully Paid|  home_improvement|    Home improvement|2025-05-26 12:05:...|\n",
       "+--------+--------------------+-----------+-------------+---------------+-------------+-------------------+----------+-----------+------------------+--------------------+--------------------+\n",
       "only showing top 20 rows"
      ]
     },
     "execution_count": 31,
     "metadata": {},
     "output_type": "execute_result"
    }
   ],
   "source": [
    "loan_purpose_modifed_df"
   ]
  },
  {
   "cell_type": "code",
   "execution_count": 32,
   "id": "335c6af4",
   "metadata": {},
   "outputs": [],
   "source": [
    "loan_purpose_modifed_df.createOrReplaceTempView(\"loans\")"
   ]
  },
  {
   "cell_type": "code",
   "execution_count": 33,
   "id": "fc8a6a04",
   "metadata": {},
   "outputs": [
    {
     "data": {
      "text/html": [
       "<table border='1'>\n",
       "<tr><th>loan_purpose</th></tr>\n",
       "<tr><td>wedding</td></tr>\n",
       "<tr><td>educational</td></tr>\n",
       "<tr><td>other</td></tr>\n",
       "<tr><td>small_business</td></tr>\n",
       "<tr><td>debt_consolidation</td></tr>\n",
       "<tr><td>credit_card</td></tr>\n",
       "<tr><td>moving</td></tr>\n",
       "<tr><td>vacation</td></tr>\n",
       "<tr><td>renewable_energy</td></tr>\n",
       "<tr><td>house</td></tr>\n",
       "<tr><td>car</td></tr>\n",
       "<tr><td>major_purchase</td></tr>\n",
       "<tr><td>medical</td></tr>\n",
       "<tr><td>home_improvement</td></tr>\n",
       "</table>\n"
      ],
      "text/plain": [
       "+------------------+\n",
       "|      loan_purpose|\n",
       "+------------------+\n",
       "|           wedding|\n",
       "|       educational|\n",
       "|             other|\n",
       "|    small_business|\n",
       "|debt_consolidation|\n",
       "|       credit_card|\n",
       "|            moving|\n",
       "|          vacation|\n",
       "|  renewable_energy|\n",
       "|             house|\n",
       "|               car|\n",
       "|    major_purchase|\n",
       "|           medical|\n",
       "|  home_improvement|\n",
       "+------------------+"
      ]
     },
     "execution_count": 33,
     "metadata": {},
     "output_type": "execute_result"
    }
   ],
   "source": [
    "spark.sql(\"select distinct(loan_purpose) from loans\")"
   ]
  },
  {
   "cell_type": "code",
   "execution_count": 34,
   "id": "a2f6f444",
   "metadata": {},
   "outputs": [
    {
     "data": {
      "text/html": [
       "<table border='1'>\n",
       "<tr><th>loan_purpose</th><th>total</th></tr>\n",
       "<tr><td>debt_consolidation</td><td>1277790</td></tr>\n",
       "<tr><td>credit_card</td><td>516926</td></tr>\n",
       "<tr><td>home_improvement</td><td>150440</td></tr>\n",
       "<tr><td>other</td><td>139667</td></tr>\n",
       "<tr><td>major_purchase</td><td>50429</td></tr>\n",
       "<tr><td>medical</td><td>27481</td></tr>\n",
       "<tr><td>small_business</td><td>24659</td></tr>\n",
       "<tr><td>car</td><td>24009</td></tr>\n",
       "<tr><td>vacation</td><td>15525</td></tr>\n",
       "<tr><td>moving</td><td>15402</td></tr>\n",
       "<tr><td>house</td><td>14131</td></tr>\n",
       "<tr><td>wedding</td><td>2351</td></tr>\n",
       "<tr><td>renewable_energy</td><td>1445</td></tr>\n",
       "<tr><td>educational</td><td>412</td></tr>\n",
       "</table>\n"
      ],
      "text/plain": [
       "+------------------+-------+\n",
       "|      loan_purpose|  total|\n",
       "+------------------+-------+\n",
       "|debt_consolidation|1277790|\n",
       "|       credit_card| 516926|\n",
       "|  home_improvement| 150440|\n",
       "|             other| 139667|\n",
       "|    major_purchase|  50429|\n",
       "|           medical|  27481|\n",
       "|    small_business|  24659|\n",
       "|               car|  24009|\n",
       "|          vacation|  15525|\n",
       "|            moving|  15402|\n",
       "|             house|  14131|\n",
       "|           wedding|   2351|\n",
       "|  renewable_energy|   1445|\n",
       "|       educational|    412|\n",
       "+------------------+-------+"
      ]
     },
     "execution_count": 34,
     "metadata": {},
     "output_type": "execute_result"
    }
   ],
   "source": [
    "spark.sql(\"select loan_purpose, count(*) as total from loans group by loan_purpose order by total desc\")"
   ]
  },
  {
   "cell_type": "code",
   "execution_count": 35,
   "id": "b423a47d",
   "metadata": {},
   "outputs": [],
   "source": [
    "from pyspark.sql.functions import count, desc"
   ]
  },
  {
   "cell_type": "code",
   "execution_count": 36,
   "id": "997e0775",
   "metadata": {},
   "outputs": [
    {
     "data": {
      "text/html": [
       "<table border='1'>\n",
       "<tr><th>loan_purpose</th><th>total</th></tr>\n",
       "<tr><td>debt_consolidation</td><td>1277790</td></tr>\n",
       "<tr><td>credit_card</td><td>516926</td></tr>\n",
       "<tr><td>home_improvement</td><td>150440</td></tr>\n",
       "<tr><td>other</td><td>139667</td></tr>\n",
       "<tr><td>major_purchase</td><td>50429</td></tr>\n",
       "<tr><td>medical</td><td>27481</td></tr>\n",
       "<tr><td>small_business</td><td>24659</td></tr>\n",
       "<tr><td>car</td><td>24009</td></tr>\n",
       "<tr><td>vacation</td><td>15525</td></tr>\n",
       "<tr><td>moving</td><td>15402</td></tr>\n",
       "<tr><td>house</td><td>14131</td></tr>\n",
       "<tr><td>wedding</td><td>2351</td></tr>\n",
       "<tr><td>renewable_energy</td><td>1445</td></tr>\n",
       "<tr><td>educational</td><td>412</td></tr>\n",
       "</table>\n"
      ],
      "text/plain": [
       "+------------------+-------+\n",
       "|      loan_purpose|  total|\n",
       "+------------------+-------+\n",
       "|debt_consolidation|1277790|\n",
       "|       credit_card| 516926|\n",
       "|  home_improvement| 150440|\n",
       "|             other| 139667|\n",
       "|    major_purchase|  50429|\n",
       "|           medical|  27481|\n",
       "|    small_business|  24659|\n",
       "|               car|  24009|\n",
       "|          vacation|  15525|\n",
       "|            moving|  15402|\n",
       "|             house|  14131|\n",
       "|           wedding|   2351|\n",
       "|  renewable_energy|   1445|\n",
       "|       educational|    412|\n",
       "+------------------+-------+"
      ]
     },
     "execution_count": 36,
     "metadata": {},
     "output_type": "execute_result"
    }
   ],
   "source": [
    "loan_purpose_modifed_df.groupBy(\"loan_purpose\").agg(count(\"*\").alias(\"total\")).orderBy(col(\"total\").desc())"
   ]
  },
  {
   "cell_type": "code",
   "execution_count": 37,
   "id": "53de5006",
   "metadata": {},
   "outputs": [
    {
     "data": {
      "text/html": [
       "<table border='1'>\n",
       "<tr><th>loan_purpose</th><th>total</th></tr>\n",
       "<tr><td>debt_consolidation</td><td>1277790</td></tr>\n",
       "<tr><td>credit_card</td><td>516926</td></tr>\n",
       "<tr><td>home_improvement</td><td>150440</td></tr>\n",
       "<tr><td>other</td><td>139667</td></tr>\n",
       "<tr><td>major_purchase</td><td>50429</td></tr>\n",
       "<tr><td>medical</td><td>27481</td></tr>\n",
       "<tr><td>small_business</td><td>24659</td></tr>\n",
       "<tr><td>car</td><td>24009</td></tr>\n",
       "<tr><td>vacation</td><td>15525</td></tr>\n",
       "<tr><td>moving</td><td>15402</td></tr>\n",
       "<tr><td>house</td><td>14131</td></tr>\n",
       "<tr><td>wedding</td><td>2351</td></tr>\n",
       "<tr><td>renewable_energy</td><td>1445</td></tr>\n",
       "<tr><td>educational</td><td>412</td></tr>\n",
       "</table>\n"
      ],
      "text/plain": [
       "+------------------+-------+\n",
       "|      loan_purpose|  total|\n",
       "+------------------+-------+\n",
       "|debt_consolidation|1277790|\n",
       "|       credit_card| 516926|\n",
       "|  home_improvement| 150440|\n",
       "|             other| 139667|\n",
       "|    major_purchase|  50429|\n",
       "|           medical|  27481|\n",
       "|    small_business|  24659|\n",
       "|               car|  24009|\n",
       "|          vacation|  15525|\n",
       "|            moving|  15402|\n",
       "|             house|  14131|\n",
       "|           wedding|   2351|\n",
       "|  renewable_energy|   1445|\n",
       "|       educational|    412|\n",
       "+------------------+-------+"
      ]
     },
     "execution_count": 37,
     "metadata": {},
     "output_type": "execute_result"
    }
   ],
   "source": [
    "loan_purpose_modifed_df.groupBy(\"loan_purpose\").agg(count(\"*\").alias(\"total\")).sort(desc(\"total\"))"
   ]
  },
  {
   "cell_type": "code",
   "execution_count": 39,
   "id": "014f7bc4",
   "metadata": {},
   "outputs": [],
   "source": [
    "loan_purpose_modifed_df.write \\\n",
    ".format(\"csv\") \\\n",
    ".mode(\"overwrite\") \\\n",
    ".option(\"header\", \"true\") \\\n",
    ".option(\"path\", \"/user/itv015970/lendingclubproject/cleaned/loans_csv\") \\\n",
    ".save()"
   ]
  },
  {
   "cell_type": "code",
   "execution_count": 40,
   "id": "a780a2a9",
   "metadata": {},
   "outputs": [],
   "source": [
    "loan_purpose_modifed_df.write \\\n",
    ".format(\"parquet\") \\\n",
    ".mode(\"overwrite\") \\\n",
    ".option(\"path\", \"/user/itv015970/lendingclubproject/cleaned/loans_parquet\") \\\n",
    ".save()"
   ]
  },
  {
   "cell_type": "code",
   "execution_count": null,
   "id": "aefdbe86",
   "metadata": {},
   "outputs": [],
   "source": []
  }
 ],
 "metadata": {
  "kernelspec": {
   "display_name": "Pyspark 3",
   "language": "python",
   "name": "pyspark3"
  },
  "language_info": {
   "codemirror_mode": {
    "name": "ipython",
    "version": 3
   },
   "file_extension": ".py",
   "mimetype": "text/x-python",
   "name": "python",
   "nbconvert_exporter": "python",
   "pygments_lexer": "ipython3",
   "version": "3.6.12"
  }
 },
 "nbformat": 4,
 "nbformat_minor": 5
}
